{
 "cells": [
  {
   "cell_type": "code",
   "execution_count": 22,
   "metadata": {},
   "outputs": [
    {
     "name": "stderr",
     "output_type": "stream",
     "text": [
      "DEBUG:urllib3.connectionpool:https://huggingface.co:443 \"HEAD /bert-base-uncased/resolve/main/tokenizer_config.json HTTP/1.1\" 200 0\n",
      "DEBUG:urllib3.connectionpool:https://huggingface.co:443 \"HEAD /bert-base-uncased/resolve/main/config.json HTTP/1.1\" 200 0\n",
      "Some weights of the model checkpoint at bert-base-uncased were not used when initializing BertForMaskedLM: ['bert.pooler.dense.weight', 'cls.seq_relationship.bias', 'bert.pooler.dense.bias', 'cls.seq_relationship.weight']\n",
      "- This IS expected if you are initializing BertForMaskedLM from the checkpoint of a model trained on another task or with another architecture (e.g. initializing a BertForSequenceClassification model from a BertForPreTraining model).\n",
      "- This IS NOT expected if you are initializing BertForMaskedLM from the checkpoint of a model that you expect to be exactly identical (initializing a BertForSequenceClassification model from a BertForSequenceClassification model).\n",
      "DEBUG:urllib3.connectionpool:https://huggingface.co:443 \"HEAD /bert-base-uncased/resolve/main/generation_config.json HTTP/1.1\" 404 0\n"
     ]
    }
   ],
   "source": [
    "from transformers import AutoTokenizer, AutoModelForMaskedLM\n",
    "import logging as log\n",
    "\n",
    "log.basicConfig(level=log.DEBUG)\n",
    "\n",
    "tokenizer = AutoTokenizer.from_pretrained(\"bert-base-uncased\")\n",
    "model = AutoModelForMaskedLM.from_pretrained(\"bert-base-uncased\")"
   ]
  },
  {
   "cell_type": "code",
   "execution_count": 17,
   "metadata": {},
   "outputs": [],
   "source": [
    "import sys\n",
    "sys.path.append('../')\n",
    "from baselines.utils import *\n",
    "import os"
   ]
  },
  {
   "cell_type": "code",
   "execution_count": 29,
   "metadata": {},
   "outputs": [],
   "source": [
    "train_data = load_data(os.path.join(cfg['DIR'], cfg['train_path']))"
   ]
  },
  {
   "cell_type": "code",
   "execution_count": 37,
   "metadata": {},
   "outputs": [],
   "source": [
    "hypothesis = get_hypothesis(train_data)"
   ]
  },
  {
   "cell_type": "code",
   "execution_count": 35,
   "metadata": {},
   "outputs": [
    {
     "data": {
      "text/plain": [
       "'('"
      ]
     },
     "execution_count": 35,
     "metadata": {},
     "output_type": "execute_result"
    }
   ],
   "source": [
    "train_data['documents'][0]['text'][535]"
   ]
  },
  {
   "cell_type": "code",
   "execution_count": 25,
   "metadata": {},
   "outputs": [
    {
     "name": "stderr",
     "output_type": "stream",
     "text": [
      "DEBUG:root:{'nda-11': \"receiving party shall not reverse engineer any objects which embody disclosing party's confidential information.\", 'nda-16': 'receiving party shall destroy or return some confidential information upon the termination of agreement.', 'nda-15': 'agreement shall not grant receiving party any right to confidential information.', 'nda-10': 'receiving party shall not disclose the fact that agreement was agreed or negotiated.', 'nda-2': 'confidential information shall only include technical information.', 'nda-1': 'all confidential information shall be expressly identified by the disclosing party.', 'nda-19': 'some obligations of agreement may survive termination of agreement.', 'nda-12': 'receiving party may independently develop information similar to confidential information.', 'nda-20': 'receiving party may retain some confidential information even after the return or destruction of confidential information.', 'nda-3': 'confidential information may include verbally conveyed information.', 'nda-18': \"receiving party shall not solicit some of disclosing party's representatives.\", 'nda-7': 'receiving party may share some confidential information with some third-parties (including consultants, agents and professional advisors).', 'nda-17': 'receiving party may create a copy of some confidential information in some circumstances.', 'nda-8': 'receiving party shall notify disclosing party in case receiving party is required by law, regulation or judicial process to disclose any confidential information.', 'nda-13': 'receiving party may acquire information similar to confidential information from a third party.', 'nda-5': \"receiving party may share some confidential information with some of receiving party's employees.\", 'nda-4': 'receiving party shall not use any confidential information for any purpose other than the purposes stated in agreement.'}\n"
     ]
    }
   ],
   "source": [
    "log.debug(hypothesis)"
   ]
  },
  {
   "cell_type": "code",
   "execution_count": 65,
   "metadata": {},
   "outputs": [
    {
     "ename": "ModuleNotFoundError",
     "evalue": "No module named 'icecream'",
     "output_type": "error",
     "traceback": [
      "\u001b[0;31m---------------------------------------------------------------------------\u001b[0m",
      "\u001b[0;31mModuleNotFoundError\u001b[0m                       Traceback (most recent call last)",
      "\u001b[1;32m/home2/shu7bh/Courses/ANLP/Project/Contract-NLI/source_code/span_nli_bert.ipynb Cell 7\u001b[0m line \u001b[0;36m1\n\u001b[0;32m----> <a href='vscode-notebook-cell://ssh-remote%2Bgnode074/home2/shu7bh/Courses/ANLP/Project/Contract-NLI/source_code/span_nli_bert.ipynb#X22sdnNjb2RlLXJlbW90ZQ%3D%3D?line=0'>1</a>\u001b[0m \u001b[39mfrom\u001b[39;00m \u001b[39micecream\u001b[39;00m \u001b[39mimport\u001b[39;00m ic\n",
      "\u001b[0;31mModuleNotFoundError\u001b[0m: No module named 'icecream'"
     ]
    }
   ],
   "source": [
    "from icecream import ic"
   ]
  },
  {
   "cell_type": "code",
   "execution_count": 69,
   "metadata": {},
   "outputs": [],
   "source": [
    "from torch.utils.data import Dataset\n",
    "\n",
    "class NLIDataset(Dataset):\n",
    "    def __init__(self, data, tokenizer, hypothesis, max_len = 475):\n",
    "        self.data = data\n",
    "        self.tokenizer = tokenizer\n",
    "        self.hypothesis = hypothesis\n",
    "        self.max_len = max_len\n",
    "        self.spans = []\n",
    "\n",
    "        for i, doc in enumerate(self.data['documents']):\n",
    "            for j, span in enumerate(doc['spans']):\n",
    "                self.spans.append({\n",
    "                    'doc_id': i,\n",
    "                    'span_id': j,\n",
    "                    'text': doc['text'][span[0]:span[1]]\n",
    "                })\n",
    "\n",
    "        self.data_points = []\n",
    "        self.y = []\n",
    "\n",
    "        print(self.spans[0]['span_id'])\n",
    "\n",
    "        for key, val in self.hypothesis.items():\n",
    "            for span in self.spans:\n",
    "                self.y.append(int(span['span_id'] in self.data['documents'][span['doc_id']]['annotation_sets'][0]['annotations'][key]['spans']))\n",
    "                self.data_points.append({\n",
    "                    'hypotheis': val,\n",
    "                    'premise': span['text']\n",
    "                })\n",
    "\n",
    "        self.tokenized_data = self.tokenizer(\n",
    "            [data_point['hypotheis'] for data_point in self.data_points],\n",
    "            [data_point['premise'] for data_point in self.data_points],\n",
    "            padding='max_length',\n",
    "            truncation=True,\n",
    "            return_tensors='pt',\n",
    "        )\n",
    "        \n",
    "    def __len__(self):\n",
    "        return len(self.data)\n",
    "\n",
    "    # def __getitem__(self, index):"
   ]
  },
  {
   "cell_type": "code",
   "execution_count": 70,
   "metadata": {},
   "outputs": [],
   "source": [
    "# text = \"I love Adelaide!\"\n",
    "# # add_special_tokens=True is set by default\n",
    "# text_enc = tokenizer.encode(text, text, padding='max_length', return_tensors='pt')\n",
    "\n",
    "# log.debug(text_enc.shape)\n",
    "\n",
    "# for tok in text_enc:\n",
    "#     print(tok, tokenizer.decode(tok))"
   ]
  },
  {
   "cell_type": "code",
   "execution_count": 71,
   "metadata": {},
   "outputs": [
    {
     "name": "stdout",
     "output_type": "stream",
     "text": [
      "0\n"
     ]
    }
   ],
   "source": [
    "nliDataset = NLIDataset(train_data, tokenizer, hypothesis)"
   ]
  },
  {
   "cell_type": "code",
   "execution_count": null,
   "metadata": {},
   "outputs": [],
   "source": []
  }
 ],
 "metadata": {
  "kernelspec": {
   "display_name": "Python 3",
   "language": "python",
   "name": "python3"
  },
  "language_info": {
   "codemirror_mode": {
    "name": "ipython",
    "version": 3
   },
   "file_extension": ".py",
   "mimetype": "text/x-python",
   "name": "python",
   "nbconvert_exporter": "python",
   "pygments_lexer": "ipython3",
   "version": "3.11.5"
  },
  "orig_nbformat": 4
 },
 "nbformat": 4,
 "nbformat_minor": 2
}
