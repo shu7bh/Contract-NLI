{
 "cells": [
  {
   "cell_type": "code",
   "execution_count": 1,
   "metadata": {},
   "outputs": [],
   "source": [
    "from transformers import AutoTokenizer, AutoModelForMaskedLM\n",
    "import logging as log\n",
    "log.basicConfig(level=log.DEBUG)"
   ]
  },
  {
   "cell_type": "code",
   "execution_count": 2,
   "metadata": {},
   "outputs": [],
   "source": [
    "import sys\n",
    "sys.path.append('../')\n",
    "from baselines.utils import *\n",
    "import os\n",
    "\n",
    "os.environ['CUDA_LAUNCH_BLOCKING'] = '1'\n",
    "\n",
    "os.environ['WANDB_ENTITY'] = 'contract-nli-db'\n",
    "os.environ['WANDB_PROJECT'] = 'contract-nli-metric'\n",
    "os.environ['WANDB_LOG_MODEL'] = 'end'"
   ]
  },
  {
   "cell_type": "code",
   "execution_count": 3,
   "metadata": {},
   "outputs": [
    {
     "name": "stderr",
     "output_type": "stream",
     "text": [
      "/home/ayush/miniforge-pypy3/envs/nli/lib/python3.11/site-packages/torch/cuda/__init__.py:546: UserWarning: Can't initialize NVML\n",
      "  warnings.warn(\"Can't initialize NVML\")\n",
      "INFO:torch.distributed.nn.jit.instantiator:Created a temporary directory at /tmp/tmpzo8acc1k\n",
      "INFO:torch.distributed.nn.jit.instantiator:Writing /tmp/tmpzo8acc1k/_remote_module_non_scriptable.py\n"
     ]
    }
   ],
   "source": [
    "from ipynb.fs.defs.contract_nli_bert_train import *"
   ]
  },
  {
   "cell_type": "code",
   "execution_count": 4,
   "metadata": {},
   "outputs": [
    {
     "data": {
      "text/plain": [
       "device(type='cpu')"
      ]
     },
     "execution_count": 4,
     "metadata": {},
     "output_type": "execute_result"
    }
   ],
   "source": [
    "import torch\n",
    "\n",
    "DEVICE = torch.device('cuda') if torch.cuda.is_available() else torch.device('cpu')\n",
    "DEVICE"
   ]
  },
  {
   "cell_type": "code",
   "execution_count": 5,
   "metadata": {},
   "outputs": [
    {
     "data": {
      "text/plain": [
       "{'raw_data_dir': '../dataset/',\n",
       " 'train_path': 'train.json',\n",
       " 'test_path': 'test.json',\n",
       " 'dev_path': 'dev.json',\n",
       " 'model_name': 'bert-base-uncased',\n",
       " 'max_length': 512,\n",
       " 'models_save_dir': './scratch/shu7bh/contract_nli/models',\n",
       " 'dataset_dir': './scratch/shu7bh/contract_nli/dataset',\n",
       " 'results_dir': './scratch/shu7bh/contract_nli/results',\n",
       " 'trained_model_dir': './scratch/shu7bh/contract_nli/trained_model/',\n",
       " 'batch_size': 32}"
      ]
     },
     "execution_count": 5,
     "metadata": {},
     "output_type": "execute_result"
    }
   ],
   "source": [
    "# cfg['model_name'] = 'nlpaueb/legal-bert-base-uncased'\n",
    "cfg['model_name'] = 'bert-base-uncased'\n",
    "cfg['trained_model_dir'] = './scratch/shu7bh/contract_nli/trained_model/'\n",
    "cfg['batch_size'] = 32\n",
    "cfg"
   ]
  },
  {
   "cell_type": "code",
   "execution_count": 6,
   "metadata": {},
   "outputs": [],
   "source": [
    "# create dir if not exists\n",
    "from pathlib import Path\n",
    "Path(cfg[\"models_save_dir\"]).mkdir(parents=True, exist_ok=True)\n",
    "Path(cfg[\"dataset_dir\"]).mkdir(parents=True, exist_ok=True)"
   ]
  },
  {
   "cell_type": "code",
   "execution_count": 7,
   "metadata": {},
   "outputs": [
    {
     "name": "stderr",
     "output_type": "stream",
     "text": [
      "DEBUG:urllib3.connectionpool:Starting new HTTPS connection (1): huggingface.co:443\n",
      "DEBUG:urllib3.connectionpool:https://huggingface.co:443 \"HEAD /bert-base-uncased/resolve/main/tokenizer_config.json HTTP/1.1\" 200 0\n"
     ]
    }
   ],
   "source": [
    "tokenizer = AutoTokenizer.from_pretrained(cfg['model_name'])"
   ]
  },
  {
   "cell_type": "code",
   "execution_count": 8,
   "metadata": {},
   "outputs": [],
   "source": [
    "from icecream import ic"
   ]
  },
  {
   "cell_type": "code",
   "execution_count": 9,
   "metadata": {},
   "outputs": [
    {
     "name": "stderr",
     "output_type": "stream",
     "text": [
      "/home/ayush/ANLP/Project/Contract-NLI/source_code/contract_nli_bert_train.ipynb:137: UserWarning: To copy construct from a tensor, it is recommended to use sourceTensor.clone().detach() or sourceTensor.clone().detach().requires_grad_(True), rather than torch.tensor(sourceTensor).\n",
      "  \"metadata\": {},\n"
     ]
    }
   ],
   "source": [
    "train_data = load_data(os.path.join(cfg['raw_data_dir'], cfg['train_path']))\n",
    "dev_data = load_data(os.path.join(cfg['raw_data_dir'], cfg['dev_path']))\n",
    "test_data = load_data(os.path.join(cfg['raw_data_dir'], cfg['test_path']))\n",
    "\n",
    "hypothesis = get_hypothesis(train_data)\n",
    "\n",
    "train_data = train_data['documents']\n",
    "dev_data = dev_data['documents']\n",
    "test_data = test_data['documents']\n",
    "\n",
    "train_data = train_data[:2]\n",
    "dev_data = dev_data[:2]\n",
    "test_data = test_data[:2]\n",
    "\n",
    "ic.disable()\n",
    "\n",
    "ic(len(train_data), len(dev_data), len(test_data))\n",
    "train_dataset = NLIDataset(train_data, tokenizer, hypothesis, [1000, 1100, 1200, 1500], 50)\n",
    "dev_dataset = NLIDataset(dev_data, tokenizer, hypothesis, [1000, 1100, 1200, 1500], 50)\n",
    "test_dataset = NLIDataset(test_data, tokenizer, hypothesis, [1000, 1100, 1200, 1500], 50)\n",
    "\n",
    "ic.enable()\n",
    "\n",
    "del train_data\n",
    "del dev_data\n",
    "del test_data\n",
    "del hypothesis"
   ]
  },
  {
   "cell_type": "code",
   "execution_count": 10,
   "metadata": {},
   "outputs": [
    {
     "name": "stdout",
     "output_type": "stream",
     "text": [
      "1734\n",
      "3026\n",
      "2346\n"
     ]
    }
   ],
   "source": [
    "print(len(train_dataset))\n",
    "print(len(dev_dataset))\n",
    "print(len(test_dataset))\n"
   ]
  },
  {
   "cell_type": "code",
   "execution_count": 11,
   "metadata": {},
   "outputs": [],
   "source": [
    "# nli_weights, span_weight = get_class_weights(train_dataset)"
   ]
  },
  {
   "cell_type": "code",
   "execution_count": 17,
   "metadata": {},
   "outputs": [],
   "source": [
    "# nli_weights, span_weight"
   ]
  },
  {
   "cell_type": "code",
   "execution_count": 18,
   "metadata": {},
   "outputs": [],
   "source": [
    "from sklearn.metrics import precision_recall_curve\n",
    "import numpy as np\n",
    "def get_micro_average_precision_at_recall(y_true, y_pred, recall_level):\n",
    "    precision, recall, _ = precision_recall_curve(y_true, y_pred)\n",
    "    return np.interp(recall_level, recall[::-1], precision[::-1])"
   ]
  },
  {
   "cell_type": "code",
   "execution_count": 19,
   "metadata": {},
   "outputs": [],
   "source": [
    "# Import numpy and sklearn.metrics\n",
    "import numpy as np\n",
    "from sklearn.metrics import precision_recall_curve\n",
    "from sklearn.metrics import precision_score\n",
    "def calculate_micro_average_precision(y_true, y_pred):\n",
    "    \"\"\"Calculate the micro average precision score.\n",
    "\n",
    "    Args:\n",
    "        y_true (np.array): True labels.\n",
    "        y_pred (np.array): Predicted labels.\n",
    "\n",
    "    Returns:\n",
    "        float: Micro average precision score.\n",
    "    \"\"\"\n",
    "    # Get the number of classes\n",
    "    num_classes = len(np.unique(y_true))\n",
    "    \n",
    "    if num_classes == 0:\n",
    "        return 0.0\n",
    "\n",
    "    # initialize the average precision score\n",
    "    average_precision = 0.0\n",
    "\n",
    "    # loop over all classes\n",
    "    for class_idx in range(num_classes):\n",
    "        # get the indices for this class\n",
    "        y_true_indices = np.where(y_true == class_idx)\n",
    "        # calculate the average precision score for this class\n",
    "        average_precision += ic(precision_score(\n",
    "            y_true[y_true_indices], y_pred[y_true_indices], average=\"micro\"\n",
    "        ))\n",
    "\n",
    "    # return the average over all classes\n",
    "    return average_precision / num_classes"
   ]
  },
  {
   "cell_type": "code",
   "execution_count": 20,
   "metadata": {},
   "outputs": [],
   "source": [
    "from sklearn.metrics import f1_score\n",
    "def calculate_f1_score_for_class(y_true, y_pred, class_idx):\n",
    "    \"\"\"Calculate the F1 score for a given class.\n",
    "\n",
    "    Args:\n",
    "        y_true (np.array): True labels.\n",
    "        y_pred (np.array): Predicted labels.\n",
    "        class_idx (int): Index of the class.\n",
    "\n",
    "    Returns:\n",
    "        float: F1 score for the given class.\n",
    "    \"\"\"\n",
    "    # get the indices for the given class\n",
    "    y_true_indices = np.where(y_true == class_idx)\n",
    "    # calculate the F1 score for the given class\n",
    "    return f1_score(\n",
    "        y_true[y_true_indices], y_pred[y_true_indices], average=\"macro\"\n",
    "    )"
   ]
  },
  {
   "cell_type": "code",
   "execution_count": null,
   "metadata": {},
   "outputs": [],
   "source": [
    "def precision_at_recall(y_true, y_scores, recall_threshold):\n",
    "    precision, recall, threshold = precision_recall_curve(y_true, y_scores)\n",
    "    idx = (np.abs(recall - recall_threshold)).argmin()  # Find nearest recall value to threshold\n",
    "    # ic(threshold[idx])\n",
    "    return precision[idx]"
   ]
  },
  {
   "cell_type": "code",
   "execution_count": 21,
   "metadata": {},
   "outputs": [],
   "source": [
    "from transformers import TrainingArguments\n",
    "\n",
    "training_args = TrainingArguments(\n",
    "    auto_find_batch_size=True,\n",
    "    output_dir=cfg['results_dir'],   # output directory\n",
    "    num_train_epochs=10,            # total number of training epochs\n",
    "    gradient_accumulation_steps=4,   # number of updates steps to accumulate before performing a backward/update pass\n",
    "    logging_strategy='epoch',\n",
    "    # eval_steps=0.25,\n",
    "    # save_steps=0.25,\n",
    "    evaluation_strategy='epoch',\n",
    "    save_strategy='epoch',\n",
    "    save_total_limit=2,\n",
    "    load_best_model_at_end=True,\n",
    "    # fp16=True,\n",
    "    label_names=['nli_label', 'span_labels', 'data_for_metrics'],\n",
    "    report_to='none',\n",
    ")"
   ]
  },
  {
   "cell_type": "code",
   "execution_count": 22,
   "metadata": {},
   "outputs": [
    {
     "data": {
      "text/plain": [
       "'./scratch/shu7bh/contract_nli/trained_model/'"
      ]
     },
     "execution_count": 22,
     "metadata": {},
     "output_type": "execute_result"
    }
   ],
   "source": [
    "cfg['trained_model_dir']"
   ]
  },
  {
   "cell_type": "code",
   "execution_count": 23,
   "metadata": {},
   "outputs": [],
   "source": [
    "from transformers import EarlyStoppingCallback"
   ]
  },
  {
   "cell_type": "code",
   "execution_count": 24,
   "metadata": {},
   "outputs": [
    {
     "name": "stderr",
     "output_type": "stream",
     "text": [
      "DEBUG:git.cmd:Popen(['git', 'version'], cwd=/home/ayush/ANLP/Project/Contract-NLI/source_code, universal_newlines=False, shell=None, istream=None)\n",
      "DEBUG:git.cmd:Popen(['git', 'version'], cwd=/home/ayush/ANLP/Project/Contract-NLI/source_code, universal_newlines=False, shell=None, istream=None)\n",
      "DEBUG:wandb.docker.auth:Trying paths: ['/home/ayush/.docker/config.json', '/home/ayush/.dockercfg']\n",
      "DEBUG:wandb.docker.auth:No config file found\n",
      "DEBUG:sentry_sdk.errors:[Tracing] Create new propagation context: {'trace_id': '60faf9a9a51643e5b9bf1e5a84fe0729', 'span_id': '8fe7168d135a87e1', 'parent_span_id': None, 'dynamic_sampling_context': None}\n",
      "DEBUG:urllib3.connectionpool:Starting new HTTPS connection (1): api.wandb.ai:443\n",
      "DEBUG:urllib3.connectionpool:https://api.wandb.ai:443 \"POST /graphql HTTP/1.1\" 200 253\n",
      "DEBUG:urllib3.connectionpool:Starting new HTTPS connection (1): api.wandb.ai:443\n",
      "DEBUG:urllib3.connectionpool:https://api.wandb.ai:443 \"POST /graphql HTTP/1.1\" 200 362\n",
      "DEBUG:urllib3.connectionpool:https://api.wandb.ai:443 \"POST /graphql HTTP/1.1\" 200 515\n",
      "DEBUG:urllib3.connectionpool:Starting new HTTPS connection (1): storage.googleapis.com:443\n",
      "DEBUG:urllib3.connectionpool:https://storage.googleapis.com:443 \"GET /wandb-production.appspot.com/contract-nli-db/contract-nli/3xtagn3w/artifact/627914806/wandb_manifest.json?Expires=1699104298&GoogleAccessId=gorilla-files-url-signer-man%40wandb-production.iam.gserviceaccount.com&Signature=mL0bs9QWE67TFfnCNs8OexYOU8OToivNJ4H1rfU%2B7St6HYdaUa%2BIk7b59xIElZ6etstZvMnkiIYGQ2m1rDPKPdFJT1p4Xuc4JbfZhzLLHtnTMvIf6Qr8fp9FZw9zXiY9ice9rq1ONfHtw2JHT%2Fm2MEJOKw0RSoILssMlsLOLYQD4m8RmIUWeLhKdowjyl1kL1%2Bl6pqQ7%2F9pCOnO03Negq7OGCZCdW5jG2dURwFb4Z0vrF7Y3GMlDGfxoyY92wNBhXbEdz6IPOhEUB8HJ1%2FDir0WeyrW8QFN2Hevw02EYW7Pk%2BCWHkLPxfouZaXt%2BX0PVfhfAXwyD8bRI6QshI5MKgA%3D%3D HTTP/1.1\" 200 684\n",
      "\u001b[34m\u001b[1mwandb\u001b[0m: Downloading large artifact model-3xtagn3w:v0, 471.79MB. 3 files... \n",
      "DEBUG:urllib3.connectionpool:https://api.wandb.ai:443 \"POST /graphql HTTP/1.1\" 200 1257\n",
      "\u001b[34m\u001b[1mwandb\u001b[0m:   3 of 3 files downloaded.  \n",
      "Done. 0:0:1.1\n",
      "DEBUG:urllib3.connectionpool:https://huggingface.co:443 \"HEAD /bert-base-uncased/resolve/main/config.json HTTP/1.1\" 200 0\n"
     ]
    }
   ],
   "source": [
    "import wandb\n",
    "api = wandb.Api()\n",
    "artifact = api.artifact('contract-nli-db/contract-nli/model-3xtagn3w:v0', type='model')\n",
    "artifact_dir = artifact.download(cfg['trained_model_dir'])\n",
    "\n",
    "model = ContractNLI.from_pretrained(artifact_dir).to(DEVICE)"
   ]
  },
  {
   "cell_type": "code",
   "execution_count": 25,
   "metadata": {},
   "outputs": [
    {
     "data": {
      "text/plain": [
       "'./scratch/shu7bh/contract_nli/trained_model/'"
      ]
     },
     "execution_count": 25,
     "metadata": {},
     "output_type": "execute_result"
    }
   ],
   "source": [
    "artifact_dir"
   ]
  },
  {
   "cell_type": "code",
   "execution_count": 51,
   "metadata": {},
   "outputs": [],
   "source": [
    "from transformers import Trainer\n",
    "from sklearn.metrics import accuracy_score\n",
    "from sklearn.metrics import average_precision_score\n",
    "from tqdm import tqdm\n",
    "import numpy as np\n",
    "\n",
    "class ContractNLIMetricTrainer(ContractNLITrainer):\n",
    "    def __init__(self, *args, data_collator=None, **kwargs):\n",
    "        super().__init__(*args, data_collator=data_collator, **kwargs)\n",
    "\n",
    "    def evaluate(self, eval_dataset=None, ignore_keys=None):\n",
    "        ic(eval_dataset)\n",
    "        self.model.eval()\n",
    "        self.dataloader = ic(self.get_eval_dataloader(eval_dataset))\n",
    "\n",
    "        eval_nli_labels = []\n",
    "        eval_nli_preds = []\n",
    "\n",
    "        for inputs in tqdm(self.dataloader):\n",
    "            inputs = self._prepare_inputs(inputs)\n",
    "            ic(inputs['input_ids'].shape)\n",
    "            span_labels = inputs.pop('span_labels')\n",
    "            nli_labels = inputs.pop('nli_label')\n",
    "            data_for_metrics = inputs.pop('data_for_metrics')\n",
    "            ic(nli_labels)\n",
    "            ic(span_labels)\n",
    "            ic(data_for_metrics)\n",
    "\n",
    "            span_indices_to_consider = torch.where(span_labels != -1)[0]\n",
    "            ic(span_indices_to_consider)\n",
    "\n",
    "            with torch.no_grad():\n",
    "                outputs = self.model(**inputs)\n",
    "                span_logits, nli_logits = outputs[0], outputs[1]\n",
    "\n",
    "\n",
    "                \n",
    "                \n",
    "                span_labels = span_labels.float()\n",
    "                span_logits = span_logits.float()\n",
    "                \n",
    "                span_labels = span_labels.view(-1)\n",
    "                span_logits = span_logits.view(-1)\n",
    "\n",
    "                # start_index = 0\n",
    "                \n",
    "                indices_considered = 0 # total number of span indices considered\n",
    "\n",
    "                probs_per_span = {}\n",
    "                true_labels_per_span = {}\n",
    "                # find the corresponding span index in data_for_metrics['span_ids'] considering -1 to be padding index\n",
    "                # ic(span_index)\n",
    "                for i, span_index_row in enumerate(data_for_metrics['span_ids']):\n",
    "                    current_index = 0 # current row's first -1 index\n",
    "                    ic(span_index_row)\n",
    "                    first_minus_one_index = torch.where(span_index_row == -1)[0]\n",
    "                    ic(first_minus_one_index)\n",
    "                    if len(first_minus_one_index) == 0:\n",
    "                        first_minus_one_index = len(span_index_row)\n",
    "                    else:\n",
    "                        first_minus_one_index = first_minus_one_index[0].item()\n",
    "                    \n",
    "                    current_index = first_minus_one_index\n",
    "                    indices_considered += current_index\n",
    "                    ic(indices_considered)\n",
    "                    ic(current_index)\n",
    "                    cnt = 0 # count to keep track of the number of span indices added in dictionary\n",
    "                    \n",
    "                    for span_index in span_indices_to_consider:\n",
    "\n",
    "                        if span_index < indices_considered:\n",
    "                            cnt += 1\n",
    "                            value_index = span_index - (indices_considered - current_index)\n",
    "                            doc_id = data_for_metrics['doc_id'][i]\n",
    "                            hypothesis_id = data_for_metrics['hypothesis_id'][i]\n",
    "                            span_id = data_for_metrics['span_ids'][i][value_index]\n",
    "                            key = str(doc_id)+ '-' + str(hypothesis_id)+ '-' + str(span_id)\n",
    "                            true_labels_per_span[key] = span_labels[span_index]\n",
    "                            if key in probs_per_span:\n",
    "                                probs_per_span[key].append(torch.sigmoid(span_logits[span_index]))\n",
    "                                # probs_per_span[key].append(span_logits[value_index])\n",
    "                            else:\n",
    "                                probs_per_span[key] = [torch.sigmoid(span_logits[span_index])]\n",
    "                                # probs_per_span[key] = [span_logits[value_index]]\n",
    "                        else: \n",
    "                            break \n",
    "                    \n",
    "                    span_indices_to_consider = span_indices_to_consider[cnt:]\n",
    "\n",
    "                # eval_span_preds = torch.tensor(eval_span_preds.squeeze(1), dtype=torch.long)\n",
    "                nli_preds = torch.argmax(torch.softmax(nli_logits, dim=1), dim=1)\n",
    "\n",
    "                eval_nli_labels.extend(nli_labels.cpu().numpy())\n",
    "                eval_nli_preds.extend(nli_preds.cpu().numpy())\n",
    "\n",
    "\n",
    "        eval_nli_acc = accuracy_score(eval_nli_labels, eval_nli_preds)\n",
    "        eval_span_labels = []\n",
    "        eval_span_preds = []\n",
    "\n",
    "        for key in true_labels_per_span:\n",
    "            eval_span_labels.append(true_labels_per_span[key].item())\n",
    "            eval_span_preds.append(torch.mean(torch.stack(probs_per_span[key])).item())\n",
    "        \n",
    "        ic.enable()\n",
    "        ic(len(eval_span_labels), len(eval_span_preds))\n",
    "\n",
    "        ic(sum(eval_span_labels), sum(eval_span_preds))\n",
    "\n",
    "        # find threshold for 80% recall\n",
    "        # precision, recall, thresholds = precision_recall_curve(eval_span_labels, eval_span_preds)\n",
    "\n",
    "\n",
    "        mAP = (average_precision_score(eval_span_labels, eval_span_preds, pos_label=0) + average_precision_score(eval_span_labels, eval_span_preds, pos_label=1))/2\n",
    "\n",
    "        # mAP = average_precision_score(torch.tensor(true_span_labels), torch.tensor(pred_span_labels))\n",
    "        precision_at_80_recall = precision_at_recall(torch.tensor(eval_span_labels), torch.tensor(eval_span_preds), 0.8)\n",
    "        f1_score_for_entailment = calculate_f1_score_for_class(torch.tensor(eval_nli_labels), torch.tensor(eval_nli_preds), get_labels()['Entailment'])\n",
    "        f1_score_for_contradiction = calculate_f1_score_for_class(torch.tensor(eval_nli_labels), torch.tensor(eval_nli_preds), get_labels()['Contradiction'])\n",
    "        \n",
    "        return {\n",
    "            'mAP' : mAP,\n",
    "            'precision_at_80_recall' : precision_at_80_recall,\n",
    "            'nli_acc': eval_nli_acc,\n",
    "            'f1_score_for_entailment': f1_score_for_entailment,\n",
    "            'f1_score_for_contradiction': f1_score_for_contradiction\n",
    "        }"
   ]
  },
  {
   "cell_type": "code",
   "execution_count": 52,
   "metadata": {},
   "outputs": [
    {
     "name": "stderr",
     "output_type": "stream",
     "text": [
      "/home/ayush/miniforge-pypy3/envs/nli/lib/python3.11/site-packages/transformers/trainer.py:366: FutureWarning: `Trainer` requires either a `model` or `model_init` argument, but not both. `model_init` will overwrite your model when calling the `train` method. This will become a fatal error in the next release.\n",
      "  warnings.warn(\n"
     ]
    }
   ],
   "source": [
    "trainer = ContractNLIMetricTrainer(\n",
    "    model=model,                          # the instantiated 🤗 Transformers model to be trained\n",
    "    args=training_args,                  # training arguments, defined above\n",
    "    train_dataset=train_dataset,         # training dataset\n",
    "    eval_dataset=dev_dataset,            # evaluation dataset\n",
    "    data_collator=ContractNLIMetricTrainer.collate_fn,\n",
    "    callbacks=[EarlyStoppingCallback(early_stopping_patience=2, early_stopping_threshold=0.001)],\n",
    "    model_init=model_init,\n",
    ")"
   ]
  },
  {
   "cell_type": "code",
   "execution_count": 57,
   "metadata": {},
   "outputs": [
    {
     "name": "stderr",
     "output_type": "stream",
     "text": [
      "ic| mean_sigmoid_logits: tensor(0.6584)"
     ]
    },
    {
     "name": "stderr",
     "output_type": "stream",
     "text": [
      "\n",
      "ic| sigmoid_mean_logits: tensor(0.9644)\n"
     ]
    },
    {
     "data": {
      "text/plain": [
       "tensor(0.9644)"
      ]
     },
     "execution_count": 57,
     "metadata": {},
     "output_type": "execute_result"
    }
   ],
   "source": [
    "# logits = torch.tensor([10, 0.2, -0.3])\n",
    "# sigmoid_logits = torch.sigmoid(logits)\n",
    "\n",
    "# mean_sigmoid_logits = torch.mean(sigmoid_logits)\n",
    "# mean_logits = torch.mean(logits)\n",
    "# sigmoid_mean_logits = torch.sigmoid(mean_logits)\n",
    "# ic.enable()\n",
    "# ic(mean_sigmoid_logits)\n",
    "# ic(sigmoid_mean_logits)"
   ]
  },
  {
   "cell_type": "code",
   "execution_count": 61,
   "metadata": {},
   "outputs": [
    {
     "name": "stderr",
     "output_type": "stream",
     "text": [
      "ic| average_precision_score(y_true, y_scores, pos_label=0): 0.4988095238095238\n",
      "ic| average_precision_score(y_true, y_scores): 0.6763888888888888\n"
     ]
    },
    {
     "data": {
      "text/plain": [
       "0.6763888888888888"
      ]
     },
     "execution_count": 61,
     "metadata": {},
     "output_type": "execute_result"
    }
   ],
   "source": [
    "# from sklearn.metrics import precision_recall_curve\n",
    "\n",
    "# def precision_at_recall(y_true, y_scores, recall_threshold):\n",
    "#     precision, recall, threshold = precision_recall_curve(y_true, y_scores)\n",
    "#     idx = (np.abs(recall - recall_threshold)).argmin()  # Find nearest recall value to threshold\n",
    "#     # ic(threshold[idx])\n",
    "#     return precision[idx]\n",
    "\n",
    "# y_true = np.array([0, 1, 1, 0, 1, 1, 1, 0, 0, 1])\n",
    "# y_scores = np.array([0.1, 0.2, 0.3, 0.4, 0.5, 0.55, 0.6, 0.7, 0.8, 0.9])\n",
    "# recall_threshold = 0.8\n",
    "# precision_at_recall(y_true, y_scores, recall_threshold)\n",
    "\n",
    "# # calculate average precision score for a given class\n",
    "# from sklearn.metrics import average_precision_score\n",
    "\n",
    "# y_true = np.array([0, 1, 1, 0, 1, 1, 1, 0, 0, 1])\n",
    "# y_scores = np.array([0.1, 0.2, 0.3, 0.4, 0.5, 0.55, 0.6, 0.7, 0.8, 0.9])\n",
    "\n",
    "# ic(average_precision_score(y_true, y_scores, pos_label=0))\n",
    "# ic(average_precision_score(y_true, y_scores))"
   ]
  },
  {
   "cell_type": "code",
   "execution_count": null,
   "metadata": {},
   "outputs": [],
   "source": []
  },
  {
   "cell_type": "code",
   "execution_count": 53,
   "metadata": {},
   "outputs": [
    {
     "name": "stderr",
     "output_type": "stream",
     "text": [
      "  3%|▎         | 12/379 [01:49<56:00,  9.16s/it]\n"
     ]
    },
    {
     "ename": "KeyboardInterrupt",
     "evalue": "",
     "output_type": "error",
     "traceback": [
      "\u001b[0;31m---------------------------------------------------------------------------\u001b[0m",
      "\u001b[0;31mKeyboardInterrupt\u001b[0m                         Traceback (most recent call last)",
      "\u001b[1;32m/home/ayush/ANLP/Project/Contract-NLI/source_code/contract_nli_bert_metric.ipynb Cell 23\u001b[0m line \u001b[0;36m3\n\u001b[1;32m      <a href='vscode-notebook-cell:/home/ayush/ANLP/Project/Contract-NLI/source_code/contract_nli_bert_metric.ipynb#X31sZmlsZQ%3D%3D?line=0'>1</a>\u001b[0m ic\u001b[39m.\u001b[39mdisable()\n\u001b[1;32m      <a href='vscode-notebook-cell:/home/ayush/ANLP/Project/Contract-NLI/source_code/contract_nli_bert_metric.ipynb#X31sZmlsZQ%3D%3D?line=1'>2</a>\u001b[0m \u001b[39m# ic.enable()\u001b[39;00m\n\u001b[0;32m----> <a href='vscode-notebook-cell:/home/ayush/ANLP/Project/Contract-NLI/source_code/contract_nli_bert_metric.ipynb#X31sZmlsZQ%3D%3D?line=2'>3</a>\u001b[0m results \u001b[39m=\u001b[39m trainer\u001b[39m.\u001b[39;49mevaluate()\n\u001b[1;32m      <a href='vscode-notebook-cell:/home/ayush/ANLP/Project/Contract-NLI/source_code/contract_nli_bert_metric.ipynb#X31sZmlsZQ%3D%3D?line=3'>4</a>\u001b[0m results\n",
      "\u001b[1;32m/home/ayush/ANLP/Project/Contract-NLI/source_code/contract_nli_bert_metric.ipynb Cell 23\u001b[0m line \u001b[0;36m3\n\u001b[1;32m     <a href='vscode-notebook-cell:/home/ayush/ANLP/Project/Contract-NLI/source_code/contract_nli_bert_metric.ipynb#X31sZmlsZQ%3D%3D?line=29'>30</a>\u001b[0m ic(span_indices_to_consider)\n\u001b[1;32m     <a href='vscode-notebook-cell:/home/ayush/ANLP/Project/Contract-NLI/source_code/contract_nli_bert_metric.ipynb#X31sZmlsZQ%3D%3D?line=31'>32</a>\u001b[0m \u001b[39mwith\u001b[39;00m torch\u001b[39m.\u001b[39mno_grad():\n\u001b[0;32m---> <a href='vscode-notebook-cell:/home/ayush/ANLP/Project/Contract-NLI/source_code/contract_nli_bert_metric.ipynb#X31sZmlsZQ%3D%3D?line=32'>33</a>\u001b[0m     outputs \u001b[39m=\u001b[39m \u001b[39mself\u001b[39;49m\u001b[39m.\u001b[39;49mmodel(\u001b[39m*\u001b[39;49m\u001b[39m*\u001b[39;49minputs)\n\u001b[1;32m     <a href='vscode-notebook-cell:/home/ayush/ANLP/Project/Contract-NLI/source_code/contract_nli_bert_metric.ipynb#X31sZmlsZQ%3D%3D?line=33'>34</a>\u001b[0m     span_logits, nli_logits \u001b[39m=\u001b[39m outputs[\u001b[39m0\u001b[39m], outputs[\u001b[39m1\u001b[39m]\n\u001b[1;32m     <a href='vscode-notebook-cell:/home/ayush/ANLP/Project/Contract-NLI/source_code/contract_nli_bert_metric.ipynb#X31sZmlsZQ%3D%3D?line=38'>39</a>\u001b[0m     span_labels \u001b[39m=\u001b[39m span_labels\u001b[39m.\u001b[39mfloat()\n",
      "File \u001b[0;32m~/miniforge-pypy3/envs/nli/lib/python3.11/site-packages/torch/nn/modules/module.py:1501\u001b[0m, in \u001b[0;36mModule._call_impl\u001b[0;34m(self, *args, **kwargs)\u001b[0m\n\u001b[1;32m   1496\u001b[0m \u001b[39m# If we don't have any hooks, we want to skip the rest of the logic in\u001b[39;00m\n\u001b[1;32m   1497\u001b[0m \u001b[39m# this function, and just call forward.\u001b[39;00m\n\u001b[1;32m   1498\u001b[0m \u001b[39mif\u001b[39;00m \u001b[39mnot\u001b[39;00m (\u001b[39mself\u001b[39m\u001b[39m.\u001b[39m_backward_hooks \u001b[39mor\u001b[39;00m \u001b[39mself\u001b[39m\u001b[39m.\u001b[39m_backward_pre_hooks \u001b[39mor\u001b[39;00m \u001b[39mself\u001b[39m\u001b[39m.\u001b[39m_forward_hooks \u001b[39mor\u001b[39;00m \u001b[39mself\u001b[39m\u001b[39m.\u001b[39m_forward_pre_hooks\n\u001b[1;32m   1499\u001b[0m         \u001b[39mor\u001b[39;00m _global_backward_pre_hooks \u001b[39mor\u001b[39;00m _global_backward_hooks\n\u001b[1;32m   1500\u001b[0m         \u001b[39mor\u001b[39;00m _global_forward_hooks \u001b[39mor\u001b[39;00m _global_forward_pre_hooks):\n\u001b[0;32m-> 1501\u001b[0m     \u001b[39mreturn\u001b[39;00m forward_call(\u001b[39m*\u001b[39;49margs, \u001b[39m*\u001b[39;49m\u001b[39m*\u001b[39;49mkwargs)\n\u001b[1;32m   1502\u001b[0m \u001b[39m# Do not call functions when jit is used\u001b[39;00m\n\u001b[1;32m   1503\u001b[0m full_backward_hooks, non_full_backward_hooks \u001b[39m=\u001b[39m [], []\n",
      "File \u001b[0;32m~/ANLP/Project/Contract-NLI/source_code/contract_nli_bert_train.ipynb:374\u001b[0m, in \u001b[0;36mforward\u001b[0;34m(self, input_ids, attention_mask, token_type_ids, span_indices)\u001b[0m\n\u001b[1;32m      1\u001b[0m {\n\u001b[1;32m      2\u001b[0m  \u001b[39m\"\u001b[39m\u001b[39mcells\u001b[39m\u001b[39m\"\u001b[39m: [\n\u001b[1;32m      3\u001b[0m   {\n\u001b[1;32m      4\u001b[0m    \u001b[39m\"\u001b[39m\u001b[39mcell_type\u001b[39m\u001b[39m\"\u001b[39m: \u001b[39m\"\u001b[39m\u001b[39mcode\u001b[39m\u001b[39m\"\u001b[39m,\n\u001b[1;32m      5\u001b[0m    \u001b[39m\"\u001b[39m\u001b[39mexecution_count\u001b[39m\u001b[39m\"\u001b[39m: \u001b[39m33\u001b[39m,\n\u001b[1;32m      6\u001b[0m    \u001b[39m\"\u001b[39m\u001b[39mmetadata\u001b[39m\u001b[39m\"\u001b[39m: {},\n\u001b[1;32m      7\u001b[0m    \u001b[39m\"\u001b[39m\u001b[39moutputs\u001b[39m\u001b[39m\"\u001b[39m: [],\n\u001b[1;32m      8\u001b[0m    \u001b[39m\"\u001b[39m\u001b[39msource\u001b[39m\u001b[39m\"\u001b[39m: [\n\u001b[1;32m      9\u001b[0m     \u001b[39m\"\u001b[39m\u001b[39mfrom transformers import AutoTokenizer, AutoModelForMaskedLM\u001b[39m\u001b[39m\\n\u001b[39;00m\u001b[39m\"\u001b[39m,\n\u001b[1;32m     10\u001b[0m     \u001b[39m\"\u001b[39m\u001b[39mimport logging as log\u001b[39m\u001b[39m\\n\u001b[39;00m\u001b[39m\"\u001b[39m,\n\u001b[1;32m     11\u001b[0m     \u001b[39m\"\u001b[39m\u001b[39mlog.basicConfig(level=log.DEBUG)\u001b[39m\u001b[39m\"\u001b[39m\n\u001b[1;32m     12\u001b[0m    ]\n\u001b[1;32m     13\u001b[0m   },\n\u001b[1;32m     14\u001b[0m   {\n\u001b[1;32m     15\u001b[0m    \u001b[39m\"\u001b[39m\u001b[39mcell_type\u001b[39m\u001b[39m\"\u001b[39m: \u001b[39m\"\u001b[39m\u001b[39mcode\u001b[39m\u001b[39m\"\u001b[39m,\n\u001b[1;32m     16\u001b[0m    \u001b[39m\"\u001b[39m\u001b[39mexecution_count\u001b[39m\u001b[39m\"\u001b[39m: \u001b[39m34\u001b[39m,\n\u001b[1;32m     17\u001b[0m    \u001b[39m\"\u001b[39m\u001b[39mmetadata\u001b[39m\u001b[39m\"\u001b[39m: {},\n\u001b[1;32m     18\u001b[0m    \u001b[39m\"\u001b[39m\u001b[39moutputs\u001b[39m\u001b[39m\"\u001b[39m: [],\n\u001b[1;32m     19\u001b[0m    \u001b[39m\"\u001b[39m\u001b[39msource\u001b[39m\u001b[39m\"\u001b[39m: [\n\u001b[1;32m     20\u001b[0m     \u001b[39m\"\u001b[39m\u001b[39mimport sys\u001b[39m\u001b[39m\\n\u001b[39;00m\u001b[39m\"\u001b[39m,\n\u001b[1;32m     21\u001b[0m     \u001b[39m\"\u001b[39m\u001b[39msys.path.append(\u001b[39m\u001b[39m'\u001b[39m\u001b[39m../\u001b[39m\u001b[39m'\u001b[39m\u001b[39m)\u001b[39m\u001b[39m\\n\u001b[39;00m\u001b[39m\"\u001b[39m,\n\u001b[1;32m     22\u001b[0m     \u001b[39m\"\u001b[39m\u001b[39mfrom baselines.utils import *\u001b[39m\u001b[39m\\n\u001b[39;00m\u001b[39m\"\u001b[39m,\n\u001b[1;32m     23\u001b[0m     \u001b[39m\"\u001b[39m\u001b[39mimport os\u001b[39m\u001b[39m\\n\u001b[39;00m\u001b[39m\"\u001b[39m,\n\u001b[1;32m     24\u001b[0m     \u001b[39m\"\u001b[39m\u001b[39m\\n\u001b[39;00m\u001b[39m\"\u001b[39m,\n\u001b[1;32m     25\u001b[0m     \u001b[39m\"\u001b[39m\u001b[39mos.environ[\u001b[39m\u001b[39m'\u001b[39m\u001b[39mCUDA_LAUNCH_BLOCKING\u001b[39m\u001b[39m'\u001b[39m\u001b[39m] = \u001b[39m\u001b[39m'\u001b[39m\u001b[39m1\u001b[39m\u001b[39m'\u001b[39m\u001b[39m\\n\u001b[39;00m\u001b[39m\"\u001b[39m,\n\u001b[1;32m     26\u001b[0m     \u001b[39m\"\u001b[39m\u001b[39m\\n\u001b[39;00m\u001b[39m\"\u001b[39m,\n\u001b[1;32m     27\u001b[0m     \u001b[39m\"\u001b[39m\u001b[39mos.environ[\u001b[39m\u001b[39m'\u001b[39m\u001b[39mWANDB_ENTITY\u001b[39m\u001b[39m'\u001b[39m\u001b[39m] = \u001b[39m\u001b[39m'\u001b[39m\u001b[39mcontract-nli-db\u001b[39m\u001b[39m'\u001b[39m\u001b[39m\\n\u001b[39;00m\u001b[39m\"\u001b[39m,\n\u001b[1;32m     28\u001b[0m     \u001b[39m\"\u001b[39m\u001b[39mos.environ[\u001b[39m\u001b[39m'\u001b[39m\u001b[39mWANDB_PROJECT\u001b[39m\u001b[39m'\u001b[39m\u001b[39m] = \u001b[39m\u001b[39m'\u001b[39m\u001b[39mcontract-nli\u001b[39m\u001b[39m'\u001b[39m\u001b[39m\\n\u001b[39;00m\u001b[39m\"\u001b[39m,\n\u001b[1;32m     29\u001b[0m     \u001b[39m\"\u001b[39m\u001b[39mos.environ[\u001b[39m\u001b[39m'\u001b[39m\u001b[39mWANDB_LOG_MODEL\u001b[39m\u001b[39m'\u001b[39m\u001b[39m] = \u001b[39m\u001b[39m'\u001b[39m\u001b[39mend\u001b[39m\u001b[39m'\u001b[39m\u001b[39m\"\u001b[39m\n\u001b[1;32m     30\u001b[0m    ]\n\u001b[1;32m     31\u001b[0m   },\n\u001b[1;32m     32\u001b[0m   {\n\u001b[1;32m     33\u001b[0m    \u001b[39m\"\u001b[39m\u001b[39mcell_type\u001b[39m\u001b[39m\"\u001b[39m: \u001b[39m\"\u001b[39m\u001b[39mcode\u001b[39m\u001b[39m\"\u001b[39m,\n\u001b[1;32m     34\u001b[0m    \u001b[39m\"\u001b[39m\u001b[39mexecution_count\u001b[39m\u001b[39m\"\u001b[39m: \u001b[39m35\u001b[39m,\n\u001b[1;32m     35\u001b[0m    \u001b[39m\"\u001b[39m\u001b[39mmetadata\u001b[39m\u001b[39m\"\u001b[39m: {},\n\u001b[1;32m     36\u001b[0m    \u001b[39m\"\u001b[39m\u001b[39moutputs\u001b[39m\u001b[39m\"\u001b[39m: [\n\u001b[1;32m     37\u001b[0m     {\n\u001b[1;32m     38\u001b[0m      \u001b[39m\"\u001b[39m\u001b[39mdata\u001b[39m\u001b[39m\"\u001b[39m: {\n\u001b[1;32m     39\u001b[0m       \u001b[39m\"\u001b[39m\u001b[39mtext/plain\u001b[39m\u001b[39m\"\u001b[39m: [\n\u001b[1;32m     40\u001b[0m        \u001b[39m\"\u001b[39m\u001b[39mdevice(type=\u001b[39m\u001b[39m'\u001b[39m\u001b[39mcuda\u001b[39m\u001b[39m'\u001b[39m\u001b[39m)\u001b[39m\u001b[39m\"\u001b[39m\n\u001b[1;32m     41\u001b[0m       ]\n\u001b[1;32m     42\u001b[0m      },\n\u001b[1;32m     43\u001b[0m      \u001b[39m\"\u001b[39m\u001b[39mexecution_count\u001b[39m\u001b[39m\"\u001b[39m: \u001b[39m35\u001b[39m,\n\u001b[1;32m     44\u001b[0m      \u001b[39m\"\u001b[39m\u001b[39mmetadata\u001b[39m\u001b[39m\"\u001b[39m: {},\n\u001b[1;32m     45\u001b[0m      \u001b[39m\"\u001b[39m\u001b[39moutput_type\u001b[39m\u001b[39m\"\u001b[39m: \u001b[39m\"\u001b[39m\u001b[39mexecute_result\u001b[39m\u001b[39m\"\u001b[39m\n\u001b[1;32m     46\u001b[0m     }\n\u001b[1;32m     47\u001b[0m    ],\n\u001b[1;32m     48\u001b[0m    \u001b[39m\"\u001b[39m\u001b[39msource\u001b[39m\u001b[39m\"\u001b[39m: [\n\u001b[1;32m     49\u001b[0m     \u001b[39m\"\u001b[39m\u001b[39mimport torch\u001b[39m\u001b[39m\\n\u001b[39;00m\u001b[39m\"\u001b[39m,\n\u001b[1;32m     50\u001b[0m     \u001b[39m\"\u001b[39m\u001b[39m\\n\u001b[39;00m\u001b[39m\"\u001b[39m,\n\u001b[1;32m     51\u001b[0m     \u001b[39m\"\u001b[39m\u001b[39mDEVICE = torch.device(\u001b[39m\u001b[39m'\u001b[39m\u001b[39mcuda\u001b[39m\u001b[39m'\u001b[39m\u001b[39m) if torch.cuda.is_available() else torch.device(\u001b[39m\u001b[39m'\u001b[39m\u001b[39mcpu\u001b[39m\u001b[39m'\u001b[39m\u001b[39m)\u001b[39m\u001b[39m\\n\u001b[39;00m\u001b[39m\"\u001b[39m,\n\u001b[1;32m     52\u001b[0m     \u001b[39m\"\u001b[39m\u001b[39mDEVICE\u001b[39m\u001b[39m\"\u001b[39m\n\u001b[1;32m     53\u001b[0m    ]\n\u001b[1;32m     54\u001b[0m   },\n\u001b[1;32m     55\u001b[0m   {\n\u001b[1;32m     56\u001b[0m    \u001b[39m\"\u001b[39m\u001b[39mcell_type\u001b[39m\u001b[39m\"\u001b[39m: \u001b[39m\"\u001b[39m\u001b[39mcode\u001b[39m\u001b[39m\"\u001b[39m,\n\u001b[1;32m     57\u001b[0m    \u001b[39m\"\u001b[39m\u001b[39mexecution_count\u001b[39m\u001b[39m\"\u001b[39m: \u001b[39m36\u001b[39m,\n\u001b[1;32m     58\u001b[0m    \u001b[39m\"\u001b[39m\u001b[39mmetadata\u001b[39m\u001b[39m\"\u001b[39m: {},\n\u001b[1;32m     59\u001b[0m    \u001b[39m\"\u001b[39m\u001b[39moutputs\u001b[39m\u001b[39m\"\u001b[39m: [\n\u001b[1;32m     60\u001b[0m     {\n\u001b[1;32m     61\u001b[0m      \u001b[39m\"\u001b[39m\u001b[39mdata\u001b[39m\u001b[39m\"\u001b[39m: {\n\u001b[1;32m     62\u001b[0m       \u001b[39m\"\u001b[39m\u001b[39mtext/plain\u001b[39m\u001b[39m\"\u001b[39m: [\n\u001b[1;32m     63\u001b[0m        \u001b[39m\"\u001b[39m\u001b[39m{\u001b[39m\u001b[39m'\u001b[39m\u001b[39mraw_data_dir\u001b[39m\u001b[39m'\u001b[39m\u001b[39m: \u001b[39m\u001b[39m'\u001b[39m\u001b[39m../dataset/\u001b[39m\u001b[39m'\u001b[39m\u001b[39m,\u001b[39m\u001b[39m\\n\u001b[39;00m\u001b[39m\"\u001b[39m,\n\u001b[1;32m     64\u001b[0m        \u001b[39m\"\u001b[39m\u001b[39m \u001b[39m\u001b[39m'\u001b[39m\u001b[39mtrain_path\u001b[39m\u001b[39m'\u001b[39m\u001b[39m: \u001b[39m\u001b[39m'\u001b[39m\u001b[39mtrain.json\u001b[39m\u001b[39m'\u001b[39m\u001b[39m,\u001b[39m\u001b[39m\\n\u001b[39;00m\u001b[39m\"\u001b[39m,\n\u001b[1;32m     65\u001b[0m        \u001b[39m\"\u001b[39m\u001b[39m \u001b[39m\u001b[39m'\u001b[39m\u001b[39mtest_path\u001b[39m\u001b[39m'\u001b[39m\u001b[39m: \u001b[39m\u001b[39m'\u001b[39m\u001b[39mtest.json\u001b[39m\u001b[39m'\u001b[39m\u001b[39m,\u001b[39m\u001b[39m\\n\u001b[39;00m\u001b[39m\"\u001b[39m,\n\u001b[1;32m     66\u001b[0m        \u001b[39m\"\u001b[39m\u001b[39m \u001b[39m\u001b[39m'\u001b[39m\u001b[39mdev_path\u001b[39m\u001b[39m'\u001b[39m\u001b[39m: \u001b[39m\u001b[39m'\u001b[39m\u001b[39mdev.json\u001b[39m\u001b[39m'\u001b[39m\u001b[39m,\u001b[39m\u001b[39m\\n\u001b[39;00m\u001b[39m\"\u001b[39m,\n\u001b[1;32m     67\u001b[0m        \u001b[39m\"\u001b[39m\u001b[39m \u001b[39m\u001b[39m'\u001b[39m\u001b[39mmodel_name\u001b[39m\u001b[39m'\u001b[39m\u001b[39m: \u001b[39m\u001b[39m'\u001b[39m\u001b[39mbert-base-uncased\u001b[39m\u001b[39m'\u001b[39m\u001b[39m,\u001b[39m\u001b[39m\\n\u001b[39;00m\u001b[39m\"\u001b[39m,\n\u001b[1;32m     68\u001b[0m        \u001b[39m\"\u001b[39m\u001b[39m \u001b[39m\u001b[39m'\u001b[39m\u001b[39mmax_length\u001b[39m\u001b[39m'\u001b[39m\u001b[39m: 512,\u001b[39m\u001b[39m\\n\u001b[39;00m\u001b[39m\"\u001b[39m,\n\u001b[1;32m     69\u001b[0m        \u001b[39m\"\u001b[39m\u001b[39m \u001b[39m\u001b[39m'\u001b[39m\u001b[39mmodels_save_dir\u001b[39m\u001b[39m'\u001b[39m\u001b[39m: \u001b[39m\u001b[39m'\u001b[39m\u001b[39m/scratch/shu7bh/contract_nli/models\u001b[39m\u001b[39m'\u001b[39m\u001b[39m,\u001b[39m\u001b[39m\\n\u001b[39;00m\u001b[39m\"\u001b[39m,\n\u001b[1;32m     70\u001b[0m        \u001b[39m\"\u001b[39m\u001b[39m \u001b[39m\u001b[39m'\u001b[39m\u001b[39mdataset_dir\u001b[39m\u001b[39m'\u001b[39m\u001b[39m: \u001b[39m\u001b[39m'\u001b[39m\u001b[39m/scratch/shu7bh/contract_nli/dataset\u001b[39m\u001b[39m'\u001b[39m\u001b[39m,\u001b[39m\u001b[39m\\n\u001b[39;00m\u001b[39m\"\u001b[39m,\n\u001b[1;32m     71\u001b[0m        \u001b[39m\"\u001b[39m\u001b[39m \u001b[39m\u001b[39m'\u001b[39m\u001b[39mresults_dir\u001b[39m\u001b[39m'\u001b[39m\u001b[39m: \u001b[39m\u001b[39m'\u001b[39m\u001b[39m/scratch/shu7bh/contract_nli/results\u001b[39m\u001b[39m'\u001b[39m\u001b[39m,\u001b[39m\u001b[39m\\n\u001b[39;00m\u001b[39m\"\u001b[39m,\n\u001b[1;32m     72\u001b[0m        \u001b[39m\"\u001b[39m\u001b[39m \u001b[39m\u001b[39m'\u001b[39m\u001b[39mtrained_model_dir\u001b[39m\u001b[39m'\u001b[39m\u001b[39m: \u001b[39m\u001b[39m'\u001b[39m\u001b[39m/scratch/shu7bh/contract_nli/trained_model/\u001b[39m\u001b[39m'\u001b[39m\u001b[39m,\u001b[39m\u001b[39m\\n\u001b[39;00m\u001b[39m\"\u001b[39m,\n\u001b[1;32m     73\u001b[0m        \u001b[39m\"\u001b[39m\u001b[39m \u001b[39m\u001b[39m'\u001b[39m\u001b[39mbatch_size\u001b[39m\u001b[39m'\u001b[39m\u001b[39m: 32}\u001b[39m\u001b[39m\"\u001b[39m\n\u001b[1;32m     74\u001b[0m       ]\n\u001b[1;32m     75\u001b[0m      },\n\u001b[1;32m     76\u001b[0m      \u001b[39m\"\u001b[39m\u001b[39mexecution_count\u001b[39m\u001b[39m\"\u001b[39m: \u001b[39m36\u001b[39m,\n\u001b[1;32m     77\u001b[0m      \u001b[39m\"\u001b[39m\u001b[39mmetadata\u001b[39m\u001b[39m\"\u001b[39m: {},\n\u001b[1;32m     78\u001b[0m      \u001b[39m\"\u001b[39m\u001b[39moutput_type\u001b[39m\u001b[39m\"\u001b[39m: \u001b[39m\"\u001b[39m\u001b[39mexecute_result\u001b[39m\u001b[39m\"\u001b[39m\n\u001b[1;32m     79\u001b[0m     }\n\u001b[1;32m     80\u001b[0m    ],\n\u001b[1;32m     81\u001b[0m    \u001b[39m\"\u001b[39m\u001b[39msource\u001b[39m\u001b[39m\"\u001b[39m: [\n\u001b[1;32m     82\u001b[0m     \u001b[39m\"\u001b[39m\u001b[39mcfg[\u001b[39m\u001b[39m'\u001b[39m\u001b[39mmodel_name\u001b[39m\u001b[39m'\u001b[39m\u001b[39m] = \u001b[39m\u001b[39m'\u001b[39m\u001b[39mbert-base-uncased\u001b[39m\u001b[39m'\u001b[39m\u001b[39m\\n\u001b[39;00m\u001b[39m\"\u001b[39m,\n\u001b[1;32m     83\u001b[0m     \u001b[39m\"\u001b[39m\u001b[39mcfg[\u001b[39m\u001b[39m'\u001b[39m\u001b[39mtrained_model_dir\u001b[39m\u001b[39m'\u001b[39m\u001b[39m] = \u001b[39m\u001b[39m'\u001b[39m\u001b[39m/scratch/shu7bh/contract_nli/trained_model/\u001b[39m\u001b[39m'\u001b[39m\u001b[39m\\n\u001b[39;00m\u001b[39m\"\u001b[39m,\n\u001b[1;32m     84\u001b[0m     \u001b[39m\"\u001b[39m\u001b[39mcfg[\u001b[39m\u001b[39m'\u001b[39m\u001b[39mbatch_size\u001b[39m\u001b[39m'\u001b[39m\u001b[39m] = 32\u001b[39m\u001b[39m\\n\u001b[39;00m\u001b[39m\"\u001b[39m,\n\u001b[1;32m     85\u001b[0m     \u001b[39m\"\u001b[39m\u001b[39mcfg\u001b[39m\u001b[39m\"\u001b[39m\n\u001b[1;32m     86\u001b[0m    ]\n\u001b[1;32m     87\u001b[0m   },\n\u001b[1;32m     88\u001b[0m   {\n\u001b[1;32m     89\u001b[0m    \u001b[39m\"\u001b[39m\u001b[39mcell_type\u001b[39m\u001b[39m\"\u001b[39m: \u001b[39m\"\u001b[39m\u001b[39mcode\u001b[39m\u001b[39m\"\u001b[39m,\n\u001b[1;32m     90\u001b[0m    \u001b[39m\"\u001b[39m\u001b[39mexecution_count\u001b[39m\u001b[39m\"\u001b[39m: \u001b[39m37\u001b[39m,\n\u001b[1;32m     91\u001b[0m    \u001b[39m\"\u001b[39m\u001b[39mmetadata\u001b[39m\u001b[39m\"\u001b[39m: {},\n\u001b[1;32m     92\u001b[0m    \u001b[39m\"\u001b[39m\u001b[39moutputs\u001b[39m\u001b[39m\"\u001b[39m: [],\n\u001b[1;32m     93\u001b[0m    \u001b[39m\"\u001b[39m\u001b[39msource\u001b[39m\u001b[39m\"\u001b[39m: [\n\u001b[1;32m     94\u001b[0m     \u001b[39m\"\u001b[39m\u001b[39m# create dir if not exists\u001b[39m\u001b[39m\\n\u001b[39;00m\u001b[39m\"\u001b[39m,\n\u001b[1;32m     95\u001b[0m     \u001b[39m\"\u001b[39m\u001b[39mfrom pathlib import Path\u001b[39m\u001b[39m\\n\u001b[39;00m\u001b[39m\"\u001b[39m,\n\u001b[1;32m     96\u001b[0m     \u001b[39m\"\u001b[39m\u001b[39mPath(cfg[\u001b[39m\u001b[39m\\\"\u001b[39;00m\u001b[39mmodels_save_dir\u001b[39m\u001b[39m\\\"\u001b[39;00m\u001b[39m]).mkdir(parents=True, exist_ok=True)\u001b[39m\u001b[39m\\n\u001b[39;00m\u001b[39m\"\u001b[39m,\n\u001b[1;32m     97\u001b[0m     \u001b[39m\"\u001b[39m\u001b[39mPath(cfg[\u001b[39m\u001b[39m\\\"\u001b[39;00m\u001b[39mdataset_dir\u001b[39m\u001b[39m\\\"\u001b[39;00m\u001b[39m]).mkdir(parents=True, exist_ok=True)\u001b[39m\u001b[39m\"\u001b[39m\n\u001b[1;32m     98\u001b[0m    ]\n\u001b[1;32m     99\u001b[0m   },\n\u001b[1;32m    100\u001b[0m   {\n\u001b[1;32m    101\u001b[0m    \u001b[39m\"\u001b[39m\u001b[39mcell_type\u001b[39m\u001b[39m\"\u001b[39m: \u001b[39m\"\u001b[39m\u001b[39mcode\u001b[39m\u001b[39m\"\u001b[39m,\n\u001b[1;32m    102\u001b[0m    \u001b[39m\"\u001b[39m\u001b[39mexecution_count\u001b[39m\u001b[39m\"\u001b[39m: \u001b[39m38\u001b[39m,\n\u001b[1;32m    103\u001b[0m    \u001b[39m\"\u001b[39m\u001b[39mmetadata\u001b[39m\u001b[39m\"\u001b[39m: {},\n\u001b[1;32m    104\u001b[0m    \u001b[39m\"\u001b[39m\u001b[39moutputs\u001b[39m\u001b[39m\"\u001b[39m: [\n\u001b[1;32m    105\u001b[0m     {\n\u001b[1;32m    106\u001b[0m      \u001b[39m\"\u001b[39m\u001b[39mname\u001b[39m\u001b[39m\"\u001b[39m: \u001b[39m\"\u001b[39m\u001b[39mstderr\u001b[39m\u001b[39m\"\u001b[39m,\n\u001b[1;32m    107\u001b[0m      \u001b[39m\"\u001b[39m\u001b[39moutput_type\u001b[39m\u001b[39m\"\u001b[39m: \u001b[39m\"\u001b[39m\u001b[39mstream\u001b[39m\u001b[39m\"\u001b[39m,\n\u001b[1;32m    108\u001b[0m      \u001b[39m\"\u001b[39m\u001b[39mtext\u001b[39m\u001b[39m\"\u001b[39m: [\n\u001b[1;32m    109\u001b[0m       \u001b[39m\"\u001b[39m\u001b[39mDEBUG:urllib3.connectionpool:Resetting dropped connection: huggingface.co\u001b[39m\u001b[39m\\n\u001b[39;00m\u001b[39m\"\u001b[39m,\n\u001b[1;32m    110\u001b[0m       \u001b[39m\"\u001b[39m\u001b[39mDEBUG:urllib3.connectionpool:https://huggingface.co:443 \u001b[39m\u001b[39m\\\"\u001b[39;00m\u001b[39mHEAD /bert-base-uncased/resolve/main/tokenizer_config.json HTTP/1.1\u001b[39m\u001b[39m\\\"\u001b[39;00m\u001b[39m 200 0\u001b[39m\u001b[39m\\n\u001b[39;00m\u001b[39m\"\u001b[39m\n\u001b[1;32m    111\u001b[0m      ]\n\u001b[1;32m    112\u001b[0m     },\n\u001b[1;32m    113\u001b[0m     {\n\u001b[1;32m    114\u001b[0m      \u001b[39m\"\u001b[39m\u001b[39mdata\u001b[39m\u001b[39m\"\u001b[39m: {\n\u001b[1;32m    115\u001b[0m       \u001b[39m\"\u001b[39m\u001b[39mtext/plain\u001b[39m\u001b[39m\"\u001b[39m: [\n\u001b[1;32m    116\u001b[0m        \u001b[39m\"\u001b[39m\u001b[39m(\u001b[39m\u001b[39m'\u001b[39m\u001b[39m/scratch/shu7bh/contract_nli/models/tokenizer_config.json\u001b[39m\u001b[39m'\u001b[39m\u001b[39m,\u001b[39m\u001b[39m\\n\u001b[39;00m\u001b[39m\"\u001b[39m,\n\u001b[1;32m    117\u001b[0m        \u001b[39m\"\u001b[39m\u001b[39m \u001b[39m\u001b[39m'\u001b[39m\u001b[39m/scratch/shu7bh/contract_nli/models/special_tokens_map.json\u001b[39m\u001b[39m'\u001b[39m\u001b[39m,\u001b[39m\u001b[39m\\n\u001b[39;00m\u001b[39m\"\u001b[39m,\n\u001b[1;32m    118\u001b[0m        \u001b[39m\"\u001b[39m\u001b[39m \u001b[39m\u001b[39m'\u001b[39m\u001b[39m/scratch/shu7bh/contract_nli/models/vocab.txt\u001b[39m\u001b[39m'\u001b[39m\u001b[39m,\u001b[39m\u001b[39m\\n\u001b[39;00m\u001b[39m\"\u001b[39m,\n\u001b[1;32m    119\u001b[0m        \u001b[39m\"\u001b[39m\u001b[39m \u001b[39m\u001b[39m'\u001b[39m\u001b[39m/scratch/shu7bh/contract_nli/models/added_tokens.json\u001b[39m\u001b[39m'\u001b[39m\u001b[39m,\u001b[39m\u001b[39m\\n\u001b[39;00m\u001b[39m\"\u001b[39m,\n\u001b[1;32m    120\u001b[0m        \u001b[39m\"\u001b[39m\u001b[39m \u001b[39m\u001b[39m'\u001b[39m\u001b[39m/scratch/shu7bh/contract_nli/models/tokenizer.json\u001b[39m\u001b[39m'\u001b[39m\u001b[39m)\u001b[39m\u001b[39m\"\u001b[39m\n\u001b[1;32m    121\u001b[0m       ]\n\u001b[1;32m    122\u001b[0m      },\n\u001b[1;32m    123\u001b[0m      \u001b[39m\"\u001b[39m\u001b[39mexecution_count\u001b[39m\u001b[39m\"\u001b[39m: \u001b[39m38\u001b[39m,\n\u001b[1;32m    124\u001b[0m      \u001b[39m\"\u001b[39m\u001b[39mmetadata\u001b[39m\u001b[39m\"\u001b[39m: {},\n\u001b[1;32m    125\u001b[0m      \u001b[39m\"\u001b[39m\u001b[39moutput_type\u001b[39m\u001b[39m\"\u001b[39m: \u001b[39m\"\u001b[39m\u001b[39mexecute_result\u001b[39m\u001b[39m\"\u001b[39m\n\u001b[1;32m    126\u001b[0m     }\n\u001b[1;32m    127\u001b[0m    ],\n\u001b[1;32m    128\u001b[0m    \u001b[39m\"\u001b[39m\u001b[39msource\u001b[39m\u001b[39m\"\u001b[39m: [\n\u001b[1;32m    129\u001b[0m     \u001b[39m\"\u001b[39m\u001b[39mtokenizer = AutoTokenizer.from_pretrained(cfg[\u001b[39m\u001b[39m'\u001b[39m\u001b[39mmodel_name\u001b[39m\u001b[39m'\u001b[39m\u001b[39m])\u001b[39m\u001b[39m\\n\u001b[39;00m\u001b[39m\"\u001b[39m,\n\u001b[1;32m    130\u001b[0m     \u001b[39m\"\u001b[39m\u001b[39m\\n\u001b[39;00m\u001b[39m\"\u001b[39m,\n\u001b[1;32m    131\u001b[0m     \u001b[39m\"\u001b[39m\u001b[39mtokenizer.save_pretrained(cfg[\u001b[39m\u001b[39m'\u001b[39m\u001b[39mmodels_save_dir\u001b[39m\u001b[39m'\u001b[39m\u001b[39m])\u001b[39m\u001b[39m\"\u001b[39m\n\u001b[1;32m    132\u001b[0m    ]\n\u001b[1;32m    133\u001b[0m   },\n\u001b[1;32m    134\u001b[0m   {\n\u001b[1;32m    135\u001b[0m    \u001b[39m\"\u001b[39m\u001b[39mcell_type\u001b[39m\u001b[39m\"\u001b[39m: \u001b[39m\"\u001b[39m\u001b[39mcode\u001b[39m\u001b[39m\"\u001b[39m,\n\u001b[1;32m    136\u001b[0m    \u001b[39m\"\u001b[39m\u001b[39mexecution_count\u001b[39m\u001b[39m\"\u001b[39m: \u001b[39m39\u001b[39m,\n\u001b[1;32m    137\u001b[0m    \u001b[39m\"\u001b[39m\u001b[39mmetadata\u001b[39m\u001b[39m\"\u001b[39m: {},\n\u001b[1;32m    138\u001b[0m    \u001b[39m\"\u001b[39m\u001b[39moutputs\u001b[39m\u001b[39m\"\u001b[39m: [],\n\u001b[1;32m    139\u001b[0m    \u001b[39m\"\u001b[39m\u001b[39msource\u001b[39m\u001b[39m\"\u001b[39m: [\n\u001b[1;32m    140\u001b[0m     \u001b[39m\"\u001b[39m\u001b[39mtokenizer = AutoTokenizer.from_pretrained(cfg[\u001b[39m\u001b[39m'\u001b[39m\u001b[39mmodels_save_dir\u001b[39m\u001b[39m'\u001b[39m\u001b[39m])\u001b[39m\u001b[39m\"\u001b[39m\n\u001b[1;32m    141\u001b[0m    ]\n\u001b[1;32m    142\u001b[0m   },\n\u001b[1;32m    143\u001b[0m   {\n\u001b[1;32m    144\u001b[0m    \u001b[39m\"\u001b[39m\u001b[39mcell_type\u001b[39m\u001b[39m\"\u001b[39m: \u001b[39m\"\u001b[39m\u001b[39mcode\u001b[39m\u001b[39m\"\u001b[39m,\n\u001b[1;32m    145\u001b[0m    \u001b[39m\"\u001b[39m\u001b[39mexecution_count\u001b[39m\u001b[39m\"\u001b[39m: \u001b[39m40\u001b[39m,\n\u001b[1;32m    146\u001b[0m    \u001b[39m\"\u001b[39m\u001b[39mmetadata\u001b[39m\u001b[39m\"\u001b[39m: {},\n\u001b[1;32m    147\u001b[0m    \u001b[39m\"\u001b[39m\u001b[39moutputs\u001b[39m\u001b[39m\"\u001b[39m: [],\n\u001b[1;32m    148\u001b[0m    \u001b[39m\"\u001b[39m\u001b[39msource\u001b[39m\u001b[39m\"\u001b[39m: [\n\u001b[1;32m    149\u001b[0m     \u001b[39m\"\u001b[39m\u001b[39mfrom icecream import ic\u001b[39m\u001b[39m\"\u001b[39m\n\u001b[1;32m    150\u001b[0m    ]\n\u001b[1;32m    151\u001b[0m   },\n\u001b[1;32m    152\u001b[0m   {\n\u001b[1;32m    153\u001b[0m    \u001b[39m\"\u001b[39m\u001b[39mcell_type\u001b[39m\u001b[39m\"\u001b[39m: \u001b[39m\"\u001b[39m\u001b[39mcode\u001b[39m\u001b[39m\"\u001b[39m,\n\u001b[1;32m    154\u001b[0m    \u001b[39m\"\u001b[39m\u001b[39mexecution_count\u001b[39m\u001b[39m\"\u001b[39m: \u001b[39m41\u001b[39m,\n\u001b[1;32m    155\u001b[0m    \u001b[39m\"\u001b[39m\u001b[39mmetadata\u001b[39m\u001b[39m\"\u001b[39m: {},\n\u001b[1;32m    156\u001b[0m    \u001b[39m\"\u001b[39m\u001b[39moutputs\u001b[39m\u001b[39m\"\u001b[39m: [],\n\u001b[1;32m    157\u001b[0m    \u001b[39m\"\u001b[39m\u001b[39msource\u001b[39m\u001b[39m\"\u001b[39m: [\n\u001b[1;32m    158\u001b[0m     \u001b[39m\"\u001b[39m\u001b[39mdef get_hypothesis_idx(hypothesis_name):\u001b[39m\u001b[39m\\n\u001b[39;00m\u001b[39m\"\u001b[39m,\n\u001b[1;32m    159\u001b[0m     \u001b[39m\"\u001b[39m\u001b[39m    return int(hypothesis_name.split(\u001b[39m\u001b[39m'\u001b[39m\u001b[39m-\u001b[39m\u001b[39m'\u001b[39m\u001b[39m)[-1])\u001b[39m\u001b[39m\"\u001b[39m\n\u001b[1;32m    160\u001b[0m    ]\n\u001b[1;32m    161\u001b[0m   },\n\u001b[1;32m    162\u001b[0m   {\n\u001b[1;32m    163\u001b[0m    \u001b[39m\"\u001b[39m\u001b[39mcell_type\u001b[39m\u001b[39m\"\u001b[39m: \u001b[39m\"\u001b[39m\u001b[39mcode\u001b[39m\u001b[39m\"\u001b[39m,\n\u001b[1;32m    164\u001b[0m    \u001b[39m\"\u001b[39m\u001b[39mexecution_count\u001b[39m\u001b[39m\"\u001b[39m: \u001b[39m42\u001b[39m,\n\u001b[1;32m    165\u001b[0m    \u001b[39m\"\u001b[39m\u001b[39mmetadata\u001b[39m\u001b[39m\"\u001b[39m: {},\n\u001b[1;32m    166\u001b[0m    \u001b[39m\"\u001b[39m\u001b[39moutputs\u001b[39m\u001b[39m\"\u001b[39m: [],\n\u001b[1;32m    167\u001b[0m    \u001b[39m\"\u001b[39m\u001b[39msource\u001b[39m\u001b[39m\"\u001b[39m: [\n\u001b[1;32m    168\u001b[0m     \u001b[39m\"\u001b[39m\u001b[39mfrom torch.utils.data import Dataset\u001b[39m\u001b[39m\\n\u001b[39;00m\u001b[39m\"\u001b[39m,\n\u001b[1;32m    169\u001b[0m     \u001b[39m\"\u001b[39m\u001b[39mimport random\u001b[39m\u001b[39m\\n\u001b[39;00m\u001b[39m\"\u001b[39m,\n\u001b[1;32m    170\u001b[0m     \u001b[39m\"\u001b[39m\u001b[39mimport torch\u001b[39m\u001b[39m\\n\u001b[39;00m\u001b[39m\"\u001b[39m,\n\u001b[1;32m    171\u001b[0m     \u001b[39m\"\u001b[39m\u001b[39m\\n\u001b[39;00m\u001b[39m\"\u001b[39m,\n\u001b[1;32m    172\u001b[0m     \u001b[39m\"\u001b[39m\u001b[39mclass NLIDataset(Dataset):\u001b[39m\u001b[39m\\n\u001b[39;00m\u001b[39m\"\u001b[39m,\n\u001b[1;32m    173\u001b[0m     \u001b[39m\"\u001b[39m\u001b[39m    def __init__(self, documents, tokenizer, hypothesis, context_sizes, surround_character_size):\u001b[39m\u001b[39m\\n\u001b[39;00m\u001b[39m\"\u001b[39m,\n\u001b[1;32m    174\u001b[0m     \u001b[39m\"\u001b[39m\u001b[39m        label_dict = get_labels()\u001b[39m\u001b[39m\\n\u001b[39;00m\u001b[39m\"\u001b[39m,\n\u001b[1;32m    175\u001b[0m     \u001b[39m\"\u001b[39m\u001b[39m        self.tokenizer = tokenizer\u001b[39m\u001b[39m\\n\u001b[39;00m\u001b[39m\"\u001b[39m,\n\u001b[1;32m    176\u001b[0m     \u001b[39m\"\u001b[39m\u001b[39m\\n\u001b[39;00m\u001b[39m\"\u001b[39m,\n\u001b[1;32m    177\u001b[0m     \u001b[39m\"\u001b[39m\u001b[39m        self.tokenizer.add_special_tokens(\u001b[39m\u001b[39m{\u001b[39m\u001b[39m'\u001b[39m\u001b[39madditional_special_tokens\u001b[39m\u001b[39m'\u001b[39m\u001b[39m: [\u001b[39m\u001b[39m'\u001b[39m\u001b[39m[SPAN]\u001b[39m\u001b[39m'\u001b[39m\u001b[39m]})\u001b[39m\u001b[39m\\n\u001b[39;00m\u001b[39m\"\u001b[39m,\n\u001b[1;32m    178\u001b[0m     \u001b[39m\"\u001b[39m\u001b[39m\\n\u001b[39;00m\u001b[39m\"\u001b[39m,\n\u001b[1;32m    179\u001b[0m     \u001b[39m\"\u001b[39m\u001b[39m        data_points = []\u001b[39m\u001b[39m\\n\u001b[39;00m\u001b[39m\"\u001b[39m,\n\u001b[1;32m    180\u001b[0m     \u001b[39m\"\u001b[39m\u001b[39m        contexts = [\u001b[39m\u001b[39m{}\u001b[39;00m\u001b[39m]\u001b[39m\u001b[39m\\n\u001b[39;00m\u001b[39m\"\u001b[39m,\n\u001b[1;32m    181\u001b[0m     \u001b[39m\"\u001b[39m\u001b[39m\\n\u001b[39;00m\u001b[39m\"\u001b[39m,\n\u001b[1;32m    182\u001b[0m     \u001b[39m\"\u001b[39m\u001b[39m        for context_size in context_sizes:\u001b[39m\u001b[39m\\n\u001b[39;00m\u001b[39m\"\u001b[39m,\n\u001b[1;32m    183\u001b[0m     \u001b[39m\"\u001b[39m\u001b[39m            for i, doc in enumerate(documents):\u001b[39m\u001b[39m\\n\u001b[39;00m\u001b[39m\"\u001b[39m,\n\u001b[1;32m    184\u001b[0m     \u001b[39m\"\u001b[39m\u001b[39m                char_idx = 0\u001b[39m\u001b[39m\\n\u001b[39;00m\u001b[39m\"\u001b[39m,\n\u001b[1;32m    185\u001b[0m     \u001b[39m\"\u001b[39m\u001b[39m                while char_idx < len(doc[\u001b[39m\u001b[39m'\u001b[39m\u001b[39mtext\u001b[39m\u001b[39m'\u001b[39m\u001b[39m]):\u001b[39m\u001b[39m\\n\u001b[39;00m\u001b[39m\"\u001b[39m,\n\u001b[1;32m    186\u001b[0m     \u001b[39m\"\u001b[39m\u001b[39m                    ic(char_idx)\u001b[39m\u001b[39m\\n\u001b[39;00m\u001b[39m\"\u001b[39m,\n\u001b[1;32m    187\u001b[0m     \u001b[39m\"\u001b[39m\u001b[39m                    document_spans = doc[\u001b[39m\u001b[39m'\u001b[39m\u001b[39mspans\u001b[39m\u001b[39m'\u001b[39m\u001b[39m]\u001b[39m\u001b[39m\\n\u001b[39;00m\u001b[39m\"\u001b[39m,\n\u001b[1;32m    188\u001b[0m     \u001b[39m\"\u001b[39m\u001b[39m                    cur_context = \u001b[39m\u001b[39m{\u001b[39m\u001b[39m\\n\u001b[39;00m\u001b[39m\"\u001b[39m,\n\u001b[1;32m    189\u001b[0m     \u001b[39m\"\u001b[39m\u001b[39m                        \u001b[39m\u001b[39m'\u001b[39m\u001b[39mdoc_id\u001b[39m\u001b[39m'\u001b[39m\u001b[39m: i,\u001b[39m\u001b[39m\\n\u001b[39;00m\u001b[39m\"\u001b[39m,\n\u001b[1;32m    190\u001b[0m     \u001b[39m\"\u001b[39m\u001b[39m                        \u001b[39m\u001b[39m'\u001b[39m\u001b[39mstart_char_idx\u001b[39m\u001b[39m'\u001b[39m\u001b[39m: char_idx,\u001b[39m\u001b[39m\\n\u001b[39;00m\u001b[39m\"\u001b[39m,\n\u001b[1;32m    191\u001b[0m     \u001b[39m\"\u001b[39m\u001b[39m                        \u001b[39m\u001b[39m'\u001b[39m\u001b[39mend_char_idx\u001b[39m\u001b[39m'\u001b[39m\u001b[39m: char_idx + context_size,\u001b[39m\u001b[39m\\n\u001b[39;00m\u001b[39m\"\u001b[39m,\n\u001b[1;32m    192\u001b[0m     \u001b[39m\"\u001b[39m\u001b[39m                        \u001b[39m\u001b[39m'\u001b[39m\u001b[39mspans\u001b[39m\u001b[39m'\u001b[39m\u001b[39m : [],\u001b[39m\u001b[39m\\n\u001b[39;00m\u001b[39m\"\u001b[39m,\n\u001b[1;32m    193\u001b[0m     \u001b[39m\"\u001b[39m\u001b[39m                    }\u001b[39m\u001b[39m\\n\u001b[39;00m\u001b[39m\"\u001b[39m,\n\u001b[1;32m    194\u001b[0m     \u001b[39m\"\u001b[39m\u001b[39m\\n\u001b[39;00m\u001b[39m\"\u001b[39m,\n\u001b[1;32m    195\u001b[0m     \u001b[39m\"\u001b[39m\u001b[39m                    for j, (start, end) in enumerate(document_spans):\u001b[39m\u001b[39m\\n\u001b[39;00m\u001b[39m\"\u001b[39m,\n\u001b[1;32m    196\u001b[0m     \u001b[39m\"\u001b[39m\u001b[39m                        if end <= char_idx:\u001b[39m\u001b[39m\\n\u001b[39;00m\u001b[39m\"\u001b[39m,\n\u001b[1;32m    197\u001b[0m     \u001b[39m\"\u001b[39m\u001b[39m                            continue\u001b[39m\u001b[39m\\n\u001b[39;00m\u001b[39m\"\u001b[39m,\n\u001b[1;32m    198\u001b[0m     \u001b[39m\"\u001b[39m\u001b[39m\\n\u001b[39;00m\u001b[39m\"\u001b[39m,\n\u001b[1;32m    199\u001b[0m     \u001b[39m\"\u001b[39m\u001b[39m                        cur_context[\u001b[39m\u001b[39m'\u001b[39m\u001b[39mspans\u001b[39m\u001b[39m'\u001b[39m\u001b[39m].append(\u001b[39m\u001b[39m{\u001b[39m\u001b[39m\\n\u001b[39;00m\u001b[39m\"\u001b[39m,\n\u001b[1;32m    200\u001b[0m     \u001b[39m\"\u001b[39m\u001b[39m                            \u001b[39m\u001b[39m'\u001b[39m\u001b[39mstart_char_idx\u001b[39m\u001b[39m'\u001b[39m\u001b[39m: max(start, char_idx),\u001b[39m\u001b[39m\\n\u001b[39;00m\u001b[39m\"\u001b[39m,\n\u001b[1;32m    201\u001b[0m     \u001b[39m\"\u001b[39m\u001b[39m                            \u001b[39m\u001b[39m'\u001b[39m\u001b[39mend_char_idx\u001b[39m\u001b[39m'\u001b[39m\u001b[39m: min(end, char_idx + context_size),\u001b[39m\u001b[39m\\n\u001b[39;00m\u001b[39m\"\u001b[39m,\n\u001b[1;32m    202\u001b[0m     \u001b[39m\"\u001b[39m\u001b[39m                            \u001b[39m\u001b[39m'\u001b[39m\u001b[39mmarked\u001b[39m\u001b[39m'\u001b[39m\u001b[39m: start >= char_idx and end <= char_idx + context_size,\u001b[39m\u001b[39m\\n\u001b[39;00m\u001b[39m\"\u001b[39m,\n\u001b[1;32m    203\u001b[0m     \u001b[39m\"\u001b[39m\u001b[39m                            \u001b[39m\u001b[39m'\u001b[39m\u001b[39mspan_id\u001b[39m\u001b[39m'\u001b[39m\u001b[39m: j\u001b[39m\u001b[39m\\n\u001b[39;00m\u001b[39m\"\u001b[39m,\n\u001b[1;32m    204\u001b[0m     \u001b[39m\"\u001b[39m\u001b[39m                        })\u001b[39m\u001b[39m\\n\u001b[39;00m\u001b[39m\"\u001b[39m,\n\u001b[1;32m    205\u001b[0m     \u001b[39m\"\u001b[39m\u001b[39m\\n\u001b[39;00m\u001b[39m\"\u001b[39m,\n\u001b[1;32m    206\u001b[0m     \u001b[39m\"\u001b[39m\u001b[39m                        if end > char_idx + context_size:\u001b[39m\u001b[39m\\n\u001b[39;00m\u001b[39m\"\u001b[39m,\n\u001b[1;32m    207\u001b[0m     \u001b[39m\"\u001b[39m\u001b[39m                            break\u001b[39m\u001b[39m\\n\u001b[39;00m\u001b[39m\"\u001b[39m,\n\u001b[1;32m    208\u001b[0m     \u001b[39m\"\u001b[39m\u001b[39m\\n\u001b[39;00m\u001b[39m\"\u001b[39m,\n\u001b[1;32m    209\u001b[0m     \u001b[39m\"\u001b[39m\u001b[39m                    if cur_context == contexts[-1]:\u001b[39m\u001b[39m\\n\u001b[39;00m\u001b[39m\"\u001b[39m,\n\u001b[1;32m    210\u001b[0m     \u001b[39m\"\u001b[39m\u001b[39m                        char_idx = cur_context[\u001b[39m\u001b[39m'\u001b[39m\u001b[39mend_char_idx\u001b[39m\u001b[39m'\u001b[39m\u001b[39m] - surround_character_size\u001b[39m\u001b[39m\\n\u001b[39;00m\u001b[39m\"\u001b[39m,\n\u001b[1;32m    211\u001b[0m     \u001b[39m\"\u001b[39m\u001b[39m                        continue\u001b[39m\u001b[39m\\n\u001b[39;00m\u001b[39m\"\u001b[39m,\n\u001b[1;32m    212\u001b[0m     \u001b[39m\"\u001b[39m\u001b[39m\\n\u001b[39;00m\u001b[39m\"\u001b[39m,\n\u001b[1;32m    213\u001b[0m     \u001b[39m\"\u001b[39m\u001b[39m                    contexts.append(cur_context)\u001b[39m\u001b[39m\\n\u001b[39;00m\u001b[39m\"\u001b[39m,\n\u001b[1;32m    214\u001b[0m     \u001b[39m\"\u001b[39m\u001b[39m                    if len(cur_context[\u001b[39m\u001b[39m'\u001b[39m\u001b[39mspans\u001b[39m\u001b[39m'\u001b[39m\u001b[39m]) == 1 and not cur_context[\u001b[39m\u001b[39m'\u001b[39m\u001b[39mspans\u001b[39m\u001b[39m'\u001b[39m\u001b[39m][0][\u001b[39m\u001b[39m'\u001b[39m\u001b[39mmarked\u001b[39m\u001b[39m'\u001b[39m\u001b[39m]:\u001b[39m\u001b[39m\\n\u001b[39;00m\u001b[39m\"\u001b[39m,\n\u001b[1;32m    215\u001b[0m     \u001b[39m\"\u001b[39m\u001b[39m                        char_idx = cur_context[\u001b[39m\u001b[39m'\u001b[39m\u001b[39mend_char_idx\u001b[39m\u001b[39m'\u001b[39m\u001b[39m] - surround_character_size\u001b[39m\u001b[39m\\n\u001b[39;00m\u001b[39m\"\u001b[39m,\n\u001b[1;32m    216\u001b[0m     \u001b[39m\"\u001b[39m\u001b[39m                    else:\u001b[39m\u001b[39m\\n\u001b[39;00m\u001b[39m\"\u001b[39m,\n\u001b[1;32m    217\u001b[0m     \u001b[39m\"\u001b[39m\u001b[39m                        char_idx = cur_context[\u001b[39m\u001b[39m'\u001b[39m\u001b[39mspans\u001b[39m\u001b[39m'\u001b[39m\u001b[39m][-1][\u001b[39m\u001b[39m'\u001b[39m\u001b[39mstart_char_idx\u001b[39m\u001b[39m'\u001b[39m\u001b[39m] - surround_character_size\u001b[39m\u001b[39m\\n\u001b[39;00m\u001b[39m\"\u001b[39m,\n\u001b[1;32m    218\u001b[0m     \u001b[39m\"\u001b[39m\u001b[39m\\n\u001b[39;00m\u001b[39m\"\u001b[39m,\n\u001b[1;32m    219\u001b[0m     \u001b[39m\"\u001b[39m\u001b[39m        contexts.pop(0)\u001b[39m\u001b[39m\\n\u001b[39;00m\u001b[39m\"\u001b[39m,\n\u001b[1;32m    220\u001b[0m     \u001b[39m\"\u001b[39m\u001b[39m\\n\u001b[39;00m\u001b[39m\"\u001b[39m,\n\u001b[1;32m    221\u001b[0m     \u001b[39m\"\u001b[39m\u001b[39m        for nda_name, nda_desc in hypothesis.items():\u001b[39m\u001b[39m\\n\u001b[39;00m\u001b[39m\"\u001b[39m,\n\u001b[1;32m    222\u001b[0m     \u001b[39m\"\u001b[39m\u001b[39m            for i, context in enumerate(contexts):\u001b[39m\u001b[39m\\n\u001b[39;00m\u001b[39m\"\u001b[39m,\n\u001b[1;32m    223\u001b[0m     \u001b[39m\"\u001b[39m\u001b[39m\\n\u001b[39;00m\u001b[39m\"\u001b[39m,\n\u001b[1;32m    224\u001b[0m     \u001b[39m\"\u001b[39m\u001b[39m                nli_label = label_dict[documents[context[\u001b[39m\u001b[39m'\u001b[39m\u001b[39mdoc_id\u001b[39m\u001b[39m'\u001b[39m\u001b[39m]][\u001b[39m\u001b[39m'\u001b[39m\u001b[39mannotation_sets\u001b[39m\u001b[39m'\u001b[39m\u001b[39m][0][\u001b[39m\u001b[39m'\u001b[39m\u001b[39mannotations\u001b[39m\u001b[39m'\u001b[39m\u001b[39m][nda_name][\u001b[39m\u001b[39m'\u001b[39m\u001b[39mchoice\u001b[39m\u001b[39m'\u001b[39m\u001b[39m]]\u001b[39m\u001b[39m\\n\u001b[39;00m\u001b[39m\"\u001b[39m,\n\u001b[1;32m    225\u001b[0m     \u001b[39m\"\u001b[39m\u001b[39m\\n\u001b[39;00m\u001b[39m\"\u001b[39m,\n\u001b[1;32m    226\u001b[0m     \u001b[39m\"\u001b[39m\u001b[39m                data_point = \u001b[39m\u001b[39m{}\u001b[39;00m\u001b[39m\\n\u001b[39;00m\u001b[39m\"\u001b[39m,\n\u001b[1;32m    227\u001b[0m     \u001b[39m\"\u001b[39m\u001b[39m                data_point[\u001b[39m\u001b[39m'\u001b[39m\u001b[39mhypotheis\u001b[39m\u001b[39m'\u001b[39m\u001b[39m] = nda_desc\u001b[39m\u001b[39m\\n\u001b[39;00m\u001b[39m\"\u001b[39m,\n\u001b[1;32m    228\u001b[0m     \u001b[39m\"\u001b[39m\u001b[39m                cur_premise = \u001b[39m\u001b[39m\\\"\u001b[39;00m\u001b[39m\\\"\u001b[39;00m\u001b[39m\\n\u001b[39;00m\u001b[39m\"\u001b[39m,\n\u001b[1;32m    229\u001b[0m     \u001b[39m\"\u001b[39m\u001b[39m                data_point[\u001b[39m\u001b[39m'\u001b[39m\u001b[39mmarked_beg\u001b[39m\u001b[39m'\u001b[39m\u001b[39m] = context[\u001b[39m\u001b[39m'\u001b[39m\u001b[39mspans\u001b[39m\u001b[39m'\u001b[39m\u001b[39m][0][\u001b[39m\u001b[39m'\u001b[39m\u001b[39mmarked\u001b[39m\u001b[39m'\u001b[39m\u001b[39m]\u001b[39m\u001b[39m\\n\u001b[39;00m\u001b[39m\"\u001b[39m,\n\u001b[1;32m    230\u001b[0m     \u001b[39m\"\u001b[39m\u001b[39m                data_point[\u001b[39m\u001b[39m'\u001b[39m\u001b[39mmarked_end\u001b[39m\u001b[39m'\u001b[39m\u001b[39m] = context[\u001b[39m\u001b[39m'\u001b[39m\u001b[39mspans\u001b[39m\u001b[39m'\u001b[39m\u001b[39m][-1][\u001b[39m\u001b[39m'\u001b[39m\u001b[39mmarked\u001b[39m\u001b[39m'\u001b[39m\u001b[39m]\u001b[39m\u001b[39m\\n\u001b[39;00m\u001b[39m\"\u001b[39m,\n\u001b[1;32m    231\u001b[0m     \u001b[39m\"\u001b[39m\u001b[39m                doc_id = context[\u001b[39m\u001b[39m'\u001b[39m\u001b[39mdoc_id\u001b[39m\u001b[39m'\u001b[39m\u001b[39m]\u001b[39m\u001b[39m\\n\u001b[39;00m\u001b[39m\"\u001b[39m,\n\u001b[1;32m    232\u001b[0m     \u001b[39m\"\u001b[39m\u001b[39m                hypothesis_id = get_hypothesis_idx(nda_name)\u001b[39m\u001b[39m\\n\u001b[39;00m\u001b[39m\"\u001b[39m,\n\u001b[1;32m    233\u001b[0m     \u001b[39m\"\u001b[39m\u001b[39m                span_ids = []\u001b[39m\u001b[39m\\n\u001b[39;00m\u001b[39m\"\u001b[39m,\n\u001b[1;32m    234\u001b[0m     \u001b[39m\"\u001b[39m\u001b[39m\\n\u001b[39;00m\u001b[39m\"\u001b[39m,\n\u001b[1;32m    235\u001b[0m     \u001b[39m\"\u001b[39m\u001b[39m                if len(context[\u001b[39m\u001b[39m'\u001b[39m\u001b[39mspans\u001b[39m\u001b[39m'\u001b[39m\u001b[39m]) == 1:\u001b[39m\u001b[39m\\n\u001b[39;00m\u001b[39m\"\u001b[39m,\n\u001b[1;32m    236\u001b[0m     \u001b[39m\"\u001b[39m\u001b[39m                    data_point[\u001b[39m\u001b[39m'\u001b[39m\u001b[39mmarked_end\u001b[39m\u001b[39m'\u001b[39m\u001b[39m] = True\u001b[39m\u001b[39m\\n\u001b[39;00m\u001b[39m\"\u001b[39m,\n\u001b[1;32m    237\u001b[0m     \u001b[39m\"\u001b[39m\u001b[39m\\n\u001b[39;00m\u001b[39m\"\u001b[39m,\n\u001b[1;32m    238\u001b[0m     \u001b[39m\"\u001b[39m\u001b[39m                span_labels = []\u001b[39m\u001b[39m\\n\u001b[39;00m\u001b[39m\"\u001b[39m,\n\u001b[1;32m    239\u001b[0m     \u001b[39m\"\u001b[39m\u001b[39m\\n\u001b[39;00m\u001b[39m\"\u001b[39m,\n\u001b[1;32m    240\u001b[0m     \u001b[39m\"\u001b[39m\u001b[39m                for span in context[\u001b[39m\u001b[39m'\u001b[39m\u001b[39mspans\u001b[39m\u001b[39m'\u001b[39m\u001b[39m]:\u001b[39m\u001b[39m\\n\u001b[39;00m\u001b[39m\"\u001b[39m,\n\u001b[1;32m    241\u001b[0m     \u001b[39m\"\u001b[39m\u001b[39m                    val = int(span[\u001b[39m\u001b[39m'\u001b[39m\u001b[39mspan_id\u001b[39m\u001b[39m'\u001b[39m\u001b[39m] in documents[context[\u001b[39m\u001b[39m'\u001b[39m\u001b[39mdoc_id\u001b[39m\u001b[39m'\u001b[39m\u001b[39m]][\u001b[39m\u001b[39m'\u001b[39m\u001b[39mannotation_sets\u001b[39m\u001b[39m'\u001b[39m\u001b[39m][0][\u001b[39m\u001b[39m'\u001b[39m\u001b[39mannotations\u001b[39m\u001b[39m'\u001b[39m\u001b[39m][nda_name][\u001b[39m\u001b[39m'\u001b[39m\u001b[39mspans\u001b[39m\u001b[39m'\u001b[39m\u001b[39m])\u001b[39m\u001b[39m\\n\u001b[39;00m\u001b[39m\"\u001b[39m,\n\u001b[1;32m    242\u001b[0m     \u001b[39m\"\u001b[39m\u001b[39m\\n\u001b[39;00m\u001b[39m\"\u001b[39m,\n\u001b[1;32m    243\u001b[0m     \u001b[39m\"\u001b[39m\u001b[39m                    val = 2 * val - 1 # making 0 -> -1 and 1 -> 1\u001b[39m\u001b[39m\\n\u001b[39;00m\u001b[39m\"\u001b[39m,\n\u001b[1;32m    244\u001b[0m     \u001b[39m\"\u001b[39m\u001b[39m\\n\u001b[39;00m\u001b[39m\"\u001b[39m,\n\u001b[1;32m    245\u001b[0m     \u001b[39m\"\u001b[39m\u001b[39m                    if span[\u001b[39m\u001b[39m'\u001b[39m\u001b[39mmarked\u001b[39m\u001b[39m'\u001b[39m\u001b[39m]:\u001b[39m\u001b[39m\\n\u001b[39;00m\u001b[39m\"\u001b[39m,\n\u001b[1;32m    246\u001b[0m     \u001b[39m\"\u001b[39m\u001b[39m                        span_labels.append(val)\u001b[39m\u001b[39m\\n\u001b[39;00m\u001b[39m\"\u001b[39m,\n\u001b[1;32m    247\u001b[0m     \u001b[39m\"\u001b[39m\u001b[39m                        span_ids.append(span[\u001b[39m\u001b[39m'\u001b[39m\u001b[39mspan_id\u001b[39m\u001b[39m'\u001b[39m\u001b[39m])\u001b[39m\u001b[39m\\n\u001b[39;00m\u001b[39m\"\u001b[39m,\n\u001b[1;32m    248\u001b[0m     \u001b[39m\"\u001b[39m\u001b[39m\\n\u001b[39;00m\u001b[39m\"\u001b[39m,\n\u001b[1;32m    249\u001b[0m     \u001b[39m\"\u001b[39m\u001b[39m                    cur_premise += \u001b[39m\u001b[39m'\u001b[39m\u001b[39m [SPAN] \u001b[39m\u001b[39m'\u001b[39m\u001b[39m\\n\u001b[39;00m\u001b[39m\"\u001b[39m,\n\u001b[1;32m    250\u001b[0m     \u001b[39m\"\u001b[39m\u001b[39m                    cur_premise += documents[context[\u001b[39m\u001b[39m'\u001b[39m\u001b[39mdoc_id\u001b[39m\u001b[39m'\u001b[39m\u001b[39m]][\u001b[39m\u001b[39m'\u001b[39m\u001b[39mtext\u001b[39m\u001b[39m'\u001b[39m\u001b[39m][span[\u001b[39m\u001b[39m'\u001b[39m\u001b[39mstart_char_idx\u001b[39m\u001b[39m'\u001b[39m\u001b[39m]:span[\u001b[39m\u001b[39m'\u001b[39m\u001b[39mend_char_idx\u001b[39m\u001b[39m'\u001b[39m\u001b[39m]]\u001b[39m\u001b[39m\\n\u001b[39;00m\u001b[39m\"\u001b[39m,\n\u001b[1;32m    251\u001b[0m     \u001b[39m\"\u001b[39m\u001b[39m\\n\u001b[39;00m\u001b[39m\"\u001b[39m,\n\u001b[1;32m    252\u001b[0m     \u001b[39m\"\u001b[39m\u001b[39m                data_point[\u001b[39m\u001b[39m'\u001b[39m\u001b[39mpremise\u001b[39m\u001b[39m'\u001b[39m\u001b[39m] = cur_premise\u001b[39m\u001b[39m\\n\u001b[39;00m\u001b[39m\"\u001b[39m,\n\u001b[1;32m    253\u001b[0m     \u001b[39m\"\u001b[39m\u001b[39m                \u001b[39m\u001b[39m\\n\u001b[39;00m\u001b[39m\"\u001b[39m,\n\u001b[1;32m    254\u001b[0m     \u001b[39m\"\u001b[39m\u001b[39m                if nli_label == get_labels()[\u001b[39m\u001b[39m'\u001b[39m\u001b[39mNotMentioned\u001b[39m\u001b[39m'\u001b[39m\u001b[39m]:\u001b[39m\u001b[39m\\n\u001b[39;00m\u001b[39m\"\u001b[39m,\n\u001b[1;32m    255\u001b[0m     \u001b[39m\"\u001b[39m\u001b[39m                    span_labels = torch.zeros(len(span_labels), dtype=torch.long)\u001b[39m\u001b[39m\\n\u001b[39;00m\u001b[39m\"\u001b[39m,\n\u001b[1;32m    256\u001b[0m     \u001b[39m\"\u001b[39m\u001b[39m\\n\u001b[39;00m\u001b[39m\"\u001b[39m,\n\u001b[1;32m    257\u001b[0m     \u001b[39m\"\u001b[39m\u001b[39m                data_point[\u001b[39m\u001b[39m'\u001b[39m\u001b[39mnli_label\u001b[39m\u001b[39m'\u001b[39m\u001b[39m] = torch.tensor(nli_label, dtype=torch.long)\u001b[39m\u001b[39m\\n\u001b[39;00m\u001b[39m\"\u001b[39m,\n\u001b[1;32m    258\u001b[0m     \u001b[39m\"\u001b[39m\u001b[39m                data_point[\u001b[39m\u001b[39m'\u001b[39m\u001b[39mspan_labels\u001b[39m\u001b[39m'\u001b[39m\u001b[39m] = torch.tensor(span_labels, dtype=torch.long)\u001b[39m\u001b[39m\\n\u001b[39;00m\u001b[39m\"\u001b[39m,\n\u001b[1;32m    259\u001b[0m     \u001b[39m\"\u001b[39m\u001b[39m                data_point[\u001b[39m\u001b[39m'\u001b[39m\u001b[39mdoc_id\u001b[39m\u001b[39m'\u001b[39m\u001b[39m] = torch.tensor(doc_id, dtype=torch.long)\u001b[39m\u001b[39m\\n\u001b[39;00m\u001b[39m\"\u001b[39m,\n\u001b[1;32m    260\u001b[0m     \u001b[39m\"\u001b[39m\u001b[39m                data_point[\u001b[39m\u001b[39m'\u001b[39m\u001b[39mhypothesis_id\u001b[39m\u001b[39m'\u001b[39m\u001b[39m] = torch.tensor(hypothesis_id, dtype=torch.long)\u001b[39m\u001b[39m\\n\u001b[39;00m\u001b[39m\"\u001b[39m,\n\u001b[1;32m    261\u001b[0m     \u001b[39m\"\u001b[39m\u001b[39m                data_point[\u001b[39m\u001b[39m'\u001b[39m\u001b[39mspan_ids\u001b[39m\u001b[39m'\u001b[39m\u001b[39m] = torch.tensor(span_ids, dtype=torch.long)\u001b[39m\u001b[39m\\n\u001b[39;00m\u001b[39m\"\u001b[39m,\n\u001b[1;32m    262\u001b[0m     \u001b[39m\"\u001b[39m\u001b[39m\\n\u001b[39;00m\u001b[39m\"\u001b[39m,\n\u001b[1;32m    263\u001b[0m     \u001b[39m\"\u001b[39m\u001b[39m                data_points.append(data_point)\u001b[39m\u001b[39m\\n\u001b[39;00m\u001b[39m\"\u001b[39m,\n\u001b[1;32m    264\u001b[0m     \u001b[39m\"\u001b[39m\u001b[39m\\n\u001b[39;00m\u001b[39m\"\u001b[39m,\n\u001b[1;32m    265\u001b[0m     \u001b[39m\"\u001b[39m\u001b[39m        self.data_points = data_points\u001b[39m\u001b[39m\\n\u001b[39;00m\u001b[39m\"\u001b[39m,\n\u001b[1;32m    266\u001b[0m     \u001b[39m\"\u001b[39m\u001b[39m        self.span_token_id = self.tokenizer.convert_tokens_to_ids(\u001b[39m\u001b[39m'\u001b[39m\u001b[39m[SPAN]\u001b[39m\u001b[39m'\u001b[39m\u001b[39m)\u001b[39m\u001b[39m\\n\u001b[39;00m\u001b[39m\"\u001b[39m,\n\u001b[1;32m    267\u001b[0m     \u001b[39m\"\u001b[39m\u001b[39m\\n\u001b[39;00m\u001b[39m\"\u001b[39m,\n\u001b[1;32m    268\u001b[0m     \u001b[39m\"\u001b[39m\u001b[39m    def __len__(self):\u001b[39m\u001b[39m\\n\u001b[39;00m\u001b[39m\"\u001b[39m,\n\u001b[1;32m    269\u001b[0m     \u001b[39m\"\u001b[39m\u001b[39m        return len(self.data_points)\u001b[39m\u001b[39m\\n\u001b[39;00m\u001b[39m\"\u001b[39m,\n\u001b[1;32m    270\u001b[0m     \u001b[39m\"\u001b[39m\u001b[39m\\n\u001b[39;00m\u001b[39m\"\u001b[39m,\n\u001b[1;32m    271\u001b[0m     \u001b[39m\"\u001b[39m\u001b[39m    def __getitem__(self, idx):\u001b[39m\u001b[39m\\n\u001b[39;00m\u001b[39m\"\u001b[39m,\n\u001b[1;32m    272\u001b[0m     \u001b[39m\"\u001b[39m\u001b[39m        tokenized_data = self.tokenizer(\u001b[39m\u001b[39m\\n\u001b[39;00m\u001b[39m\"\u001b[39m,\n\u001b[1;32m    273\u001b[0m     \u001b[39m\"\u001b[39m\u001b[39m            [self.data_points[idx][\u001b[39m\u001b[39m'\u001b[39m\u001b[39mhypotheis\u001b[39m\u001b[39m'\u001b[39m\u001b[39m]],\u001b[39m\u001b[39m\\n\u001b[39;00m\u001b[39m\"\u001b[39m,\n\u001b[1;32m    274\u001b[0m     \u001b[39m\"\u001b[39m\u001b[39m            [self.data_points[idx][\u001b[39m\u001b[39m'\u001b[39m\u001b[39mpremise\u001b[39m\u001b[39m'\u001b[39m\u001b[39m]],\u001b[39m\u001b[39m\\n\u001b[39;00m\u001b[39m\"\u001b[39m,\n\u001b[1;32m    275\u001b[0m     \u001b[39m\"\u001b[39m\u001b[39m            padding=\u001b[39m\u001b[39m'\u001b[39m\u001b[39mmax_length\u001b[39m\u001b[39m'\u001b[39m\u001b[39m,\u001b[39m\u001b[39m\\n\u001b[39;00m\u001b[39m\"\u001b[39m,\n\u001b[1;32m    276\u001b[0m     \u001b[39m\"\u001b[39m\u001b[39m            truncation=True,\u001b[39m\u001b[39m\\n\u001b[39;00m\u001b[39m\"\u001b[39m,\n\u001b[1;32m    277\u001b[0m     \u001b[39m\"\u001b[39m\u001b[39m            return_tensors=\u001b[39m\u001b[39m'\u001b[39m\u001b[39mpt\u001b[39m\u001b[39m'\u001b[39m\u001b[39m,\u001b[39m\u001b[39m\\n\u001b[39;00m\u001b[39m\"\u001b[39m,\n\u001b[1;32m    278\u001b[0m     \u001b[39m\"\u001b[39m\u001b[39m        )\u001b[39m\u001b[39m\\n\u001b[39;00m\u001b[39m\"\u001b[39m,\n\u001b[1;32m    279\u001b[0m     \u001b[39m\"\u001b[39m\u001b[39m\\n\u001b[39;00m\u001b[39m\"\u001b[39m,\n\u001b[1;32m    280\u001b[0m     \u001b[39m\"\u001b[39m\u001b[39m        tokenized_data[\u001b[39m\u001b[39m'\u001b[39m\u001b[39minput_ids\u001b[39m\u001b[39m'\u001b[39m\u001b[39m] = tokenized_data[\u001b[39m\u001b[39m'\u001b[39m\u001b[39minput_ids\u001b[39m\u001b[39m'\u001b[39m\u001b[39m].squeeze()\u001b[39m\u001b[39m\\n\u001b[39;00m\u001b[39m\"\u001b[39m,\n\u001b[1;32m    281\u001b[0m     \u001b[39m\"\u001b[39m\u001b[39m        tokenized_data[\u001b[39m\u001b[39m'\u001b[39m\u001b[39mattention_mask\u001b[39m\u001b[39m'\u001b[39m\u001b[39m] = tokenized_data[\u001b[39m\u001b[39m'\u001b[39m\u001b[39mattention_mask\u001b[39m\u001b[39m'\u001b[39m\u001b[39m].squeeze()\u001b[39m\u001b[39m\\n\u001b[39;00m\u001b[39m\"\u001b[39m,\n\u001b[1;32m    282\u001b[0m     \u001b[39m\"\u001b[39m\u001b[39m        tokenized_data[\u001b[39m\u001b[39m'\u001b[39m\u001b[39mtoken_type_ids\u001b[39m\u001b[39m'\u001b[39m\u001b[39m] = tokenized_data[\u001b[39m\u001b[39m'\u001b[39m\u001b[39mtoken_type_ids\u001b[39m\u001b[39m'\u001b[39m\u001b[39m].squeeze()\u001b[39m\u001b[39m\\n\u001b[39;00m\u001b[39m\"\u001b[39m,\n\u001b[1;32m    283\u001b[0m     \u001b[39m\"\u001b[39m\u001b[39m\\n\u001b[39;00m\u001b[39m\"\u001b[39m,\n\u001b[1;32m    284\u001b[0m     \u001b[39m\"\u001b[39m\u001b[39m        span_indices = torch.where(tokenized_data[\u001b[39m\u001b[39m'\u001b[39m\u001b[39minput_ids\u001b[39m\u001b[39m'\u001b[39m\u001b[39m] == self.span_token_id)[0]\u001b[39m\u001b[39m\\n\u001b[39;00m\u001b[39m\"\u001b[39m,\n\u001b[1;32m    285\u001b[0m     \u001b[39m\"\u001b[39m\u001b[39m\\n\u001b[39;00m\u001b[39m\"\u001b[39m,\n\u001b[1;32m    286\u001b[0m     \u001b[39m\"\u001b[39m\u001b[39m        if not self.data_points[idx][\u001b[39m\u001b[39m'\u001b[39m\u001b[39mmarked_beg\u001b[39m\u001b[39m'\u001b[39m\u001b[39m]:\u001b[39m\u001b[39m\\n\u001b[39;00m\u001b[39m\"\u001b[39m,\n\u001b[1;32m    287\u001b[0m     \u001b[39m\"\u001b[39m\u001b[39m            span_indices = span_indices[1:]\u001b[39m\u001b[39m\\n\u001b[39;00m\u001b[39m\"\u001b[39m,\n\u001b[1;32m    288\u001b[0m     \u001b[39m\"\u001b[39m\u001b[39m        \u001b[39m\u001b[39m\\n\u001b[39;00m\u001b[39m\"\u001b[39m,\n\u001b[1;32m    289\u001b[0m     \u001b[39m\"\u001b[39m\u001b[39m        if not self.data_points[idx][\u001b[39m\u001b[39m'\u001b[39m\u001b[39mmarked_end\u001b[39m\u001b[39m'\u001b[39m\u001b[39m] or tokenized_data[\u001b[39m\u001b[39m'\u001b[39m\u001b[39mattention_mask\u001b[39m\u001b[39m'\u001b[39m\u001b[39m][-1] == 0:\u001b[39m\u001b[39m\\n\u001b[39;00m\u001b[39m\"\u001b[39m,\n\u001b[1;32m    290\u001b[0m     \u001b[39m\"\u001b[39m\u001b[39m            span_indices = span_indices[:-1]\u001b[39m\u001b[39m\\n\u001b[39;00m\u001b[39m\"\u001b[39m,\n\u001b[1;32m    291\u001b[0m     \u001b[39m\"\u001b[39m\u001b[39m        \u001b[39m\u001b[39m\\n\u001b[39;00m\u001b[39m\"\u001b[39m,\n\u001b[1;32m    292\u001b[0m     \u001b[39m\"\u001b[39m\u001b[39m        span_ids = self.data_points[idx][\u001b[39m\u001b[39m'\u001b[39m\u001b[39mspan_ids\u001b[39m\u001b[39m'\u001b[39m\u001b[39m]\u001b[39m\u001b[39m\\n\u001b[39;00m\u001b[39m\"\u001b[39m,\n\u001b[1;32m    293\u001b[0m     \u001b[39m\"\u001b[39m\u001b[39m        span_ids = span_ids[:len(span_indices)]\u001b[39m\u001b[39m\\n\u001b[39;00m\u001b[39m\"\u001b[39m,\n\u001b[1;32m    294\u001b[0m     \u001b[39m\"\u001b[39m\u001b[39m\\n\u001b[39;00m\u001b[39m\"\u001b[39m,\n\u001b[1;32m    295\u001b[0m     \u001b[39m\"\u001b[39m\u001b[39m        return \u001b[39m\u001b[39m{\u001b[39m\u001b[39m\\n\u001b[39;00m\u001b[39m\"\u001b[39m,\n\u001b[1;32m    296\u001b[0m     \u001b[39m\"\u001b[39m\u001b[39m            \u001b[39m\u001b[39m'\u001b[39m\u001b[39minput_ids\u001b[39m\u001b[39m'\u001b[39m\u001b[39m: tokenized_data[\u001b[39m\u001b[39m'\u001b[39m\u001b[39minput_ids\u001b[39m\u001b[39m'\u001b[39m\u001b[39m],\u001b[39m\u001b[39m\\n\u001b[39;00m\u001b[39m\"\u001b[39m,\n\u001b[1;32m    297\u001b[0m     \u001b[39m\"\u001b[39m\u001b[39m            \u001b[39m\u001b[39m'\u001b[39m\u001b[39mattention_mask\u001b[39m\u001b[39m'\u001b[39m\u001b[39m: tokenized_data[\u001b[39m\u001b[39m'\u001b[39m\u001b[39mattention_mask\u001b[39m\u001b[39m'\u001b[39m\u001b[39m],\u001b[39m\u001b[39m\\n\u001b[39;00m\u001b[39m\"\u001b[39m,\n\u001b[1;32m    298\u001b[0m     \u001b[39m\"\u001b[39m\u001b[39m            \u001b[39m\u001b[39m'\u001b[39m\u001b[39mtoken_type_ids\u001b[39m\u001b[39m'\u001b[39m\u001b[39m: tokenized_data[\u001b[39m\u001b[39m'\u001b[39m\u001b[39mtoken_type_ids\u001b[39m\u001b[39m'\u001b[39m\u001b[39m],\u001b[39m\u001b[39m\\n\u001b[39;00m\u001b[39m\"\u001b[39m,\n\u001b[1;32m    299\u001b[0m     \u001b[39m\"\u001b[39m\u001b[39m            \u001b[39m\u001b[39m'\u001b[39m\u001b[39mspan_indices\u001b[39m\u001b[39m'\u001b[39m\u001b[39m: span_indices,\u001b[39m\u001b[39m\\n\u001b[39;00m\u001b[39m\"\u001b[39m,\n\u001b[1;32m    300\u001b[0m     \u001b[39m\"\u001b[39m\u001b[39m            \u001b[39m\u001b[39m'\u001b[39m\u001b[39mnli_label\u001b[39m\u001b[39m'\u001b[39m\u001b[39m: self.data_points[idx][\u001b[39m\u001b[39m'\u001b[39m\u001b[39mnli_label\u001b[39m\u001b[39m'\u001b[39m\u001b[39m],\u001b[39m\u001b[39m\\n\u001b[39;00m\u001b[39m\"\u001b[39m,\n\u001b[1;32m    301\u001b[0m     \u001b[39m\"\u001b[39m\u001b[39m            \u001b[39m\u001b[39m'\u001b[39m\u001b[39mspan_labels\u001b[39m\u001b[39m'\u001b[39m\u001b[39m: self.data_points[idx][\u001b[39m\u001b[39m'\u001b[39m\u001b[39mspan_labels\u001b[39m\u001b[39m'\u001b[39m\u001b[39m][:len(span_indices)],\u001b[39m\u001b[39m\\n\u001b[39;00m\u001b[39m\"\u001b[39m,\n\u001b[1;32m    302\u001b[0m     \u001b[39m\"\u001b[39m\u001b[39m            \u001b[39m\u001b[39m'\u001b[39m\u001b[39mdata_for_metrics\u001b[39m\u001b[39m'\u001b[39m\u001b[39m: \u001b[39m\u001b[39m{\u001b[39m\u001b[39m\\n\u001b[39;00m\u001b[39m\"\u001b[39m,\n\u001b[1;32m    303\u001b[0m     \u001b[39m\"\u001b[39m\u001b[39m                \u001b[39m\u001b[39m'\u001b[39m\u001b[39mdoc_id\u001b[39m\u001b[39m'\u001b[39m\u001b[39m: self.data_points[idx][\u001b[39m\u001b[39m'\u001b[39m\u001b[39mdoc_id\u001b[39m\u001b[39m'\u001b[39m\u001b[39m],\u001b[39m\u001b[39m\\n\u001b[39;00m\u001b[39m\"\u001b[39m,\n\u001b[1;32m    304\u001b[0m     \u001b[39m\"\u001b[39m\u001b[39m                \u001b[39m\u001b[39m'\u001b[39m\u001b[39mhypothesis_id\u001b[39m\u001b[39m'\u001b[39m\u001b[39m: self.data_points[idx][\u001b[39m\u001b[39m'\u001b[39m\u001b[39mhypothesis_id\u001b[39m\u001b[39m'\u001b[39m\u001b[39m],\u001b[39m\u001b[39m\\n\u001b[39;00m\u001b[39m\"\u001b[39m,\n\u001b[1;32m    305\u001b[0m     \u001b[39m\"\u001b[39m\u001b[39m                \u001b[39m\u001b[39m'\u001b[39m\u001b[39mspan_ids\u001b[39m\u001b[39m'\u001b[39m\u001b[39m: span_ids,\u001b[39m\u001b[39m\\n\u001b[39;00m\u001b[39m\"\u001b[39m,\n\u001b[1;32m    306\u001b[0m     \u001b[39m\"\u001b[39m\u001b[39m            }\u001b[39m\u001b[39m\\n\u001b[39;00m\u001b[39m\"\u001b[39m,\n\u001b[1;32m    307\u001b[0m     \u001b[39m\"\u001b[39m\u001b[39m        }\u001b[39m\u001b[39m\"\u001b[39m\n\u001b[1;32m    308\u001b[0m    ]\n\u001b[1;32m    309\u001b[0m   },\n\u001b[1;32m    310\u001b[0m   {\n\u001b[1;32m    311\u001b[0m    \u001b[39m\"\u001b[39m\u001b[39mcell_type\u001b[39m\u001b[39m\"\u001b[39m: \u001b[39m\"\u001b[39m\u001b[39mcode\u001b[39m\u001b[39m\"\u001b[39m,\n\u001b[1;32m    312\u001b[0m    \u001b[39m\"\u001b[39m\u001b[39mexecution_count\u001b[39m\u001b[39m\"\u001b[39m: \u001b[39m43\u001b[39m,\n\u001b[1;32m    313\u001b[0m    \u001b[39m\"\u001b[39m\u001b[39mmetadata\u001b[39m\u001b[39m\"\u001b[39m: {},\n\u001b[1;32m    314\u001b[0m    \u001b[39m\"\u001b[39m\u001b[39moutputs\u001b[39m\u001b[39m\"\u001b[39m: [\n\u001b[1;32m    315\u001b[0m     {\n\u001b[1;32m    316\u001b[0m      \u001b[39m\"\u001b[39m\u001b[39mname\u001b[39m\u001b[39m\"\u001b[39m: \u001b[39m\"\u001b[39m\u001b[39mstderr\u001b[39m\u001b[39m\"\u001b[39m,\n\u001b[1;32m    317\u001b[0m      \u001b[39m\"\u001b[39m\u001b[39moutput_type\u001b[39m\u001b[39m\"\u001b[39m: \u001b[39m\"\u001b[39m\u001b[39mstream\u001b[39m\u001b[39m\"\u001b[39m,\n\u001b[1;32m    318\u001b[0m      \u001b[39m\"\u001b[39m\u001b[39mtext\u001b[39m\u001b[39m\"\u001b[39m: [\n\u001b[1;32m    319\u001b[0m       \u001b[39m\"\u001b[39m\u001b[39m/tmp/ipykernel_12680/1745476268.py:91: UserWarning: To copy construct from a tensor, it is recommended to use sourceTensor.clone().detach() or sourceTensor.clone().detach().requires_grad_(True), rather than torch.tensor(sourceTensor).\u001b[39m\u001b[39m\\n\u001b[39;00m\u001b[39m\"\u001b[39m,\n\u001b[1;32m    320\u001b[0m       \u001b[39m\"\u001b[39m\u001b[39m  data_point[\u001b[39m\u001b[39m'\u001b[39m\u001b[39mspan_labels\u001b[39m\u001b[39m'\u001b[39m\u001b[39m] = torch.tensor(span_labels, dtype=torch.long)\u001b[39m\u001b[39m\\n\u001b[39;00m\u001b[39m\"\u001b[39m\n\u001b[1;32m    321\u001b[0m      ]\n\u001b[1;32m    322\u001b[0m     }\n\u001b[1;32m    323\u001b[0m    ],\n\u001b[1;32m    324\u001b[0m    \u001b[39m\"\u001b[39m\u001b[39msource\u001b[39m\u001b[39m\"\u001b[39m: [\n\u001b[1;32m    325\u001b[0m     \u001b[39m\"\u001b[39m\u001b[39mtrain_data = load_data(os.path.join(cfg[\u001b[39m\u001b[39m'\u001b[39m\u001b[39mraw_data_dir\u001b[39m\u001b[39m'\u001b[39m\u001b[39m], cfg[\u001b[39m\u001b[39m'\u001b[39m\u001b[39mtrain_path\u001b[39m\u001b[39m'\u001b[39m\u001b[39m]))\u001b[39m\u001b[39m\\n\u001b[39;00m\u001b[39m\"\u001b[39m,\n\u001b[1;32m    326\u001b[0m     \u001b[39m\"\u001b[39m\u001b[39mdev_data = load_data(os.path.join(cfg[\u001b[39m\u001b[39m'\u001b[39m\u001b[39mraw_data_dir\u001b[39m\u001b[39m'\u001b[39m\u001b[39m], cfg[\u001b[39m\u001b[39m'\u001b[39m\u001b[39mdev_path\u001b[39m\u001b[39m'\u001b[39m\u001b[39m]))\u001b[39m\u001b[39m\\n\u001b[39;00m\u001b[39m\"\u001b[39m,\n\u001b[1;32m    327\u001b[0m     \u001b[39m\"\u001b[39m\u001b[39mtest_data = load_data(os.path.join(cfg[\u001b[39m\u001b[39m'\u001b[39m\u001b[39mraw_data_dir\u001b[39m\u001b[39m'\u001b[39m\u001b[39m], cfg[\u001b[39m\u001b[39m'\u001b[39m\u001b[39mtest_path\u001b[39m\u001b[39m'\u001b[39m\u001b[39m]))\u001b[39m\u001b[39m\\n\u001b[39;00m\u001b[39m\"\u001b[39m,\n\u001b[1;32m    328\u001b[0m     \u001b[39m\"\u001b[39m\u001b[39m\\n\u001b[39;00m\u001b[39m\"\u001b[39m,\n\u001b[1;32m    329\u001b[0m     \u001b[39m\"\u001b[39m\u001b[39mhypothesis = get_hypothesis(train_data)\u001b[39m\u001b[39m\\n\u001b[39;00m\u001b[39m\"\u001b[39m,\n\u001b[1;32m    330\u001b[0m     \u001b[39m\"\u001b[39m\u001b[39m\\n\u001b[39;00m\u001b[39m\"\u001b[39m,\n\u001b[1;32m    331\u001b[0m     \u001b[39m\"\u001b[39m\u001b[39mtrain_data = train_data[\u001b[39m\u001b[39m'\u001b[39m\u001b[39mdocuments\u001b[39m\u001b[39m'\u001b[39m\u001b[39m]\u001b[39m\u001b[39m\\n\u001b[39;00m\u001b[39m\"\u001b[39m,\n\u001b[1;32m    332\u001b[0m     \u001b[39m\"\u001b[39m\u001b[39mdev_data = dev_data[\u001b[39m\u001b[39m'\u001b[39m\u001b[39mdocuments\u001b[39m\u001b[39m'\u001b[39m\u001b[39m]\u001b[39m\u001b[39m\\n\u001b[39;00m\u001b[39m\"\u001b[39m,\n\u001b[1;32m    333\u001b[0m     \u001b[39m\"\u001b[39m\u001b[39mtest_data = test_data[\u001b[39m\u001b[39m'\u001b[39m\u001b[39mdocuments\u001b[39m\u001b[39m'\u001b[39m\u001b[39m]\u001b[39m\u001b[39m\\n\u001b[39;00m\u001b[39m\"\u001b[39m,\n\u001b[1;32m    334\u001b[0m     \u001b[39m\"\u001b[39m\u001b[39m\\n\u001b[39;00m\u001b[39m\"\u001b[39m,\n\u001b[1;32m    335\u001b[0m     \u001b[39m\"\u001b[39m\u001b[39mtrain_data = train_data[:100]\u001b[39m\u001b[39m\\n\u001b[39;00m\u001b[39m\"\u001b[39m,\n\u001b[1;32m    336\u001b[0m     \u001b[39m\"\u001b[39m\u001b[39mdev_data = dev_data[:100]\u001b[39m\u001b[39m\\n\u001b[39;00m\u001b[39m\"\u001b[39m,\n\u001b[1;32m    337\u001b[0m     \u001b[39m\"\u001b[39m\u001b[39mtest_data = test_data[:100]\u001b[39m\u001b[39m\\n\u001b[39;00m\u001b[39m\"\u001b[39m,\n\u001b[1;32m    338\u001b[0m     \u001b[39m\"\u001b[39m\u001b[39m\\n\u001b[39;00m\u001b[39m\"\u001b[39m,\n\u001b[1;32m    339\u001b[0m     \u001b[39m\"\u001b[39m\u001b[39mic.disable()\u001b[39m\u001b[39m\\n\u001b[39;00m\u001b[39m\"\u001b[39m,\n\u001b[1;32m    340\u001b[0m     \u001b[39m\"\u001b[39m\u001b[39m\\n\u001b[39;00m\u001b[39m\"\u001b[39m,\n\u001b[1;32m    341\u001b[0m     \u001b[39m\"\u001b[39m\u001b[39mic(len(train_data), len(dev_data), len(test_data))\u001b[39m\u001b[39m\\n\u001b[39;00m\u001b[39m\"\u001b[39m,\n\u001b[1;32m    342\u001b[0m     \u001b[39m\"\u001b[39m\u001b[39mtrain_dataset = NLIDataset(train_data, tokenizer, hypothesis, [1000, 1100, 1200], 50)\u001b[39m\u001b[39m\\n\u001b[39;00m\u001b[39m\"\u001b[39m,\n\u001b[1;32m    343\u001b[0m     \u001b[39m\"\u001b[39m\u001b[39mdev_dataset = NLIDataset(dev_data, tokenizer, hypothesis, [1000, 1100, 1200], 50)\u001b[39m\u001b[39m\\n\u001b[39;00m\u001b[39m\"\u001b[39m,\n\u001b[1;32m    344\u001b[0m     \u001b[39m\"\u001b[39m\u001b[39mtest_dataset = NLIDataset(test_data, tokenizer, hypothesis, [1000, 1100, 1200], 50)\u001b[39m\u001b[39m\\n\u001b[39;00m\u001b[39m\"\u001b[39m,\n\u001b[1;32m    345\u001b[0m     \u001b[39m\"\u001b[39m\u001b[39m\\n\u001b[39;00m\u001b[39m\"\u001b[39m,\n\u001b[1;32m    346\u001b[0m     \u001b[39m\"\u001b[39m\u001b[39mic.enable()\u001b[39m\u001b[39m\\n\u001b[39;00m\u001b[39m\"\u001b[39m,\n\u001b[1;32m    347\u001b[0m     \u001b[39m\"\u001b[39m\u001b[39m\\n\u001b[39;00m\u001b[39m\"\u001b[39m,\n\u001b[1;32m    348\u001b[0m     \u001b[39m\"\u001b[39m\u001b[39mdel train_data\u001b[39m\u001b[39m\\n\u001b[39;00m\u001b[39m\"\u001b[39m,\n\u001b[1;32m    349\u001b[0m     \u001b[39m\"\u001b[39m\u001b[39mdel dev_data\u001b[39m\u001b[39m\\n\u001b[39;00m\u001b[39m\"\u001b[39m,\n\u001b[1;32m    350\u001b[0m     \u001b[39m\"\u001b[39m\u001b[39mdel test_data\u001b[39m\u001b[39m\\n\u001b[39;00m\u001b[39m\"\u001b[39m,\n\u001b[1;32m    351\u001b[0m     \u001b[39m\"\u001b[39m\u001b[39mdel hypothesis\u001b[39m\u001b[39m\"\u001b[39m\n\u001b[1;32m    352\u001b[0m    ]\n\u001b[1;32m    353\u001b[0m   },\n\u001b[1;32m    354\u001b[0m   {\n\u001b[1;32m    355\u001b[0m    \u001b[39m\"\u001b[39m\u001b[39mcell_type\u001b[39m\u001b[39m\"\u001b[39m: \u001b[39m\"\u001b[39m\u001b[39mcode\u001b[39m\u001b[39m\"\u001b[39m,\n\u001b[1;32m    356\u001b[0m    \u001b[39m\"\u001b[39m\u001b[39mexecution_count\u001b[39m\u001b[39m\"\u001b[39m: \u001b[39m44\u001b[39m,\n\u001b[1;32m    357\u001b[0m    \u001b[39m\"\u001b[39m\u001b[39mmetadata\u001b[39m\u001b[39m\"\u001b[39m: {},\n\u001b[1;32m    358\u001b[0m    \u001b[39m\"\u001b[39m\u001b[39moutputs\u001b[39m\u001b[39m\"\u001b[39m: [\n\u001b[1;32m    359\u001b[0m     {\n\u001b[1;32m    360\u001b[0m      \u001b[39m\"\u001b[39m\u001b[39mname\u001b[39m\u001b[39m\"\u001b[39m: \u001b[39m\"\u001b[39m\u001b[39mstderr\u001b[39m\u001b[39m\"\u001b[39m,\n\u001b[1;32m    361\u001b[0m      \u001b[39m\"\u001b[39m\u001b[39moutput_type\u001b[39m\u001b[39m\"\u001b[39m: \u001b[39m\"\u001b[39m\u001b[39mstream\u001b[39m\u001b[39m\"\u001b[39m,\n\u001b[1;32m    362\u001b[0m      \u001b[39m\"\u001b[39m\u001b[39mtext\u001b[39m\u001b[39m\"\u001b[39m: [\n\u001b[1;32m    363\u001b[0m       \u001b[39m\"\u001b[39m\u001b[39mic| len(train_dataset): 1394\u001b[39m\u001b[39m\\n\u001b[39;00m\u001b[39m\"\u001b[39m,\n\u001b[1;32m    364\u001b[0m       \u001b[39m\"\u001b[39m\u001b[39m    len(dev_dataset): 2448\u001b[39m\u001b[39m\\n\u001b[39;00m\u001b[39m\"\u001b[39m,\n\u001b[1;32m    365\u001b[0m       \u001b[39m\"\u001b[39m\u001b[39m    len(test_dataset): 1887\u001b[39m\u001b[39m\\n\u001b[39;00m\u001b[39m\"\u001b[39m\n\u001b[1;32m    366\u001b[0m      ]\n\u001b[1;32m    367\u001b[0m     },\n\u001b[1;32m    368\u001b[0m     {\n\u001b[1;32m    369\u001b[0m      \u001b[39m\"\u001b[39m\u001b[39mdata\u001b[39m\u001b[39m\"\u001b[39m: {\n\u001b[1;32m    370\u001b[0m       \u001b[39m\"\u001b[39m\u001b[39mtext/plain\u001b[39m\u001b[39m\"\u001b[39m: [\n\u001b[1;32m    371\u001b[0m        \u001b[39m\"\u001b[39m\u001b[39m(1394, 2448, 1887)\u001b[39m\u001b[39m\"\u001b[39m\n\u001b[1;32m    372\u001b[0m       ]\n\u001b[1;32m    373\u001b[0m      },\n\u001b[0;32m--> 374\u001b[0m      \u001b[39m\"\u001b[39m\u001b[39mexecution_count\u001b[39m\u001b[39m\"\u001b[39m: \u001b[39m44\u001b[39m,\n\u001b[1;32m    375\u001b[0m      \u001b[39m\"\u001b[39m\u001b[39mmetadata\u001b[39m\u001b[39m\"\u001b[39m: {},\n\u001b[1;32m    376\u001b[0m      \u001b[39m\"\u001b[39m\u001b[39moutput_type\u001b[39m\u001b[39m\"\u001b[39m: \u001b[39m\"\u001b[39m\u001b[39mexecute_result\u001b[39m\u001b[39m\"\u001b[39m\n\u001b[1;32m    377\u001b[0m     }\n\u001b[1;32m    378\u001b[0m    ],\n\u001b[1;32m    379\u001b[0m    \u001b[39m\"\u001b[39m\u001b[39msource\u001b[39m\u001b[39m\"\u001b[39m: [\n\u001b[1;32m    380\u001b[0m     \u001b[39m\"\u001b[39m\u001b[39mic(len(train_dataset), len(dev_dataset), len(test_dataset))\u001b[39m\u001b[39m\"\u001b[39m\n\u001b[1;32m    381\u001b[0m    ]\n\u001b[1;32m    382\u001b[0m   },\n\u001b[1;32m    383\u001b[0m   {\n\u001b[1;32m    384\u001b[0m    \u001b[39m\"\u001b[39m\u001b[39mcell_type\u001b[39m\u001b[39m\"\u001b[39m: \u001b[39m\"\u001b[39m\u001b[39mcode\u001b[39m\u001b[39m\"\u001b[39m,\n\u001b[1;32m    385\u001b[0m    \u001b[39m\"\u001b[39m\u001b[39mexecution_count\u001b[39m\u001b[39m\"\u001b[39m: \u001b[39m45\u001b[39m,\n\u001b[1;32m    386\u001b[0m    \u001b[39m\"\u001b[39m\u001b[39mmetadata\u001b[39m\u001b[39m\"\u001b[39m: {},\n\u001b[1;32m    387\u001b[0m    \u001b[39m\"\u001b[39m\u001b[39moutputs\u001b[39m\u001b[39m\"\u001b[39m: [],\n\u001b[1;32m    388\u001b[0m    \u001b[39m\"\u001b[39m\u001b[39msource\u001b[39m\u001b[39m\"\u001b[39m: [\n\u001b[1;32m    389\u001b[0m     \u001b[39m\"\u001b[39m\u001b[39m\\n\u001b[39;00m\u001b[39m\"\u001b[39m,\n\u001b[1;32m    390\u001b[0m     \u001b[39m\"\u001b[39m\u001b[39m# def count_classes(dataset):\u001b[39m\u001b[39m\\n\u001b[39;00m\u001b[39m\"\u001b[39m,\n\u001b[1;32m    391\u001b[0m     \u001b[39m\"\u001b[39m\u001b[39m#     zero_ct = 0\u001b[39m\u001b[39m\\n\u001b[39;00m\u001b[39m\"\u001b[39m,\n\u001b[1;32m    392\u001b[0m     \u001b[39m\"\u001b[39m\u001b[39m#     one_ct = 0\u001b[39m\u001b[39m\\n\u001b[39;00m\u001b[39m\"\u001b[39m,\n\u001b[1;32m    393\u001b[0m     \u001b[39m\"\u001b[39m\u001b[39m#     minus_one_ct = 0\u001b[39m\u001b[39m\\n\u001b[39;00m\u001b[39m\"\u001b[39m,\n\u001b[1;32m    394\u001b[0m     \u001b[39m\"\u001b[39m\u001b[39m    \u001b[39m\u001b[39m\\n\u001b[39;00m\u001b[39m\"\u001b[39m,\n\u001b[1;32m    395\u001b[0m     \u001b[39m\"\u001b[39m\u001b[39m#     for x in dataset:\u001b[39m\u001b[39m\\n\u001b[39;00m\u001b[39m\"\u001b[39m,\n\u001b[1;32m    396\u001b[0m     \u001b[39m\"\u001b[39m\u001b[39m#         for i in x[\u001b[39m\u001b[39m'\u001b[39m\u001b[39mspan_labels\u001b[39m\u001b[39m'\u001b[39m\u001b[39m]:\u001b[39m\u001b[39m\\n\u001b[39;00m\u001b[39m\"\u001b[39m,\n\u001b[1;32m    397\u001b[0m     \u001b[39m\"\u001b[39m\u001b[39m#             if i == 0:\u001b[39m\u001b[39m\\n\u001b[39;00m\u001b[39m\"\u001b[39m,\n\u001b[1;32m    398\u001b[0m     \u001b[39m\"\u001b[39m\u001b[39m#                 zero_ct += 1\u001b[39m\u001b[39m\\n\u001b[39;00m\u001b[39m\"\u001b[39m,\n\u001b[1;32m    399\u001b[0m     \u001b[39m\"\u001b[39m\u001b[39m#             elif i == 1:\u001b[39m\u001b[39m\\n\u001b[39;00m\u001b[39m\"\u001b[39m,\n\u001b[1;32m    400\u001b[0m     \u001b[39m\"\u001b[39m\u001b[39m#                 one_ct += 1\u001b[39m\u001b[39m\\n\u001b[39;00m\u001b[39m\"\u001b[39m,\n\u001b[1;32m    401\u001b[0m     \u001b[39m\"\u001b[39m\u001b[39m#             else:\u001b[39m\u001b[39m\\n\u001b[39;00m\u001b[39m\"\u001b[39m,\n\u001b[1;32m    402\u001b[0m     \u001b[39m\"\u001b[39m\u001b[39m#                 minus_one_ct += 1\u001b[39m\u001b[39m\\n\u001b[39;00m\u001b[39m\"\u001b[39m,\n\u001b[1;32m    403\u001b[0m     \u001b[39m\"\u001b[39m\u001b[39m                \u001b[39m\u001b[39m\\n\u001b[39;00m\u001b[39m\"\u001b[39m,\n\u001b[1;32m    404\u001b[0m     \u001b[39m\"\u001b[39m\u001b[39m#     return zero_ct, one_ct, minus_one_ct\u001b[39m\u001b[39m\\n\u001b[39;00m\u001b[39m\"\u001b[39m,\n\u001b[1;32m    405\u001b[0m     \u001b[39m\"\u001b[39m\u001b[39m\\n\u001b[39;00m\u001b[39m\"\u001b[39m,\n\u001b[1;32m    406\u001b[0m     \u001b[39m\"\u001b[39m\u001b[39m# zero_cnt_train, one_cnt_train, minus_one_cnt_train = count_classes(train_dataset)\u001b[39m\u001b[39m\\n\u001b[39;00m\u001b[39m\"\u001b[39m,\n\u001b[1;32m    407\u001b[0m     \u001b[39m\"\u001b[39m\u001b[39m# ic(count_classes(dev_dataset))\u001b[39m\u001b[39m\\n\u001b[39;00m\u001b[39m\"\u001b[39m,\n\u001b[1;32m    408\u001b[0m     \u001b[39m\"\u001b[39m\u001b[39m# ic(count_classes(test_dataset))\u001b[39m\u001b[39m\\n\u001b[39;00m\u001b[39m\"\u001b[39m,\n\u001b[1;32m    409\u001b[0m     \u001b[39m\"\u001b[39m\u001b[39m\\n\u001b[39;00m\u001b[39m\"\u001b[39m,\n\u001b[1;32m    410\u001b[0m     \u001b[39m\"\u001b[39m\u001b[39m\\n\u001b[39;00m\u001b[39m\"\u001b[39m,\n\u001b[1;32m    411\u001b[0m     \u001b[39m\"\u001b[39m\u001b[39m\\n\u001b[39;00m\u001b[39m\"\u001b[39m,\n\u001b[1;32m    412\u001b[0m     \u001b[39m\"\u001b[39m\u001b[39m    # for x in train_dataset:\u001b[39m\u001b[39m\\n\u001b[39;00m\u001b[39m\"\u001b[39m,\n\u001b[1;32m    413\u001b[0m     \u001b[39m\"\u001b[39m\u001b[39m    #     if x[\u001b[39m\u001b[39m'\u001b[39m\u001b[39mnli_label\u001b[39m\u001b[39m'\u001b[39m\u001b[39m] == 1 or x[\u001b[39m\u001b[39m'\u001b[39m\u001b[39mnli_label\u001b[39m\u001b[39m'\u001b[39m\u001b[39m] == 2:\u001b[39m\u001b[39m\\n\u001b[39;00m\u001b[39m\"\u001b[39m,\n\u001b[1;32m    414\u001b[0m     \u001b[39m\"\u001b[39m\u001b[39m    #         for i in x[\u001b[39m\u001b[39m'\u001b[39m\u001b[39mspan_labels\u001b[39m\u001b[39m'\u001b[39m\u001b[39m]:\u001b[39m\u001b[39m\\n\u001b[39;00m\u001b[39m\"\u001b[39m,\n\u001b[1;32m    415\u001b[0m     \u001b[39m\"\u001b[39m\u001b[39m    #             if i == 0:\u001b[39m\u001b[39m\\n\u001b[39;00m\u001b[39m\"\u001b[39m,\n\u001b[1;32m    416\u001b[0m     \u001b[39m\"\u001b[39m\u001b[39m    #                 zero_ct += 1\u001b[39m\u001b[39m\\n\u001b[39;00m\u001b[39m\"\u001b[39m,\n\u001b[1;32m    417\u001b[0m     \u001b[39m\"\u001b[39m\u001b[39m    #             else:\u001b[39m\u001b[39m\\n\u001b[39;00m\u001b[39m\"\u001b[39m,\n\u001b[1;32m    418\u001b[0m     \u001b[39m\"\u001b[39m\u001b[39m    #                 one_ct += 1\u001b[39m\u001b[39m\\n\u001b[39;00m\u001b[39m\"\u001b[39m,\n\u001b[1;32m    419\u001b[0m     \u001b[39m\"\u001b[39m\u001b[39m\\n\u001b[39;00m\u001b[39m\"\u001b[39m,\n\u001b[1;32m    420\u001b[0m     \u001b[39m\"\u001b[39m\u001b[39m    # ic(zero_ct, one_ct)\u001b[39m\u001b[39m\\n\u001b[39;00m\u001b[39m\"\u001b[39m,\n\u001b[1;32m    421\u001b[0m     \u001b[39m\"\u001b[39m\u001b[39m\\n\u001b[39;00m\u001b[39m\"\u001b[39m,\n\u001b[1;32m    422\u001b[0m     \u001b[39m\"\u001b[39m\u001b[39m    # zero_ct = 0\u001b[39m\u001b[39m\\n\u001b[39;00m\u001b[39m\"\u001b[39m,\n\u001b[1;32m    423\u001b[0m     \u001b[39m\"\u001b[39m\u001b[39m    # one_ct = 0\u001b[39m\u001b[39m\\n\u001b[39;00m\u001b[39m\"\u001b[39m,\n\u001b[1;32m    424\u001b[0m     \u001b[39m\"\u001b[39m\u001b[39m\\n\u001b[39;00m\u001b[39m\"\u001b[39m,\n\u001b[1;32m    425\u001b[0m     \u001b[39m\"\u001b[39m\u001b[39m    # for x in dev_dataset:\u001b[39m\u001b[39m\\n\u001b[39;00m\u001b[39m\"\u001b[39m,\n\u001b[1;32m    426\u001b[0m     \u001b[39m\"\u001b[39m\u001b[39m    #     if x[\u001b[39m\u001b[39m'\u001b[39m\u001b[39mnli_label\u001b[39m\u001b[39m'\u001b[39m\u001b[39m] == 1 or x[\u001b[39m\u001b[39m'\u001b[39m\u001b[39mnli_label\u001b[39m\u001b[39m'\u001b[39m\u001b[39m] == 2:\u001b[39m\u001b[39m\\n\u001b[39;00m\u001b[39m\"\u001b[39m,\n\u001b[1;32m    427\u001b[0m     \u001b[39m\"\u001b[39m\u001b[39m    #         for i in x[\u001b[39m\u001b[39m'\u001b[39m\u001b[39mspan_labels\u001b[39m\u001b[39m'\u001b[39m\u001b[39m]:\u001b[39m\u001b[39m\\n\u001b[39;00m\u001b[39m\"\u001b[39m,\n\u001b[1;32m    428\u001b[0m     \u001b[39m\"\u001b[39m\u001b[39m    #             if i == 0:\u001b[39m\u001b[39m\\n\u001b[39;00m\u001b[39m\"\u001b[39m,\n\u001b[1;32m    429\u001b[0m     \u001b[39m\"\u001b[39m\u001b[39m    #                 zero_ct += 1\u001b[39m\u001b[39m\\n\u001b[39;00m\u001b[39m\"\u001b[39m,\n\u001b[1;32m    430\u001b[0m     \u001b[39m\"\u001b[39m\u001b[39m    #             else:\u001b[39m\u001b[39m\\n\u001b[39;00m\u001b[39m\"\u001b[39m,\n\u001b[1;32m    431\u001b[0m     \u001b[39m\"\u001b[39m\u001b[39m    #                 one_ct += 1\u001b[39m\u001b[39m\\n\u001b[39;00m\u001b[39m\"\u001b[39m,\n\u001b[1;32m    432\u001b[0m     \u001b[39m\"\u001b[39m\u001b[39m\\n\u001b[39;00m\u001b[39m\"\u001b[39m,\n\u001b[1;32m    433\u001b[0m     \u001b[39m\"\u001b[39m\u001b[39m    # ic(zero_ct, one_ct)\u001b[39m\u001b[39m\\n\u001b[39;00m\u001b[39m\"\u001b[39m,\n\u001b[1;32m    434\u001b[0m     \u001b[39m\"\u001b[39m\u001b[39m\\n\u001b[39;00m\u001b[39m\"\u001b[39m,\n\u001b[1;32m    435\u001b[0m     \u001b[39m\"\u001b[39m\u001b[39m    # zero_ct = 0\u001b[39m\u001b[39m\\n\u001b[39;00m\u001b[39m\"\u001b[39m,\n\u001b[1;32m    436\u001b[0m     \u001b[39m\"\u001b[39m\u001b[39m    # one_ct = 0\u001b[39m\u001b[39m\\n\u001b[39;00m\u001b[39m\"\u001b[39m,\n\u001b[1;32m    437\u001b[0m     \u001b[39m\"\u001b[39m\u001b[39m\\n\u001b[39;00m\u001b[39m\"\u001b[39m,\n\u001b[1;32m    438\u001b[0m     \u001b[39m\"\u001b[39m\u001b[39m    # for x in test_dataset:\u001b[39m\u001b[39m\\n\u001b[39;00m\u001b[39m\"\u001b[39m,\n\u001b[1;32m    439\u001b[0m     \u001b[39m\"\u001b[39m\u001b[39m    #     if x[\u001b[39m\u001b[39m'\u001b[39m\u001b[39mnli_label\u001b[39m\u001b[39m'\u001b[39m\u001b[39m] == 1 or x[\u001b[39m\u001b[39m'\u001b[39m\u001b[39mnli_label\u001b[39m\u001b[39m'\u001b[39m\u001b[39m] == 2:\u001b[39m\u001b[39m\\n\u001b[39;00m\u001b[39m\"\u001b[39m,\n\u001b[1;32m    440\u001b[0m     \u001b[39m\"\u001b[39m\u001b[39m    #         for i in x[\u001b[39m\u001b[39m'\u001b[39m\u001b[39mspan_labels\u001b[39m\u001b[39m'\u001b[39m\u001b[39m]:\u001b[39m\u001b[39m\\n\u001b[39;00m\u001b[39m\"\u001b[39m,\n\u001b[1;32m    441\u001b[0m     \u001b[39m\"\u001b[39m\u001b[39m    #             if i == 0:\u001b[39m\u001b[39m\\n\u001b[39;00m\u001b[39m\"\u001b[39m,\n\u001b[1;32m    442\u001b[0m     \u001b[39m\"\u001b[39m\u001b[39m    #                 zero_ct += 1\u001b[39m\u001b[39m\\n\u001b[39;00m\u001b[39m\"\u001b[39m,\n\u001b[1;32m    443\u001b[0m     \u001b[39m\"\u001b[39m\u001b[39m    #             else:\u001b[39m\u001b[39m\\n\u001b[39;00m\u001b[39m\"\u001b[39m,\n\u001b[1;32m    444\u001b[0m     \u001b[39m\"\u001b[39m\u001b[39m    #                 one_ct += 1\u001b[39m\u001b[39m\\n\u001b[39;00m\u001b[39m\"\u001b[39m,\n\u001b[1;32m    445\u001b[0m     \u001b[39m\"\u001b[39m\u001b[39m\\n\u001b[39;00m\u001b[39m\"\u001b[39m,\n\u001b[1;32m    446\u001b[0m     \u001b[39m\"\u001b[39m\u001b[39m    # ic(zero_ct, one_ct)\u001b[39m\u001b[39m\"\u001b[39m\n\u001b[1;32m    447\u001b[0m    ]\n\u001b[1;32m    448\u001b[0m   },\n\u001b[1;32m    449\u001b[0m   {\n\u001b[1;32m    450\u001b[0m    \u001b[39m\"\u001b[39m\u001b[39mcell_type\u001b[39m\u001b[39m\"\u001b[39m: \u001b[39m\"\u001b[39m\u001b[39mcode\u001b[39m\u001b[39m\"\u001b[39m,\n\u001b[1;32m    451\u001b[0m    \u001b[39m\"\u001b[39m\u001b[39mexecution_count\u001b[39m\u001b[39m\"\u001b[39m: \u001b[39m99\u001b[39m,\n\u001b[1;32m    452\u001b[0m    \u001b[39m\"\u001b[39m\u001b[39mmetadata\u001b[39m\u001b[39m\"\u001b[39m: {},\n\u001b[1;32m    453\u001b[0m    \u001b[39m\"\u001b[39m\u001b[39moutputs\u001b[39m\u001b[39m\"\u001b[39m: [],\n\u001b[1;32m    454\u001b[0m    \u001b[39m\"\u001b[39m\u001b[39msource\u001b[39m\u001b[39m\"\u001b[39m: [\n\u001b[1;32m    455\u001b[0m     \u001b[39m\"\u001b[39m\u001b[39mfrom sklearn.utils.class_weight import compute_class_weight\u001b[39m\u001b[39m\\n\u001b[39;00m\u001b[39m\"\u001b[39m,\n\u001b[1;32m    456\u001b[0m     \u001b[39m\"\u001b[39m\u001b[39mimport numpy as np\u001b[39m\u001b[39m\\n\u001b[39;00m\u001b[39m\"\u001b[39m,\n\u001b[1;32m    457\u001b[0m     \u001b[39m\"\u001b[39m\u001b[39m\\n\u001b[39;00m\u001b[39m\"\u001b[39m,\n\u001b[1;32m    458\u001b[0m     \u001b[39m\"\u001b[39m\u001b[39mdef get_class_weights(dataset):\u001b[39m\u001b[39m\\n\u001b[39;00m\u001b[39m\"\u001b[39m,\n\u001b[1;32m    459\u001b[0m     \u001b[39m\"\u001b[39m\u001b[39m    nli_labels = [x[\u001b[39m\u001b[39m'\u001b[39m\u001b[39mnli_label\u001b[39m\u001b[39m'\u001b[39m\u001b[39m] for x in dataset]\u001b[39m\u001b[39m\\n\u001b[39;00m\u001b[39m\"\u001b[39m,\n\u001b[1;32m    460\u001b[0m     \u001b[39m\"\u001b[39m\u001b[39m\\n\u001b[39;00m\u001b[39m\"\u001b[39m,\n\u001b[1;32m    461\u001b[0m     \u001b[39m\"\u001b[39m\u001b[39m    span_labels = []\u001b[39m\u001b[39m\\n\u001b[39;00m\u001b[39m\"\u001b[39m,\n\u001b[1;32m    462\u001b[0m     \u001b[39m\"\u001b[39m\u001b[39m    for x in dataset:\u001b[39m\u001b[39m\\n\u001b[39;00m\u001b[39m\"\u001b[39m,\n\u001b[1;32m    463\u001b[0m     \u001b[39m\"\u001b[39m\u001b[39m        span_labels.extend(x[\u001b[39m\u001b[39m'\u001b[39m\u001b[39mspan_labels\u001b[39m\u001b[39m'\u001b[39m\u001b[39m].tolist())\u001b[39m\u001b[39m\\n\u001b[39;00m\u001b[39m\"\u001b[39m,\n\u001b[1;32m    464\u001b[0m     \u001b[39m\"\u001b[39m\u001b[39m\\n\u001b[39;00m\u001b[39m\"\u001b[39m,\n\u001b[1;32m    465\u001b[0m     \u001b[39m\"\u001b[39m\u001b[39m    nli_weights = compute_class_weight(\u001b[39m\u001b[39m'\u001b[39m\u001b[39mbalanced\u001b[39m\u001b[39m'\u001b[39m\u001b[39m, classes=np.unique(nli_labels), y=np.array(nli_labels))\u001b[39m\u001b[39m\\n\u001b[39;00m\u001b[39m\"\u001b[39m,\n\u001b[1;32m    466\u001b[0m     \u001b[39m\"\u001b[39m\u001b[39m\\n\u001b[39;00m\u001b[39m\"\u001b[39m,\n\u001b[1;32m    467\u001b[0m     \u001b[39m\"\u001b[39m\u001b[39m    nli_weights = nli_weights.tolist()\u001b[39m\u001b[39m\\n\u001b[39;00m\u001b[39m\"\u001b[39m,\n\u001b[1;32m    468\u001b[0m     \u001b[39m\"\u001b[39m\u001b[39m\\n\u001b[39;00m\u001b[39m\"\u001b[39m,\n\u001b[1;32m    469\u001b[0m     \u001b[39m\"\u001b[39m\u001b[39m    span_labels = [x for x in span_labels if x != -1]\u001b[39m\u001b[39m\\n\u001b[39;00m\u001b[39m\"\u001b[39m,\n\u001b[1;32m    470\u001b[0m     \u001b[39m\"\u001b[39m\u001b[39m    span_labels = np.array(span_labels)\u001b[39m\u001b[39m\\n\u001b[39;00m\u001b[39m\"\u001b[39m,\n\u001b[1;32m    471\u001b[0m     \u001b[39m\"\u001b[39m\u001b[39m    span_weight = np.sum(span_labels == 0) / np.sum(span_labels)\u001b[39m\u001b[39m\\n\u001b[39;00m\u001b[39m\"\u001b[39m,\n\u001b[1;32m    472\u001b[0m     \u001b[39m\"\u001b[39m\u001b[39m\\n\u001b[39;00m\u001b[39m\"\u001b[39m,\n\u001b[1;32m    473\u001b[0m     \u001b[39m\"\u001b[39m\u001b[39m    return nli_weights, span_weight\u001b[39m\u001b[39m\"\u001b[39m\n\u001b[1;32m    474\u001b[0m    ]\n\u001b[1;32m    475\u001b[0m   },\n\u001b[1;32m    476\u001b[0m   {\n\u001b[1;32m    477\u001b[0m    \u001b[39m\"\u001b[39m\u001b[39mcell_type\u001b[39m\u001b[39m\"\u001b[39m: \u001b[39m\"\u001b[39m\u001b[39mcode\u001b[39m\u001b[39m\"\u001b[39m,\n\u001b[1;32m    478\u001b[0m    \u001b[39m\"\u001b[39m\u001b[39mexecution_count\u001b[39m\u001b[39m\"\u001b[39m: \u001b[39m100\u001b[39m,\n\u001b[1;32m    479\u001b[0m    \u001b[39m\"\u001b[39m\u001b[39mmetadata\u001b[39m\u001b[39m\"\u001b[39m: {},\n\u001b[1;32m    480\u001b[0m    \u001b[39m\"\u001b[39m\u001b[39moutputs\u001b[39m\u001b[39m\"\u001b[39m: [],\n\u001b[1;32m    481\u001b[0m    \u001b[39m\"\u001b[39m\u001b[39msource\u001b[39m\u001b[39m\"\u001b[39m: [\n\u001b[1;32m    482\u001b[0m     \u001b[39m\"\u001b[39m\u001b[39mnli_weights, span_weight = get_class_weights(train_dataset)\u001b[39m\u001b[39m\"\u001b[39m\n\u001b[1;32m    483\u001b[0m    ]\n\u001b[1;32m    484\u001b[0m   },\n\u001b[1;32m    485\u001b[0m   {\n\u001b[1;32m    486\u001b[0m    \u001b[39m\"\u001b[39m\u001b[39mcell_type\u001b[39m\u001b[39m\"\u001b[39m: \u001b[39m\"\u001b[39m\u001b[39mcode\u001b[39m\u001b[39m\"\u001b[39m,\n\u001b[1;32m    487\u001b[0m    \u001b[39m\"\u001b[39m\u001b[39mexecution_count\u001b[39m\u001b[39m\"\u001b[39m: \u001b[39m101\u001b[39m,\n\u001b[1;32m    488\u001b[0m    \u001b[39m\"\u001b[39m\u001b[39mmetadata\u001b[39m\u001b[39m\"\u001b[39m: {},\n\u001b[1;32m    489\u001b[0m    \u001b[39m\"\u001b[39m\u001b[39moutputs\u001b[39m\u001b[39m\"\u001b[39m: [\n\u001b[1;32m    490\u001b[0m     {\n\u001b[1;32m    491\u001b[0m      \u001b[39m\"\u001b[39m\u001b[39mdata\u001b[39m\u001b[39m\"\u001b[39m: {\n\u001b[1;32m    492\u001b[0m       \u001b[39m\"\u001b[39m\u001b[39mtext/plain\u001b[39m\u001b[39m\"\u001b[39m: [\n\u001b[1;32m    493\u001b[0m        \u001b[39m\"\u001b[39m\u001b[39m([0.8734335839598998, 0.7061803444782169, 2.2777777777777777],\u001b[39m\u001b[39m\\n\u001b[39;00m\u001b[39m\"\u001b[39m,\n\u001b[1;32m    494\u001b[0m        \u001b[39m\"\u001b[39m\u001b[39m 36.73118279569893)\u001b[39m\u001b[39m\"\u001b[39m\n\u001b[1;32m    495\u001b[0m       ]\n\u001b[1;32m    496\u001b[0m      },\n\u001b[1;32m    497\u001b[0m      \u001b[39m\"\u001b[39m\u001b[39mexecution_count\u001b[39m\u001b[39m\"\u001b[39m: \u001b[39m101\u001b[39m,\n\u001b[1;32m    498\u001b[0m      \u001b[39m\"\u001b[39m\u001b[39mmetadata\u001b[39m\u001b[39m\"\u001b[39m: {},\n\u001b[1;32m    499\u001b[0m      \u001b[39m\"\u001b[39m\u001b[39moutput_type\u001b[39m\u001b[39m\"\u001b[39m: \u001b[39m\"\u001b[39m\u001b[39mexecute_result\u001b[39m\u001b[39m\"\u001b[39m\n\u001b[1;32m    500\u001b[0m     }\n\u001b[1;32m    501\u001b[0m    ],\n\u001b[1;32m    502\u001b[0m    \u001b[39m\"\u001b[39m\u001b[39msource\u001b[39m\u001b[39m\"\u001b[39m: [\n\u001b[1;32m    503\u001b[0m     \u001b[39m\"\u001b[39m\u001b[39mnli_weights, span_weight\u001b[39m\u001b[39m\"\u001b[39m\n\u001b[1;32m    504\u001b[0m    ]\n\u001b[1;32m    505\u001b[0m   },\n\u001b[1;32m    506\u001b[0m   {\n\u001b[1;32m    507\u001b[0m    \u001b[39m\"\u001b[39m\u001b[39mcell_type\u001b[39m\u001b[39m\"\u001b[39m: \u001b[39m\"\u001b[39m\u001b[39mcode\u001b[39m\u001b[39m\"\u001b[39m,\n\u001b[1;32m    508\u001b[0m    \u001b[39m\"\u001b[39m\u001b[39mexecution_count\u001b[39m\u001b[39m\"\u001b[39m: \u001b[39m86\u001b[39m,\n\u001b[1;32m    509\u001b[0m    \u001b[39m\"\u001b[39m\u001b[39mmetadata\u001b[39m\u001b[39m\"\u001b[39m: {},\n\u001b[1;32m    510\u001b[0m    \u001b[39m\"\u001b[39m\u001b[39moutputs\u001b[39m\u001b[39m\"\u001b[39m: [],\n\u001b[1;32m    511\u001b[0m    \u001b[39m\"\u001b[39m\u001b[39msource\u001b[39m\u001b[39m\"\u001b[39m: [\n\u001b[1;32m    512\u001b[0m     \u001b[39m\"\u001b[39m\u001b[39m# span_labels = []\u001b[39m\u001b[39m\\n\u001b[39;00m\u001b[39m\"\u001b[39m,\n\u001b[1;32m    513\u001b[0m     \u001b[39m\"\u001b[39m\u001b[39m\\n\u001b[39;00m\u001b[39m\"\u001b[39m,\n\u001b[1;32m    514\u001b[0m     \u001b[39m\"\u001b[39m\u001b[39m# for x in train_dataset:\u001b[39m\u001b[39m\\n\u001b[39;00m\u001b[39m\"\u001b[39m,\n\u001b[1;32m    515\u001b[0m     \u001b[39m\"\u001b[39m\u001b[39m#     span_labels.extend(x[\u001b[39m\u001b[39m'\u001b[39m\u001b[39mspan_labels\u001b[39m\u001b[39m'\u001b[39m\u001b[39m].tolist())\u001b[39m\u001b[39m\"\u001b[39m\n\u001b[1;32m    516\u001b[0m    ]\n\u001b[1;32m    517\u001b[0m   },\n\u001b[1;32m    518\u001b[0m   {\n\u001b[1;32m    519\u001b[0m    \u001b[39m\"\u001b[39m\u001b[39mcell_type\u001b[39m\u001b[39m\"\u001b[39m: \u001b[39m\"\u001b[39m\u001b[39mcode\u001b[39m\u001b[39m\"\u001b[39m,\n\u001b[1;32m    520\u001b[0m    \u001b[39m\"\u001b[39m\u001b[39mexecution_count\u001b[39m\u001b[39m\"\u001b[39m: \u001b[39m87\u001b[39m,\n\u001b[1;32m    521\u001b[0m    \u001b[39m\"\u001b[39m\u001b[39mmetadata\u001b[39m\u001b[39m\"\u001b[39m: {},\n\u001b[1;32m    522\u001b[0m    \u001b[39m\"\u001b[39m\u001b[39moutputs\u001b[39m\u001b[39m\"\u001b[39m: [],\n\u001b[1;32m    523\u001b[0m    \u001b[39m\"\u001b[39m\u001b[39msource\u001b[39m\u001b[39m\"\u001b[39m: [\n\u001b[1;32m    524\u001b[0m     \u001b[39m\"\u001b[39m\u001b[39m# span_weights = compute_class_weight(\u001b[39m\u001b[39m'\u001b[39m\u001b[39mbalanced\u001b[39m\u001b[39m'\u001b[39m\u001b[39m, classes=np.unique(span_labels), y=np.array(span_labels))\u001b[39m\u001b[39m\"\u001b[39m\n\u001b[1;32m    525\u001b[0m    ]\n\u001b[1;32m    526\u001b[0m   },\n\u001b[1;32m    527\u001b[0m   {\n\u001b[1;32m    528\u001b[0m    \u001b[39m\"\u001b[39m\u001b[39mcell_type\u001b[39m\u001b[39m\"\u001b[39m: \u001b[39m\"\u001b[39m\u001b[39mcode\u001b[39m\u001b[39m\"\u001b[39m,\n\u001b[1;32m    529\u001b[0m    \u001b[39m\"\u001b[39m\u001b[39mexecution_count\u001b[39m\u001b[39m\"\u001b[39m: \u001b[39m88\u001b[39m,\n\u001b[1;32m    530\u001b[0m    \u001b[39m\"\u001b[39m\u001b[39mmetadata\u001b[39m\u001b[39m\"\u001b[39m: {},\n\u001b[1;32m    531\u001b[0m    \u001b[39m\"\u001b[39m\u001b[39moutputs\u001b[39m\u001b[39m\"\u001b[39m: [\n\u001b[1;32m    532\u001b[0m     {\n\u001b[1;32m    533\u001b[0m      \u001b[39m\"\u001b[39m\u001b[39mdata\u001b[39m\u001b[39m\"\u001b[39m: {\n\u001b[1;32m    534\u001b[0m       \u001b[39m\"\u001b[39m\u001b[39mtext/plain\u001b[39m\u001b[39m\"\u001b[39m: [\n\u001b[1;32m    535\u001b[0m        \u001b[39m\"\u001b[39m\u001b[39m{\u001b[39m\u001b[39m'\u001b[39m\u001b[39mraw_data_dir\u001b[39m\u001b[39m'\u001b[39m\u001b[39m: \u001b[39m\u001b[39m'\u001b[39m\u001b[39m../dataset/\u001b[39m\u001b[39m'\u001b[39m\u001b[39m,\u001b[39m\u001b[39m\\n\u001b[39;00m\u001b[39m\"\u001b[39m,\n\u001b[1;32m    536\u001b[0m        \u001b[39m\"\u001b[39m\u001b[39m \u001b[39m\u001b[39m'\u001b[39m\u001b[39mtrain_path\u001b[39m\u001b[39m'\u001b[39m\u001b[39m: \u001b[39m\u001b[39m'\u001b[39m\u001b[39mtrain.json\u001b[39m\u001b[39m'\u001b[39m\u001b[39m,\u001b[39m\u001b[39m\\n\u001b[39;00m\u001b[39m\"\u001b[39m,\n\u001b[1;32m    537\u001b[0m        \u001b[39m\"\u001b[39m\u001b[39m \u001b[39m\u001b[39m'\u001b[39m\u001b[39mtest_path\u001b[39m\u001b[39m'\u001b[39m\u001b[39m: \u001b[39m\u001b[39m'\u001b[39m\u001b[39mtest.json\u001b[39m\u001b[39m'\u001b[39m\u001b[39m,\u001b[39m\u001b[39m\\n\u001b[39;00m\u001b[39m\"\u001b[39m,\n\u001b[1;32m    538\u001b[0m        \u001b[39m\"\u001b[39m\u001b[39m \u001b[39m\u001b[39m'\u001b[39m\u001b[39mdev_path\u001b[39m\u001b[39m'\u001b[39m\u001b[39m: \u001b[39m\u001b[39m'\u001b[39m\u001b[39mdev.json\u001b[39m\u001b[39m'\u001b[39m\u001b[39m,\u001b[39m\u001b[39m\\n\u001b[39;00m\u001b[39m\"\u001b[39m,\n\u001b[1;32m    539\u001b[0m        \u001b[39m\"\u001b[39m\u001b[39m \u001b[39m\u001b[39m'\u001b[39m\u001b[39mmodel_name\u001b[39m\u001b[39m'\u001b[39m\u001b[39m: \u001b[39m\u001b[39m'\u001b[39m\u001b[39mbert-base-uncased\u001b[39m\u001b[39m'\u001b[39m\u001b[39m,\u001b[39m\u001b[39m\\n\u001b[39;00m\u001b[39m\"\u001b[39m,\n\u001b[1;32m    540\u001b[0m        \u001b[39m\"\u001b[39m\u001b[39m \u001b[39m\u001b[39m'\u001b[39m\u001b[39mmax_length\u001b[39m\u001b[39m'\u001b[39m\u001b[39m: 512,\u001b[39m\u001b[39m\\n\u001b[39;00m\u001b[39m\"\u001b[39m,\n\u001b[1;32m    541\u001b[0m        \u001b[39m\"\u001b[39m\u001b[39m \u001b[39m\u001b[39m'\u001b[39m\u001b[39mmodels_save_dir\u001b[39m\u001b[39m'\u001b[39m\u001b[39m: \u001b[39m\u001b[39m'\u001b[39m\u001b[39m/scratch/shu7bh/contract_nli/models\u001b[39m\u001b[39m'\u001b[39m\u001b[39m,\u001b[39m\u001b[39m\\n\u001b[39;00m\u001b[39m\"\u001b[39m,\n\u001b[1;32m    542\u001b[0m        \u001b[39m\"\u001b[39m\u001b[39m \u001b[39m\u001b[39m'\u001b[39m\u001b[39mdataset_dir\u001b[39m\u001b[39m'\u001b[39m\u001b[39m: \u001b[39m\u001b[39m'\u001b[39m\u001b[39m/scratch/shu7bh/contract_nli/dataset\u001b[39m\u001b[39m'\u001b[39m\u001b[39m,\u001b[39m\u001b[39m\\n\u001b[39;00m\u001b[39m\"\u001b[39m,\n\u001b[1;32m    543\u001b[0m        \u001b[39m\"\u001b[39m\u001b[39m \u001b[39m\u001b[39m'\u001b[39m\u001b[39mresults_dir\u001b[39m\u001b[39m'\u001b[39m\u001b[39m: \u001b[39m\u001b[39m'\u001b[39m\u001b[39m/scratch/shu7bh/contract_nli/results\u001b[39m\u001b[39m'\u001b[39m\u001b[39m,\u001b[39m\u001b[39m\\n\u001b[39;00m\u001b[39m\"\u001b[39m,\n\u001b[1;32m    544\u001b[0m        \u001b[39m\"\u001b[39m\u001b[39m \u001b[39m\u001b[39m'\u001b[39m\u001b[39mtrained_model_dir\u001b[39m\u001b[39m'\u001b[39m\u001b[39m: \u001b[39m\u001b[39m'\u001b[39m\u001b[39m/scratch/shu7bh/contract_nli/trained_model/\u001b[39m\u001b[39m'\u001b[39m\u001b[39m,\u001b[39m\u001b[39m\\n\u001b[39;00m\u001b[39m\"\u001b[39m,\n\u001b[1;32m    545\u001b[0m        \u001b[39m\"\u001b[39m\u001b[39m \u001b[39m\u001b[39m'\u001b[39m\u001b[39mbatch_size\u001b[39m\u001b[39m'\u001b[39m\u001b[39m: 32}\u001b[39m\u001b[39m\"\u001b[39m\n\u001b[1;32m    546\u001b[0m       ]\n\u001b[1;32m    547\u001b[0m      },\n\u001b[1;32m    548\u001b[0m      \u001b[39m\"\u001b[39m\u001b[39mexecution_count\u001b[39m\u001b[39m\"\u001b[39m: \u001b[39m88\u001b[39m,\n\u001b[1;32m    549\u001b[0m      \u001b[39m\"\u001b[39m\u001b[39mmetadata\u001b[39m\u001b[39m\"\u001b[39m: {},\n\u001b[1;32m    550\u001b[0m      \u001b[39m\"\u001b[39m\u001b[39moutput_type\u001b[39m\u001b[39m\"\u001b[39m: \u001b[39m\"\u001b[39m\u001b[39mexecute_result\u001b[39m\u001b[39m\"\u001b[39m\n\u001b[1;32m    551\u001b[0m     }\n\u001b[1;32m    552\u001b[0m    ],\n\u001b[1;32m    553\u001b[0m    \u001b[39m\"\u001b[39m\u001b[39msource\u001b[39m\u001b[39m\"\u001b[39m: [\n\u001b[1;32m    554\u001b[0m     \u001b[39m\"\u001b[39m\u001b[39mcfg\u001b[39m\u001b[39m\"\u001b[39m\n\u001b[1;32m    555\u001b[0m    ]\n\u001b[1;32m    556\u001b[0m   },\n\u001b[1;32m    557\u001b[0m   {\n\u001b[1;32m    558\u001b[0m    \u001b[39m\"\u001b[39m\u001b[39mcell_type\u001b[39m\u001b[39m\"\u001b[39m: \u001b[39m\"\u001b[39m\u001b[39mcode\u001b[39m\u001b[39m\"\u001b[39m,\n\u001b[1;32m    559\u001b[0m    \u001b[39m\"\u001b[39m\u001b[39mexecution_count\u001b[39m\u001b[39m\"\u001b[39m: \u001b[39m113\u001b[39m,\n\u001b[1;32m    560\u001b[0m    \u001b[39m\"\u001b[39m\u001b[39mmetadata\u001b[39m\u001b[39m\"\u001b[39m: {},\n\u001b[1;32m    561\u001b[0m    \u001b[39m\"\u001b[39m\u001b[39moutputs\u001b[39m\u001b[39m\"\u001b[39m: [],\n\u001b[1;32m    562\u001b[0m    \u001b[39m\"\u001b[39m\u001b[39msource\u001b[39m\u001b[39m\"\u001b[39m: [\n\u001b[1;32m    563\u001b[0m     \u001b[39m\"\u001b[39m\u001b[39mfrom transformers import PreTrainedModel, PretrainedConfig\u001b[39m\u001b[39m\\n\u001b[39;00m\u001b[39m\"\u001b[39m,\n\u001b[1;32m    564\u001b[0m     \u001b[39m\"\u001b[39m\u001b[39m\\n\u001b[39;00m\u001b[39m\"\u001b[39m,\n\u001b[1;32m    565\u001b[0m     \u001b[39m\"\u001b[39m\u001b[39mclass ContractNLIConfig(PretrainedConfig):\u001b[39m\u001b[39m\\n\u001b[39;00m\u001b[39m\"\u001b[39m,\n\u001b[1;32m    566\u001b[0m     \u001b[39m\"\u001b[39m\u001b[39m    # def __init__(self, lambda_ = 1, bert_model_name = cfg[\u001b[39m\u001b[39m'\u001b[39m\u001b[39mmodel_name\u001b[39m\u001b[39m'\u001b[39m\u001b[39m], num_labels = len(get_labels()), ignore_span_label = 2, nli_weights = nli_weights, span_weight = span_weight, **kwargs):\u001b[39m\u001b[39m\\n\u001b[39;00m\u001b[39m\"\u001b[39m,\n\u001b[1;32m    567\u001b[0m     \u001b[39m\"\u001b[39m\u001b[39m    def __init__(self, nli_weights = [1, 1, 1], span_weight = 1, lambda_ = 1, bert_model_name = cfg[\u001b[39m\u001b[39m'\u001b[39m\u001b[39mmodel_name\u001b[39m\u001b[39m'\u001b[39m\u001b[39m], num_labels = len(get_labels()), ignore_span_label = 2, **kwargs):\u001b[39m\u001b[39m\\n\u001b[39;00m\u001b[39m\"\u001b[39m,\n\u001b[1;32m    568\u001b[0m     \u001b[39m\"\u001b[39m\u001b[39m        super().__init__(**kwargs)\u001b[39m\u001b[39m\\n\u001b[39;00m\u001b[39m\"\u001b[39m,\n\u001b[1;32m    569\u001b[0m     \u001b[39m\"\u001b[39m\u001b[39m        self.bert_model_name = bert_model_name\u001b[39m\u001b[39m\\n\u001b[39;00m\u001b[39m\"\u001b[39m,\n\u001b[1;32m    570\u001b[0m     \u001b[39m\"\u001b[39m\u001b[39m        self.num_labels = num_labels\u001b[39m\u001b[39m\\n\u001b[39;00m\u001b[39m\"\u001b[39m,\n\u001b[1;32m    571\u001b[0m     \u001b[39m\"\u001b[39m\u001b[39m        self.lambda_ = lambda_\u001b[39m\u001b[39m\\n\u001b[39;00m\u001b[39m\"\u001b[39m,\n\u001b[1;32m    572\u001b[0m     \u001b[39m\"\u001b[39m\u001b[39m        self.ignore_span_label = ignore_span_label\u001b[39m\u001b[39m\\n\u001b[39;00m\u001b[39m\"\u001b[39m,\n\u001b[1;32m    573\u001b[0m     \u001b[39m\"\u001b[39m\u001b[39m        self.nli_weights = nli_weights\u001b[39m\u001b[39m\\n\u001b[39;00m\u001b[39m\"\u001b[39m,\n\u001b[1;32m    574\u001b[0m     \u001b[39m\"\u001b[39m\u001b[39m        self.span_weight = span_weight\u001b[39m\u001b[39m\"\u001b[39m\n\u001b[1;32m    575\u001b[0m    ]\n\u001b[1;32m    576\u001b[0m   },\n\u001b[1;32m    577\u001b[0m   {\n\u001b[1;32m    578\u001b[0m    \u001b[39m\"\u001b[39m\u001b[39mcell_type\u001b[39m\u001b[39m\"\u001b[39m: \u001b[39m\"\u001b[39m\u001b[39mcode\u001b[39m\u001b[39m\"\u001b[39m,\n\u001b[1;32m    579\u001b[0m    \u001b[39m\"\u001b[39m\u001b[39mexecution_count\u001b[39m\u001b[39m\"\u001b[39m: \u001b[39m114\u001b[39m,\n\u001b[1;32m    580\u001b[0m    \u001b[39m\"\u001b[39m\u001b[39mmetadata\u001b[39m\u001b[39m\"\u001b[39m: {},\n\u001b[1;32m    581\u001b[0m    \u001b[39m\"\u001b[39m\u001b[39moutputs\u001b[39m\u001b[39m\"\u001b[39m: [],\n\u001b[1;32m    582\u001b[0m    \u001b[39m\"\u001b[39m\u001b[39msource\u001b[39m\u001b[39m\"\u001b[39m: [\n\u001b[1;32m    583\u001b[0m     \u001b[39m\"\u001b[39m\u001b[39mfrom transformers import AutoModel\u001b[39m\u001b[39m\\n\u001b[39;00m\u001b[39m\"\u001b[39m,\n\u001b[1;32m    584\u001b[0m     \u001b[39m\"\u001b[39m\u001b[39mfrom torch import nn\u001b[39m\u001b[39m\\n\u001b[39;00m\u001b[39m\"\u001b[39m,\n\u001b[1;32m    585\u001b[0m     \u001b[39m\"\u001b[39m\u001b[39m\\n\u001b[39;00m\u001b[39m\"\u001b[39m,\n\u001b[1;32m    586\u001b[0m     \u001b[39m\"\u001b[39m\u001b[39mclass ContractNLI(PreTrainedModel):\u001b[39m\u001b[39m\\n\u001b[39;00m\u001b[39m\"\u001b[39m,\n\u001b[1;32m    587\u001b[0m     \u001b[39m\"\u001b[39m\u001b[39m    config_class = ContractNLIConfig\u001b[39m\u001b[39m\\n\u001b[39;00m\u001b[39m\"\u001b[39m,\n\u001b[1;32m    588\u001b[0m     \u001b[39m\"\u001b[39m\u001b[39m\\n\u001b[39;00m\u001b[39m\"\u001b[39m,\n\u001b[1;32m    589\u001b[0m     \u001b[39m\"\u001b[39m\u001b[39m    def __init__(self, config):\u001b[39m\u001b[39m\\n\u001b[39;00m\u001b[39m\"\u001b[39m,\n\u001b[1;32m    590\u001b[0m     \u001b[39m\"\u001b[39m\u001b[39m        super().__init__(config)\u001b[39m\u001b[39m\\n\u001b[39;00m\u001b[39m\"\u001b[39m,\n\u001b[1;32m    591\u001b[0m     \u001b[39m\"\u001b[39m\u001b[39m        self.bert = AutoModel.from_pretrained(config.bert_model_name)\u001b[39m\u001b[39m\\n\u001b[39;00m\u001b[39m\"\u001b[39m,\n\u001b[1;32m    592\u001b[0m     \u001b[39m\"\u001b[39m\u001b[39m        self.bert.resize_token_embeddings(self.bert.config.vocab_size + 1, pad_to_multiple_of=8)\u001b[39m\u001b[39m\\n\u001b[39;00m\u001b[39m\"\u001b[39m,\n\u001b[1;32m    593\u001b[0m     \u001b[39m\"\u001b[39m\u001b[39m        self.bert.eval()\u001b[39m\u001b[39m\\n\u001b[39;00m\u001b[39m\"\u001b[39m,\n\u001b[1;32m    594\u001b[0m     \u001b[39m\"\u001b[39m\u001b[39m        for param in self.bert.parameters():\u001b[39m\u001b[39m\\n\u001b[39;00m\u001b[39m\"\u001b[39m,\n\u001b[1;32m    595\u001b[0m     \u001b[39m\"\u001b[39m\u001b[39m            param.requires_grad = False\u001b[39m\u001b[39m\\n\u001b[39;00m\u001b[39m\"\u001b[39m,\n\u001b[1;32m    596\u001b[0m     \u001b[39m\"\u001b[39m\u001b[39m\\n\u001b[39;00m\u001b[39m\"\u001b[39m,\n\u001b[1;32m    597\u001b[0m     \u001b[39m\"\u001b[39m\u001b[39m        self.embedding_dim = self.bert.config.hidden_size\u001b[39m\u001b[39m\\n\u001b[39;00m\u001b[39m\"\u001b[39m,\n\u001b[1;32m    598\u001b[0m     \u001b[39m\"\u001b[39m\u001b[39m        self.num_labels = config.num_labels\u001b[39m\u001b[39m\\n\u001b[39;00m\u001b[39m\"\u001b[39m,\n\u001b[1;32m    599\u001b[0m     \u001b[39m\"\u001b[39m\u001b[39m        self.lambda_ = config.lambda_\u001b[39m\u001b[39m\\n\u001b[39;00m\u001b[39m\"\u001b[39m,\n\u001b[1;32m    600\u001b[0m     \u001b[39m\"\u001b[39m\u001b[39m        self.nli_criterion = nn.CrossEntropyLoss(weight=torch.tensor(self.config.nli_weights, dtype=torch.float32))\u001b[39m\u001b[39m\\n\u001b[39;00m\u001b[39m\"\u001b[39m,\n\u001b[1;32m    601\u001b[0m     \u001b[39m\"\u001b[39m\u001b[39m        self.span_criterion = nn.BCEWithLogitsLoss(pos_weight=torch.tensor(self.config.span_weight, dtype=torch.float32))\u001b[39m\u001b[39m\\n\u001b[39;00m\u001b[39m\"\u001b[39m,\n\u001b[1;32m    602\u001b[0m     \u001b[39m\"\u001b[39m\u001b[39m\\n\u001b[39;00m\u001b[39m\"\u001b[39m,\n\u001b[1;32m    603\u001b[0m     \u001b[39m\"\u001b[39m\u001b[39m        self.span_classifier = nn.Sequential(\u001b[39m\u001b[39m\\n\u001b[39;00m\u001b[39m\"\u001b[39m,\n\u001b[1;32m    604\u001b[0m     \u001b[39m\"\u001b[39m\u001b[39m            nn.Linear(self.embedding_dim, self.embedding_dim * 4),\u001b[39m\u001b[39m\\n\u001b[39;00m\u001b[39m\"\u001b[39m,\n\u001b[1;32m    605\u001b[0m     \u001b[39m\"\u001b[39m\u001b[39m            nn.ReLU(),\u001b[39m\u001b[39m\\n\u001b[39;00m\u001b[39m\"\u001b[39m,\n\u001b[1;32m    606\u001b[0m     \u001b[39m\"\u001b[39m\u001b[39m            nn.Linear(self.embedding_dim * 4, self.embedding_dim * 2),\u001b[39m\u001b[39m\\n\u001b[39;00m\u001b[39m\"\u001b[39m,\n\u001b[1;32m    607\u001b[0m     \u001b[39m\"\u001b[39m\u001b[39m            nn.ReLU(),\u001b[39m\u001b[39m\\n\u001b[39;00m\u001b[39m\"\u001b[39m,\n\u001b[1;32m    608\u001b[0m     \u001b[39m\"\u001b[39m\u001b[39m            nn.Linear(self.embedding_dim * 2, 1)\u001b[39m\u001b[39m\\n\u001b[39;00m\u001b[39m\"\u001b[39m,\n\u001b[1;32m    609\u001b[0m     \u001b[39m\"\u001b[39m\u001b[39m        )\u001b[39m\u001b[39m\\n\u001b[39;00m\u001b[39m\"\u001b[39m,\n\u001b[1;32m    610\u001b[0m     \u001b[39m\"\u001b[39m\u001b[39m\\n\u001b[39;00m\u001b[39m\"\u001b[39m,\n\u001b[1;32m    611\u001b[0m     \u001b[39m\"\u001b[39m\u001b[39m        self.nli_classifier = nn.Sequential(\u001b[39m\u001b[39m\\n\u001b[39;00m\u001b[39m\"\u001b[39m,\n\u001b[1;32m    612\u001b[0m     \u001b[39m\"\u001b[39m\u001b[39m            nn.Linear(self.embedding_dim, self.embedding_dim * 4),\u001b[39m\u001b[39m\\n\u001b[39;00m\u001b[39m\"\u001b[39m,\n\u001b[1;32m    613\u001b[0m     \u001b[39m\"\u001b[39m\u001b[39m            nn.ReLU(),\u001b[39m\u001b[39m\\n\u001b[39;00m\u001b[39m\"\u001b[39m,\n\u001b[1;32m    614\u001b[0m     \u001b[39m\"\u001b[39m\u001b[39m            nn.Linear(self.embedding_dim * 4, self.embedding_dim * 2),\u001b[39m\u001b[39m\\n\u001b[39;00m\u001b[39m\"\u001b[39m,\n\u001b[1;32m    615\u001b[0m     \u001b[39m\"\u001b[39m\u001b[39m            nn.ReLU(),\u001b[39m\u001b[39m\\n\u001b[39;00m\u001b[39m\"\u001b[39m,\n\u001b[1;32m    616\u001b[0m     \u001b[39m\"\u001b[39m\u001b[39m            nn.Linear(self.embedding_dim * 2, self.num_labels)\u001b[39m\u001b[39m\\n\u001b[39;00m\u001b[39m\"\u001b[39m,\n\u001b[1;32m    617\u001b[0m     \u001b[39m\"\u001b[39m\u001b[39m        )\u001b[39m\u001b[39m\\n\u001b[39;00m\u001b[39m\"\u001b[39m,\n\u001b[1;32m    618\u001b[0m     \u001b[39m\"\u001b[39m\u001b[39m\\n\u001b[39;00m\u001b[39m\"\u001b[39m,\n\u001b[1;32m    619\u001b[0m     \u001b[39m\"\u001b[39m\u001b[39m        # initialize weights\u001b[39m\u001b[39m\\n\u001b[39;00m\u001b[39m\"\u001b[39m,\n\u001b[1;32m    620\u001b[0m     \u001b[39m\"\u001b[39m\u001b[39m        self.init_weights()\u001b[39m\u001b[39m\\n\u001b[39;00m\u001b[39m\"\u001b[39m,\n\u001b[1;32m    621\u001b[0m     \u001b[39m\"\u001b[39m\u001b[39m\\n\u001b[39;00m\u001b[39m\"\u001b[39m,\n\u001b[1;32m    622\u001b[0m     \u001b[39m\"\u001b[39m\u001b[39m    def _init_weights(self, module):\u001b[39m\u001b[39m\\n\u001b[39;00m\u001b[39m\"\u001b[39m,\n\u001b[1;32m    623\u001b[0m     \u001b[39m\"\u001b[39m\u001b[39m        \u001b[39m\u001b[39m\\\"\u001b[39;00m\u001b[39m\\\"\u001b[39;00m\u001b[39m\\\"\u001b[39;00m\u001b[39m Initialize the weights \u001b[39m\u001b[39m\\\"\u001b[39;00m\u001b[39m\\\"\u001b[39;00m\u001b[39m\\\"\u001b[39;00m\u001b[39m\\n\u001b[39;00m\u001b[39m\"\u001b[39m,\n\u001b[1;32m    624\u001b[0m     \u001b[39m\"\u001b[39m\u001b[39m        if isinstance(module, (nn.Linear, nn.Embedding)):\u001b[39m\u001b[39m\\n\u001b[39;00m\u001b[39m\"\u001b[39m,\n\u001b[1;32m    625\u001b[0m     \u001b[39m\"\u001b[39m\u001b[39m            # use the same initialization as bert\u001b[39m\u001b[39m\\n\u001b[39;00m\u001b[39m\"\u001b[39m,\n\u001b[1;32m    626\u001b[0m     \u001b[39m\"\u001b[39m\u001b[39m            module.weight.data.normal_(mean=0.0, std=self.bert.config.initializer_range)\u001b[39m\u001b[39m\\n\u001b[39;00m\u001b[39m\"\u001b[39m,\n\u001b[1;32m    627\u001b[0m     \u001b[39m\"\u001b[39m\u001b[39m        elif isinstance(module, nn.LayerNorm):\u001b[39m\u001b[39m\\n\u001b[39;00m\u001b[39m\"\u001b[39m,\n\u001b[1;32m    628\u001b[0m     \u001b[39m\"\u001b[39m\u001b[39m            module.bias.data.zero_()\u001b[39m\u001b[39m\\n\u001b[39;00m\u001b[39m\"\u001b[39m,\n\u001b[1;32m    629\u001b[0m     \u001b[39m\"\u001b[39m\u001b[39m            module.weight.data.fill_(1.0)\u001b[39m\u001b[39m\\n\u001b[39;00m\u001b[39m\"\u001b[39m,\n\u001b[1;32m    630\u001b[0m     \u001b[39m\"\u001b[39m\u001b[39m        if isinstance(module, nn.Linear) and module.bias is not None:\u001b[39m\u001b[39m\\n\u001b[39;00m\u001b[39m\"\u001b[39m,\n\u001b[1;32m    631\u001b[0m     \u001b[39m\"\u001b[39m\u001b[39m            module.bias.data.zero_()\u001b[39m\u001b[39m\\n\u001b[39;00m\u001b[39m\"\u001b[39m,\n\u001b[1;32m    632\u001b[0m     \u001b[39m\"\u001b[39m\u001b[39m\\n\u001b[39;00m\u001b[39m\"\u001b[39m,\n\u001b[1;32m    633\u001b[0m     \u001b[39m\"\u001b[39m\u001b[39m    def forward(self, input_ids, attention_mask, token_type_ids, span_indices):\u001b[39m\u001b[39m\\n\u001b[39;00m\u001b[39m\"\u001b[39m,\n\u001b[1;32m    634\u001b[0m     \u001b[39m\"\u001b[39m\u001b[39m        outputs = self.bert(input_ids, attention_mask, token_type_ids, output_hidden_states=True).hidden_states[-1]\u001b[39m\u001b[39m\\n\u001b[39;00m\u001b[39m\"\u001b[39m,\n\u001b[1;32m    635\u001b[0m     \u001b[39m\"\u001b[39m\u001b[39m\\n\u001b[39;00m\u001b[39m\"\u001b[39m,\n\u001b[1;32m    636\u001b[0m     \u001b[39m\"\u001b[39m\u001b[39m        gather = torch.gather(outputs, 1, span_indices.unsqueeze(2).expand(-1, -1, outputs.shape[-1]))\u001b[39m\u001b[39m\\n\u001b[39;00m\u001b[39m\"\u001b[39m,\n\u001b[1;32m    637\u001b[0m     \u001b[39m\"\u001b[39m\u001b[39m\\n\u001b[39;00m\u001b[39m\"\u001b[39m,\n\u001b[1;32m    638\u001b[0m     \u001b[39m\"\u001b[39m\u001b[39m        masked_gather = gather[span_indices != 0]\u001b[39m\u001b[39m\\n\u001b[39;00m\u001b[39m\"\u001b[39m,\n\u001b[1;32m    639\u001b[0m     \u001b[39m\"\u001b[39m\u001b[39m        span_logits = self.span_classifier(masked_gather)\u001b[39m\u001b[39m\\n\u001b[39;00m\u001b[39m\"\u001b[39m,\n\u001b[1;32m    640\u001b[0m     \u001b[39m\"\u001b[39m\u001b[39m        nli_logits = self.nli_classifier(outputs[:, 0, :])\u001b[39m\u001b[39m\\n\u001b[39;00m\u001b[39m\"\u001b[39m,\n\u001b[1;32m    641\u001b[0m     \u001b[39m\"\u001b[39m\u001b[39m\\n\u001b[39;00m\u001b[39m\"\u001b[39m,\n\u001b[1;32m    642\u001b[0m     \u001b[39m\"\u001b[39m\u001b[39m        return span_logits, nli_logits\u001b[39m\u001b[39m\"\u001b[39m\n\u001b[1;32m    643\u001b[0m    ]\n\u001b[1;32m    644\u001b[0m   },\n\u001b[1;32m    645\u001b[0m   {\n\u001b[1;32m    646\u001b[0m    \u001b[39m\"\u001b[39m\u001b[39mcell_type\u001b[39m\u001b[39m\"\u001b[39m: \u001b[39m\"\u001b[39m\u001b[39mcode\u001b[39m\u001b[39m\"\u001b[39m,\n\u001b[1;32m    647\u001b[0m    \u001b[39m\"\u001b[39m\u001b[39mexecution_count\u001b[39m\u001b[39m\"\u001b[39m: \u001b[39m2\u001b[39m,\n\u001b[1;32m    648\u001b[0m    \u001b[39m\"\u001b[39m\u001b[39mmetadata\u001b[39m\u001b[39m\"\u001b[39m: {},\n\u001b[1;32m    649\u001b[0m    \u001b[39m\"\u001b[39m\u001b[39moutputs\u001b[39m\u001b[39m\"\u001b[39m: [],\n\u001b[1;32m    650\u001b[0m    \u001b[39m\"\u001b[39m\u001b[39msource\u001b[39m\u001b[39m\"\u001b[39m: [\n\u001b[1;32m    651\u001b[0m     \u001b[39m\"\u001b[39m\u001b[39mfrom transformers import Trainer\u001b[39m\u001b[39m\\n\u001b[39;00m\u001b[39m\"\u001b[39m,\n\u001b[1;32m    652\u001b[0m     \u001b[39m\"\u001b[39m\u001b[39m\\n\u001b[39;00m\u001b[39m\"\u001b[39m,\n\u001b[1;32m    653\u001b[0m     \u001b[39m\"\u001b[39m\u001b[39mclass ContractNLITrainer(Trainer):\u001b[39m\u001b[39m\\n\u001b[39;00m\u001b[39m\"\u001b[39m,\n\u001b[1;32m    654\u001b[0m     \u001b[39m\"\u001b[39m\u001b[39m    def __init__(self, *args, data_collator=None, **kwargs):\u001b[39m\u001b[39m\\n\u001b[39;00m\u001b[39m\"\u001b[39m,\n\u001b[1;32m    655\u001b[0m     \u001b[39m\"\u001b[39m\u001b[39m        super().__init__(*args, data_collator=data_collator, **kwargs)\u001b[39m\u001b[39m\\n\u001b[39;00m\u001b[39m\"\u001b[39m,\n\u001b[1;32m    656\u001b[0m     \u001b[39m\"\u001b[39m\u001b[39m\\n\u001b[39;00m\u001b[39m\"\u001b[39m,\n\u001b[1;32m    657\u001b[0m     \u001b[39m\"\u001b[39m\u001b[39m    def compute_loss(self, model, inputs, return_outputs=False):\u001b[39m\u001b[39m\\n\u001b[39;00m\u001b[39m\"\u001b[39m,\n\u001b[1;32m    658\u001b[0m     \u001b[39m\"\u001b[39m\u001b[39m        span_label = inputs.pop(\u001b[39m\u001b[39m'\u001b[39m\u001b[39mspan_labels\u001b[39m\u001b[39m'\u001b[39m\u001b[39m)\u001b[39m\u001b[39m\\n\u001b[39;00m\u001b[39m\"\u001b[39m,\n\u001b[1;32m    659\u001b[0m     \u001b[39m\"\u001b[39m\u001b[39m        nli_label = inputs.pop(\u001b[39m\u001b[39m'\u001b[39m\u001b[39mnli_label\u001b[39m\u001b[39m'\u001b[39m\u001b[39m)\u001b[39m\u001b[39m\\n\u001b[39;00m\u001b[39m\"\u001b[39m,\n\u001b[1;32m    660\u001b[0m     \u001b[39m\"\u001b[39m\u001b[39m        inputs.pop(\u001b[39m\u001b[39m'\u001b[39m\u001b[39mdata_for_metrics\u001b[39m\u001b[39m'\u001b[39m\u001b[39m)\u001b[39m\u001b[39m\\n\u001b[39;00m\u001b[39m\"\u001b[39m,\n\u001b[1;32m    661\u001b[0m     \u001b[39m\"\u001b[39m\u001b[39m\\n\u001b[39;00m\u001b[39m\"\u001b[39m,\n\u001b[1;32m    662\u001b[0m     \u001b[39m\"\u001b[39m\u001b[39m        outputs = model(**inputs)\u001b[39m\u001b[39m\\n\u001b[39;00m\u001b[39m\"\u001b[39m,\n\u001b[1;32m    663\u001b[0m     \u001b[39m\"\u001b[39m\u001b[39m        span_logits, nli_logits = outputs[0], outputs[1]\u001b[39m\u001b[39m\\n\u001b[39;00m\u001b[39m\"\u001b[39m,\n\u001b[1;32m    664\u001b[0m     \u001b[39m\"\u001b[39m\u001b[39m        \u001b[39m\u001b[39m\\n\u001b[39;00m\u001b[39m\"\u001b[39m,\n\u001b[1;32m    665\u001b[0m     \u001b[39m\"\u001b[39m\u001b[39m        # span labels = -1, means ignore \u001b[39m\u001b[39m\\n\u001b[39;00m\u001b[39m\"\u001b[39m,\n\u001b[1;32m    666\u001b[0m     \u001b[39m\"\u001b[39m\u001b[39m        \u001b[39m\u001b[39m\\n\u001b[39;00m\u001b[39m\"\u001b[39m,\n\u001b[1;32m    667\u001b[0m     \u001b[39m\"\u001b[39m\u001b[39m        mask = span_label != -1\u001b[39m\u001b[39m\\n\u001b[39;00m\u001b[39m\"\u001b[39m,\n\u001b[1;32m    668\u001b[0m     \u001b[39m\"\u001b[39m\u001b[39m        span_label = span_label[mask]\u001b[39m\u001b[39m\\n\u001b[39;00m\u001b[39m\"\u001b[39m,\n\u001b[1;32m    669\u001b[0m     \u001b[39m\"\u001b[39m\u001b[39m        span_logits = span_logits[mask]\u001b[39m\u001b[39m\\n\u001b[39;00m\u001b[39m\"\u001b[39m,\n\u001b[1;32m    670\u001b[0m     \u001b[39m\"\u001b[39m\u001b[39m        \u001b[39m\u001b[39m\\n\u001b[39;00m\u001b[39m\"\u001b[39m,\n\u001b[1;32m    671\u001b[0m     \u001b[39m\"\u001b[39m\u001b[39m        span_label = span_label.float()\u001b[39m\u001b[39m\\n\u001b[39;00m\u001b[39m\"\u001b[39m,\n\u001b[1;32m    672\u001b[0m     \u001b[39m\"\u001b[39m\u001b[39m        span_logits = span_logits.float()\u001b[39m\u001b[39m\\n\u001b[39;00m\u001b[39m\"\u001b[39m,\n\u001b[1;32m    673\u001b[0m     \u001b[39m\"\u001b[39m\u001b[39m        \u001b[39m\u001b[39m\\n\u001b[39;00m\u001b[39m\"\u001b[39m,\n\u001b[1;32m    674\u001b[0m     \u001b[39m\"\u001b[39m\u001b[39m        span_label = span_label.view(-1)\u001b[39m\u001b[39m\\n\u001b[39;00m\u001b[39m\"\u001b[39m,\n\u001b[1;32m    675\u001b[0m     \u001b[39m\"\u001b[39m\u001b[39m        span_logits = span_logits.view(-1)        \u001b[39m\u001b[39m\\n\u001b[39;00m\u001b[39m\"\u001b[39m,\n\u001b[1;32m    676\u001b[0m     \u001b[39m\"\u001b[39m\u001b[39m\\n\u001b[39;00m\u001b[39m\"\u001b[39m,\n\u001b[1;32m    677\u001b[0m     \u001b[39m\"\u001b[39m\u001b[39m        # if len(true_span_labels) == 0 or len(pred_span_labels) != len(true_span_labels):\u001b[39m\u001b[39m\\n\u001b[39;00m\u001b[39m\"\u001b[39m,\n\u001b[1;32m    678\u001b[0m     \u001b[39m\"\u001b[39m\u001b[39m        #     span_loss = torch.tensor(0, dtype=torch.float32, device=DEVICE)\u001b[39m\u001b[39m\\n\u001b[39;00m\u001b[39m\"\u001b[39m,\n\u001b[1;32m    679\u001b[0m     \u001b[39m\"\u001b[39m\u001b[39m        # else:\u001b[39m\u001b[39m\\n\u001b[39;00m\u001b[39m\"\u001b[39m,\n\u001b[1;32m    680\u001b[0m     \u001b[39m\"\u001b[39m\u001b[39m        #     span_loss = self.model.span_criterion(pred_span_labels, true_span_labels)\u001b[39m\u001b[39m\\n\u001b[39;00m\u001b[39m\"\u001b[39m,\n\u001b[1;32m    681\u001b[0m     \u001b[39m\"\u001b[39m\u001b[39m        \u001b[39m\u001b[39m\\n\u001b[39;00m\u001b[39m\"\u001b[39m,\n\u001b[1;32m    682\u001b[0m     \u001b[39m\"\u001b[39m\u001b[39m        if len(span_label) == 0:\u001b[39m\u001b[39m\\n\u001b[39;00m\u001b[39m\"\u001b[39m,\n\u001b[1;32m    683\u001b[0m     \u001b[39m\"\u001b[39m\u001b[39m            span_loss = torch.tensor(0, dtype=torch.float32, device=DEVICE)\u001b[39m\u001b[39m\\n\u001b[39;00m\u001b[39m\"\u001b[39m,\n\u001b[1;32m    684\u001b[0m     \u001b[39m\"\u001b[39m\u001b[39m        else:\u001b[39m\u001b[39m\\n\u001b[39;00m\u001b[39m\"\u001b[39m,\n\u001b[1;32m    685\u001b[0m     \u001b[39m\"\u001b[39m\u001b[39m            span_loss = self.model.span_criterion(span_logits, span_label)\u001b[39m\u001b[39m\\n\u001b[39;00m\u001b[39m\"\u001b[39m,\n\u001b[1;32m    686\u001b[0m     \u001b[39m\"\u001b[39m\u001b[39m\\n\u001b[39;00m\u001b[39m\"\u001b[39m,\n\u001b[1;32m    687\u001b[0m     \u001b[39m\"\u001b[39m\u001b[39m        nli_loss = self.model.nli_criterion(nli_logits, nli_label)\u001b[39m\u001b[39m\\n\u001b[39;00m\u001b[39m\"\u001b[39m,\n\u001b[1;32m    688\u001b[0m     \u001b[39m\"\u001b[39m\u001b[39m\\n\u001b[39;00m\u001b[39m\"\u001b[39m,\n\u001b[1;32m    689\u001b[0m     \u001b[39m\"\u001b[39m\u001b[39m        if torch.isnan(nli_loss):\u001b[39m\u001b[39m\\n\u001b[39;00m\u001b[39m\"\u001b[39m,\n\u001b[1;32m    690\u001b[0m     \u001b[39m\"\u001b[39m\u001b[39m            nli_loss = torch.tensor(0, dtype=torch.float32, device=DEVICE)\u001b[39m\u001b[39m\\n\u001b[39;00m\u001b[39m\"\u001b[39m,\n\u001b[1;32m    691\u001b[0m     \u001b[39m\"\u001b[39m\u001b[39m\\n\u001b[39;00m\u001b[39m\"\u001b[39m,\n\u001b[1;32m    692\u001b[0m     \u001b[39m\"\u001b[39m\u001b[39m        if torch.isnan(span_loss):\u001b[39m\u001b[39m\\n\u001b[39;00m\u001b[39m\"\u001b[39m,\n\u001b[1;32m    693\u001b[0m     \u001b[39m\"\u001b[39m\u001b[39m            span_loss = torch.tensor(0, dtype=torch.float32, device=DEVICE)\u001b[39m\u001b[39m\\n\u001b[39;00m\u001b[39m\"\u001b[39m,\n\u001b[1;32m    694\u001b[0m     \u001b[39m\"\u001b[39m\u001b[39m\\n\u001b[39;00m\u001b[39m\"\u001b[39m,\n\u001b[1;32m    695\u001b[0m     \u001b[39m\"\u001b[39m\u001b[39m        loss = span_loss + self.model.lambda_ * nli_loss\u001b[39m\u001b[39m\\n\u001b[39;00m\u001b[39m\"\u001b[39m,\n\u001b[1;32m    696\u001b[0m     \u001b[39m\"\u001b[39m\u001b[39m\\n\u001b[39;00m\u001b[39m\"\u001b[39m,\n\u001b[1;32m    697\u001b[0m     \u001b[39m\"\u001b[39m\u001b[39m        if loss.item() == 0:\u001b[39m\u001b[39m\\n\u001b[39;00m\u001b[39m\"\u001b[39m,\n\u001b[1;32m    698\u001b[0m     \u001b[39m\"\u001b[39m\u001b[39m            loss = torch.tensor(0, dtype=torch.float32, device=DEVICE, requires_grad=True)\u001b[39m\u001b[39m\\n\u001b[39;00m\u001b[39m\"\u001b[39m,\n\u001b[1;32m    699\u001b[0m     \u001b[39m\"\u001b[39m\u001b[39m\\n\u001b[39;00m\u001b[39m\"\u001b[39m,\n\u001b[1;32m    700\u001b[0m     \u001b[39m\"\u001b[39m\u001b[39m        return (loss, outputs) if return_outputs else loss\u001b[39m\u001b[39m\\n\u001b[39;00m\u001b[39m\"\u001b[39m,\n\u001b[1;32m    701\u001b[0m     \u001b[39m\"\u001b[39m\u001b[39m\\n\u001b[39;00m\u001b[39m\"\u001b[39m,\n\u001b[1;32m    702\u001b[0m     \u001b[39m\"\u001b[39m\u001b[39m    @staticmethod\u001b[39m\u001b[39m\\n\u001b[39;00m\u001b[39m\"\u001b[39m,\n\u001b[1;32m    703\u001b[0m     \u001b[39m\"\u001b[39m\u001b[39m    def collate_fn(features):\u001b[39m\u001b[39m\\n\u001b[39;00m\u001b[39m\"\u001b[39m,\n\u001b[1;32m    704\u001b[0m     \u001b[39m\"\u001b[39m\u001b[39m        span_indices_list = [feature[\u001b[39m\u001b[39m'\u001b[39m\u001b[39mspan_indices\u001b[39m\u001b[39m'\u001b[39m\u001b[39m] for feature in features]\u001b[39m\u001b[39m\\n\u001b[39;00m\u001b[39m\"\u001b[39m,\n\u001b[1;32m    705\u001b[0m     \u001b[39m\"\u001b[39m\u001b[39m        max_len = max([len(span_indices) for span_indices in span_indices_list])\u001b[39m\u001b[39m\\n\u001b[39;00m\u001b[39m\"\u001b[39m,\n\u001b[1;32m    706\u001b[0m     \u001b[39m\"\u001b[39m\u001b[39m        span_indices_list = [torch.cat([span_indices, torch.zeros(max_len - len(span_indices), dtype=torch.long)]) for span_indices in span_indices_list]\u001b[39m\u001b[39m\\n\u001b[39;00m\u001b[39m\"\u001b[39m,\n\u001b[1;32m    707\u001b[0m     \u001b[39m\"\u001b[39m\u001b[39m\\n\u001b[39;00m\u001b[39m\"\u001b[39m,\n\u001b[1;32m    708\u001b[0m     \u001b[39m\"\u001b[39m\u001b[39m        span_ids_list = [feature[\u001b[39m\u001b[39m'\u001b[39m\u001b[39mdata_for_metrics\u001b[39m\u001b[39m'\u001b[39m\u001b[39m][\u001b[39m\u001b[39m'\u001b[39m\u001b[39mspan_ids\u001b[39m\u001b[39m'\u001b[39m\u001b[39m] for feature in features]\u001b[39m\u001b[39m\\n\u001b[39;00m\u001b[39m\"\u001b[39m,\n\u001b[1;32m    709\u001b[0m     \u001b[39m\"\u001b[39m\u001b[39m        max_len = max([len(span_ids) for span_ids in span_ids_list])\u001b[39m\u001b[39m\\n\u001b[39;00m\u001b[39m\"\u001b[39m,\n\u001b[1;32m    710\u001b[0m     \u001b[39m\"\u001b[39m\u001b[39m        \u001b[39m\u001b[39m\\n\u001b[39;00m\u001b[39m\"\u001b[39m,\n\u001b[1;32m    711\u001b[0m     \u001b[39m\"\u001b[39m\u001b[39m        # pad to get the doc id and hypothesis id for each input while evaluating\u001b[39m\u001b[39m\\n\u001b[39;00m\u001b[39m\"\u001b[39m,\n\u001b[1;32m    712\u001b[0m     \u001b[39m\"\u001b[39m\u001b[39m        span_ids_list = [torch.cat([span_ids, torch.full((max_len - len(span_ids),), -1)]) for span_ids in span_ids_list]\u001b[39m\u001b[39m\\n\u001b[39;00m\u001b[39m\"\u001b[39m,\n\u001b[1;32m    713\u001b[0m     \u001b[39m\"\u001b[39m\u001b[39m        \u001b[39m\u001b[39m\\n\u001b[39;00m\u001b[39m\"\u001b[39m,\n\u001b[1;32m    714\u001b[0m     \u001b[39m\"\u001b[39m\u001b[39m        input_ids = torch.stack([feature[\u001b[39m\u001b[39m'\u001b[39m\u001b[39minput_ids\u001b[39m\u001b[39m'\u001b[39m\u001b[39m] for feature in features])\u001b[39m\u001b[39m\\n\u001b[39;00m\u001b[39m\"\u001b[39m,\n\u001b[1;32m    715\u001b[0m     \u001b[39m\"\u001b[39m\u001b[39m        attention_mask = torch.stack([feature[\u001b[39m\u001b[39m'\u001b[39m\u001b[39mattention_mask\u001b[39m\u001b[39m'\u001b[39m\u001b[39m] for feature in features])\u001b[39m\u001b[39m\\n\u001b[39;00m\u001b[39m\"\u001b[39m,\n\u001b[1;32m    716\u001b[0m     \u001b[39m\"\u001b[39m\u001b[39m        token_type_ids = torch.stack([feature[\u001b[39m\u001b[39m'\u001b[39m\u001b[39mtoken_type_ids\u001b[39m\u001b[39m'\u001b[39m\u001b[39m] for feature in features])\u001b[39m\u001b[39m\\n\u001b[39;00m\u001b[39m\"\u001b[39m,\n\u001b[1;32m    717\u001b[0m     \u001b[39m\"\u001b[39m\u001b[39m        span_indices = torch.stack(span_indices_list)\u001b[39m\u001b[39m\\n\u001b[39;00m\u001b[39m\"\u001b[39m,\n\u001b[1;32m    718\u001b[0m     \u001b[39m\"\u001b[39m\u001b[39m        nli_label = torch.stack([feature[\u001b[39m\u001b[39m'\u001b[39m\u001b[39mnli_label\u001b[39m\u001b[39m'\u001b[39m\u001b[39m] for feature in features])\u001b[39m\u001b[39m\\n\u001b[39;00m\u001b[39m\"\u001b[39m,\n\u001b[1;32m    719\u001b[0m     \u001b[39m\"\u001b[39m\u001b[39m        span_label = torch.cat([feature[\u001b[39m\u001b[39m'\u001b[39m\u001b[39mspan_labels\u001b[39m\u001b[39m'\u001b[39m\u001b[39m] for feature in features], dim=0)\u001b[39m\u001b[39m\\n\u001b[39;00m\u001b[39m\"\u001b[39m,\n\u001b[1;32m    720\u001b[0m     \u001b[39m\"\u001b[39m\u001b[39m        data_for_metrics = \u001b[39m\u001b[39m{\u001b[39m\u001b[39m\\n\u001b[39;00m\u001b[39m\"\u001b[39m,\n\u001b[1;32m    721\u001b[0m     \u001b[39m\"\u001b[39m\u001b[39m            \u001b[39m\u001b[39m'\u001b[39m\u001b[39mdoc_id\u001b[39m\u001b[39m'\u001b[39m\u001b[39m: torch.stack([feature[\u001b[39m\u001b[39m'\u001b[39m\u001b[39mdata_for_metrics\u001b[39m\u001b[39m'\u001b[39m\u001b[39m][\u001b[39m\u001b[39m'\u001b[39m\u001b[39mdoc_id\u001b[39m\u001b[39m'\u001b[39m\u001b[39m] for feature in features]),\u001b[39m\u001b[39m\\n\u001b[39;00m\u001b[39m\"\u001b[39m,\n\u001b[1;32m    722\u001b[0m     \u001b[39m\"\u001b[39m\u001b[39m            \u001b[39m\u001b[39m'\u001b[39m\u001b[39mhypothesis_id\u001b[39m\u001b[39m'\u001b[39m\u001b[39m: torch.stack([feature[\u001b[39m\u001b[39m'\u001b[39m\u001b[39mdata_for_metrics\u001b[39m\u001b[39m'\u001b[39m\u001b[39m][\u001b[39m\u001b[39m'\u001b[39m\u001b[39mhypothesis_id\u001b[39m\u001b[39m'\u001b[39m\u001b[39m] for feature in features]),\u001b[39m\u001b[39m\\n\u001b[39;00m\u001b[39m\"\u001b[39m,\n\u001b[1;32m    723\u001b[0m     \u001b[39m\"\u001b[39m\u001b[39m            \u001b[39m\u001b[39m'\u001b[39m\u001b[39mspan_ids\u001b[39m\u001b[39m'\u001b[39m\u001b[39m: torch.stack(span_ids_list),\u001b[39m\u001b[39m\\n\u001b[39;00m\u001b[39m\"\u001b[39m,\n\u001b[1;32m    724\u001b[0m     \u001b[39m\"\u001b[39m\u001b[39m        }\u001b[39m\u001b[39m\\n\u001b[39;00m\u001b[39m\"\u001b[39m,\n\u001b[1;32m    725\u001b[0m     \u001b[39m\"\u001b[39m\u001b[39m\\n\u001b[39;00m\u001b[39m\"\u001b[39m,\n\u001b[1;32m    726\u001b[0m     \u001b[39m\"\u001b[39m\u001b[39m        return \u001b[39m\u001b[39m{\u001b[39m\u001b[39m\\n\u001b[39;00m\u001b[39m\"\u001b[39m,\n\u001b[1;32m    727\u001b[0m     \u001b[39m\"\u001b[39m\u001b[39m            \u001b[39m\u001b[39m'\u001b[39m\u001b[39minput_ids\u001b[39m\u001b[39m'\u001b[39m\u001b[39m: input_ids,\u001b[39m\u001b[39m\\n\u001b[39;00m\u001b[39m\"\u001b[39m,\n\u001b[1;32m    728\u001b[0m     \u001b[39m\"\u001b[39m\u001b[39m            \u001b[39m\u001b[39m'\u001b[39m\u001b[39mattention_mask\u001b[39m\u001b[39m'\u001b[39m\u001b[39m: attention_mask,\u001b[39m\u001b[39m\\n\u001b[39;00m\u001b[39m\"\u001b[39m,\n\u001b[1;32m    729\u001b[0m     \u001b[39m\"\u001b[39m\u001b[39m            \u001b[39m\u001b[39m'\u001b[39m\u001b[39mtoken_type_ids\u001b[39m\u001b[39m'\u001b[39m\u001b[39m: token_type_ids,\u001b[39m\u001b[39m\\n\u001b[39;00m\u001b[39m\"\u001b[39m,\n\u001b[1;32m    730\u001b[0m     \u001b[39m\"\u001b[39m\u001b[39m            \u001b[39m\u001b[39m'\u001b[39m\u001b[39mspan_indices\u001b[39m\u001b[39m'\u001b[39m\u001b[39m: span_indices,\u001b[39m\u001b[39m\\n\u001b[39;00m\u001b[39m\"\u001b[39m,\n\u001b[1;32m    731\u001b[0m     \u001b[39m\"\u001b[39m\u001b[39m            \u001b[39m\u001b[39m'\u001b[39m\u001b[39mnli_label\u001b[39m\u001b[39m'\u001b[39m\u001b[39m: nli_label,\u001b[39m\u001b[39m\\n\u001b[39;00m\u001b[39m\"\u001b[39m,\n\u001b[1;32m    732\u001b[0m     \u001b[39m\"\u001b[39m\u001b[39m            \u001b[39m\u001b[39m'\u001b[39m\u001b[39mspan_labels\u001b[39m\u001b[39m'\u001b[39m\u001b[39m: span_label,\u001b[39m\u001b[39m\\n\u001b[39;00m\u001b[39m\"\u001b[39m,\n\u001b[1;32m    733\u001b[0m     \u001b[39m\"\u001b[39m\u001b[39m            \u001b[39m\u001b[39m'\u001b[39m\u001b[39mdata_for_metrics\u001b[39m\u001b[39m'\u001b[39m\u001b[39m: data_for_metrics,\u001b[39m\u001b[39m\\n\u001b[39;00m\u001b[39m\"\u001b[39m,\n\u001b[1;32m    734\u001b[0m     \u001b[39m\"\u001b[39m\u001b[39m        }\u001b[39m\u001b[39m\"\u001b[39m\n\u001b[1;32m    735\u001b[0m    ]\n\u001b[1;32m    736\u001b[0m   },\n\u001b[1;32m    737\u001b[0m   {\n\u001b[1;32m    738\u001b[0m    \u001b[39m\"\u001b[39m\u001b[39mcell_type\u001b[39m\u001b[39m\"\u001b[39m: \u001b[39m\"\u001b[39m\u001b[39mcode\u001b[39m\u001b[39m\"\u001b[39m,\n\u001b[1;32m    739\u001b[0m    \u001b[39m\"\u001b[39m\u001b[39mexecution_count\u001b[39m\u001b[39m\"\u001b[39m: \u001b[39m116\u001b[39m,\n\u001b[1;32m    740\u001b[0m    \u001b[39m\"\u001b[39m\u001b[39mmetadata\u001b[39m\u001b[39m\"\u001b[39m: {},\n\u001b[1;32m    741\u001b[0m    \u001b[39m\"\u001b[39m\u001b[39moutputs\u001b[39m\u001b[39m\"\u001b[39m: [],\n\u001b[1;32m    742\u001b[0m    \u001b[39m\"\u001b[39m\u001b[39msource\u001b[39m\u001b[39m\"\u001b[39m: [\n\u001b[1;32m    743\u001b[0m     \u001b[39m\"\u001b[39m\u001b[39mfrom transformers import TrainingArguments\u001b[39m\u001b[39m\\n\u001b[39;00m\u001b[39m\"\u001b[39m,\n\u001b[1;32m    744\u001b[0m     \u001b[39m\"\u001b[39m\u001b[39m\\n\u001b[39;00m\u001b[39m\"\u001b[39m,\n\u001b[1;32m    745\u001b[0m     \u001b[39m\"\u001b[39m\u001b[39mtraining_args = TrainingArguments(\u001b[39m\u001b[39m\\n\u001b[39;00m\u001b[39m\"\u001b[39m,\n\u001b[1;32m    746\u001b[0m     \u001b[39m\"\u001b[39m\u001b[39m    auto_find_batch_size=True,\u001b[39m\u001b[39m\\n\u001b[39;00m\u001b[39m\"\u001b[39m,\n\u001b[1;32m    747\u001b[0m     \u001b[39m\"\u001b[39m\u001b[39m    output_dir=cfg[\u001b[39m\u001b[39m'\u001b[39m\u001b[39mresults_dir\u001b[39m\u001b[39m'\u001b[39m\u001b[39m],   # output directory\u001b[39m\u001b[39m\\n\u001b[39;00m\u001b[39m\"\u001b[39m,\n\u001b[1;32m    748\u001b[0m     \u001b[39m\"\u001b[39m\u001b[39m    num_train_epochs=20,            # total number of training epochs\u001b[39m\u001b[39m\\n\u001b[39;00m\u001b[39m\"\u001b[39m,\n\u001b[1;32m    749\u001b[0m     \u001b[39m\"\u001b[39m\u001b[39m    gradient_accumulation_steps=4,   # number of updates steps to accumulate before performing a backward/update pass\u001b[39m\u001b[39m\\n\u001b[39;00m\u001b[39m\"\u001b[39m,\n\u001b[1;32m    750\u001b[0m     \u001b[39m\"\u001b[39m\u001b[39m    logging_strategy=\u001b[39m\u001b[39m'\u001b[39m\u001b[39msteps\u001b[39m\u001b[39m'\u001b[39m\u001b[39m,\u001b[39m\u001b[39m\\n\u001b[39;00m\u001b[39m\"\u001b[39m,\n\u001b[1;32m    751\u001b[0m     \u001b[39m\"\u001b[39m\u001b[39m    eval_steps=1000,\u001b[39m\u001b[39m\\n\u001b[39;00m\u001b[39m\"\u001b[39m,\n\u001b[1;32m    752\u001b[0m     \u001b[39m\"\u001b[39m\u001b[39m    save_steps=1000,\u001b[39m\u001b[39m\\n\u001b[39;00m\u001b[39m\"\u001b[39m,\n\u001b[1;32m    753\u001b[0m     \u001b[39m\"\u001b[39m\u001b[39m    logging_steps=1000,\u001b[39m\u001b[39m\\n\u001b[39;00m\u001b[39m\"\u001b[39m,\n\u001b[1;32m    754\u001b[0m     \u001b[39m\"\u001b[39m\u001b[39m    evaluation_strategy=\u001b[39m\u001b[39m'\u001b[39m\u001b[39msteps\u001b[39m\u001b[39m'\u001b[39m\u001b[39m,\u001b[39m\u001b[39m\\n\u001b[39;00m\u001b[39m\"\u001b[39m,\n\u001b[1;32m    755\u001b[0m     \u001b[39m\"\u001b[39m\u001b[39m    save_strategy=\u001b[39m\u001b[39m'\u001b[39m\u001b[39msteps\u001b[39m\u001b[39m'\u001b[39m\u001b[39m,\u001b[39m\u001b[39m\\n\u001b[39;00m\u001b[39m\"\u001b[39m,\n\u001b[1;32m    756\u001b[0m     \u001b[39m\"\u001b[39m\u001b[39m    save_total_limit=2,\u001b[39m\u001b[39m\\n\u001b[39;00m\u001b[39m\"\u001b[39m,\n\u001b[1;32m    757\u001b[0m     \u001b[39m\"\u001b[39m\u001b[39m    load_best_model_at_end=True,\u001b[39m\u001b[39m\\n\u001b[39;00m\u001b[39m\"\u001b[39m,\n\u001b[1;32m    758\u001b[0m     \u001b[39m\"\u001b[39m\u001b[39m    fp16=True,\u001b[39m\u001b[39m\\n\u001b[39;00m\u001b[39m\"\u001b[39m,\n\u001b[1;32m    759\u001b[0m     \u001b[39m\"\u001b[39m\u001b[39m    label_names=[\u001b[39m\u001b[39m'\u001b[39m\u001b[39mnli_label\u001b[39m\u001b[39m'\u001b[39m\u001b[39m, \u001b[39m\u001b[39m'\u001b[39m\u001b[39mspan_labels\u001b[39m\u001b[39m'\u001b[39m\u001b[39m, \u001b[39m\u001b[39m'\u001b[39m\u001b[39mdata_for_metrics\u001b[39m\u001b[39m'\u001b[39m\u001b[39m],\u001b[39m\u001b[39m\\n\u001b[39;00m\u001b[39m\"\u001b[39m,\n\u001b[1;32m    760\u001b[0m     \u001b[39m\"\u001b[39m\u001b[39m    report_to=\u001b[39m\u001b[39m'\u001b[39m\u001b[39mnone\u001b[39m\u001b[39m'\u001b[39m\u001b[39m,\u001b[39m\u001b[39m\\n\u001b[39;00m\u001b[39m\"\u001b[39m,\n\u001b[1;32m    761\u001b[0m     \u001b[39m\"\u001b[39m\u001b[39m    # report_to=\u001b[39m\u001b[39m'\u001b[39m\u001b[39mwandb\u001b[39m\u001b[39m'\u001b[39m\u001b[39m,\u001b[39m\u001b[39m\\n\u001b[39;00m\u001b[39m\"\u001b[39m,\n\u001b[1;32m    762\u001b[0m     \u001b[39m\"\u001b[39m\u001b[39m)\u001b[39m\u001b[39m\"\u001b[39m\n\u001b[1;32m    763\u001b[0m    ]\n\u001b[1;32m    764\u001b[0m   },\n\u001b[1;32m    765\u001b[0m   {\n\u001b[1;32m    766\u001b[0m    \u001b[39m\"\u001b[39m\u001b[39mcell_type\u001b[39m\u001b[39m\"\u001b[39m: \u001b[39m\"\u001b[39m\u001b[39mcode\u001b[39m\u001b[39m\"\u001b[39m,\n\u001b[1;32m    767\u001b[0m    \u001b[39m\"\u001b[39m\u001b[39mexecution_count\u001b[39m\u001b[39m\"\u001b[39m: \u001b[39m117\u001b[39m,\n\u001b[1;32m    768\u001b[0m    \u001b[39m\"\u001b[39m\u001b[39mmetadata\u001b[39m\u001b[39m\"\u001b[39m: {},\n\u001b[1;32m    769\u001b[0m    \u001b[39m\"\u001b[39m\u001b[39moutputs\u001b[39m\u001b[39m\"\u001b[39m: [],\n\u001b[1;32m    770\u001b[0m    \u001b[39m\"\u001b[39m\u001b[39msource\u001b[39m\u001b[39m\"\u001b[39m: [\n\u001b[1;32m    771\u001b[0m     \u001b[39m\"\u001b[39m\u001b[39mfrom transformers import EarlyStoppingCallback\u001b[39m\u001b[39m\"\u001b[39m\n\u001b[1;32m    772\u001b[0m    ]\n\u001b[1;32m    773\u001b[0m   },\n\u001b[1;32m    774\u001b[0m   {\n\u001b[1;32m    775\u001b[0m    \u001b[39m\"\u001b[39m\u001b[39mcell_type\u001b[39m\u001b[39m\"\u001b[39m: \u001b[39m\"\u001b[39m\u001b[39mcode\u001b[39m\u001b[39m\"\u001b[39m,\n\u001b[1;32m    776\u001b[0m    \u001b[39m\"\u001b[39m\u001b[39mexecution_count\u001b[39m\u001b[39m\"\u001b[39m: \u001b[39m118\u001b[39m,\n\u001b[1;32m    777\u001b[0m    \u001b[39m\"\u001b[39m\u001b[39mmetadata\u001b[39m\u001b[39m\"\u001b[39m: {},\n\u001b[1;32m    778\u001b[0m    \u001b[39m\"\u001b[39m\u001b[39moutputs\u001b[39m\u001b[39m\"\u001b[39m: [],\n\u001b[1;32m    779\u001b[0m    \u001b[39m\"\u001b[39m\u001b[39msource\u001b[39m\u001b[39m\"\u001b[39m: [\n\u001b[1;32m    780\u001b[0m     \u001b[39m\"\u001b[39m\u001b[39mdef wandb_hp_space(trial):\u001b[39m\u001b[39m\\n\u001b[39;00m\u001b[39m\"\u001b[39m,\n\u001b[1;32m    781\u001b[0m     \u001b[39m\"\u001b[39m\u001b[39m    return \u001b[39m\u001b[39m{\u001b[39m\u001b[39m\\n\u001b[39;00m\u001b[39m\"\u001b[39m,\n\u001b[1;32m    782\u001b[0m     \u001b[39m\"\u001b[39m\u001b[39m        \u001b[39m\u001b[39m\\\"\u001b[39;00m\u001b[39mmethod\u001b[39m\u001b[39m\\\"\u001b[39;00m\u001b[39m: \u001b[39m\u001b[39m\\\"\u001b[39;00m\u001b[39mrandom\u001b[39m\u001b[39m\\\"\u001b[39;00m\u001b[39m,\u001b[39m\u001b[39m\\n\u001b[39;00m\u001b[39m\"\u001b[39m,\n\u001b[1;32m    783\u001b[0m     \u001b[39m\"\u001b[39m\u001b[39m        \u001b[39m\u001b[39m\\\"\u001b[39;00m\u001b[39mmetric\u001b[39m\u001b[39m\\\"\u001b[39;00m\u001b[39m: \u001b[39m\u001b[39m{\u001b[39m\u001b[39m\\n\u001b[39;00m\u001b[39m\"\u001b[39m,\n\u001b[1;32m    784\u001b[0m     \u001b[39m\"\u001b[39m\u001b[39m            \u001b[39m\u001b[39m\\\"\u001b[39;00m\u001b[39mname\u001b[39m\u001b[39m\\\"\u001b[39;00m\u001b[39m: \u001b[39m\u001b[39m\\\"\u001b[39;00m\u001b[39meval/loss\u001b[39m\u001b[39m\\\"\u001b[39;00m\u001b[39m,\u001b[39m\u001b[39m\\n\u001b[39;00m\u001b[39m\"\u001b[39m,\n\u001b[1;32m    785\u001b[0m     \u001b[39m\"\u001b[39m\u001b[39m            \u001b[39m\u001b[39m\\\"\u001b[39;00m\u001b[39mgoal\u001b[39m\u001b[39m\\\"\u001b[39;00m\u001b[39m: \u001b[39m\u001b[39m\\\"\u001b[39;00m\u001b[39mminimize\u001b[39m\u001b[39m\\\"\u001b[39;00m\u001b[39m\\n\u001b[39;00m\u001b[39m\"\u001b[39m,\n\u001b[1;32m    786\u001b[0m     \u001b[39m\"\u001b[39m\u001b[39m        },\u001b[39m\u001b[39m\\n\u001b[39;00m\u001b[39m\"\u001b[39m,\n\u001b[1;32m    787\u001b[0m     \u001b[39m\"\u001b[39m\u001b[39m        \u001b[39m\u001b[39m\\\"\u001b[39;00m\u001b[39mparameters\u001b[39m\u001b[39m\\\"\u001b[39;00m\u001b[39m: \u001b[39m\u001b[39m{\u001b[39m\u001b[39m\\n\u001b[39;00m\u001b[39m\"\u001b[39m,\n\u001b[1;32m    788\u001b[0m     \u001b[39m\"\u001b[39m\u001b[39m            \u001b[39m\u001b[39m\\\"\u001b[39;00m\u001b[39mlearning_rate\u001b[39m\u001b[39m\\\"\u001b[39;00m\u001b[39m: \u001b[39m\u001b[39m{\u001b[39m\u001b[39m\\n\u001b[39;00m\u001b[39m\"\u001b[39m,\n\u001b[1;32m    789\u001b[0m     \u001b[39m\"\u001b[39m\u001b[39m                \u001b[39m\u001b[39m\\\"\u001b[39;00m\u001b[39mvalues\u001b[39m\u001b[39m\\\"\u001b[39;00m\u001b[39m: [1e-5, 3e-5, 5e-5]\u001b[39m\u001b[39m\\n\u001b[39;00m\u001b[39m\"\u001b[39m,\n\u001b[1;32m    790\u001b[0m     \u001b[39m\"\u001b[39m\u001b[39m            },\u001b[39m\u001b[39m\\n\u001b[39;00m\u001b[39m\"\u001b[39m,\n\u001b[1;32m    791\u001b[0m     \u001b[39m\"\u001b[39m\u001b[39m            \u001b[39m\u001b[39m\\\"\u001b[39;00m\u001b[39mlambda_\u001b[39m\u001b[39m\\\"\u001b[39;00m\u001b[39m: \u001b[39m\u001b[39m{\u001b[39m\u001b[39m\\n\u001b[39;00m\u001b[39m\"\u001b[39m,\n\u001b[1;32m    792\u001b[0m     \u001b[39m\"\u001b[39m\u001b[39m                \u001b[39m\u001b[39m\\\"\u001b[39;00m\u001b[39mvalues\u001b[39m\u001b[39m\\\"\u001b[39;00m\u001b[39m: [0.05, 0.1, 0.4]\u001b[39m\u001b[39m\\n\u001b[39;00m\u001b[39m\"\u001b[39m,\n\u001b[1;32m    793\u001b[0m     \u001b[39m\"\u001b[39m\u001b[39m            },\u001b[39m\u001b[39m\\n\u001b[39;00m\u001b[39m\"\u001b[39m,\n\u001b[1;32m    794\u001b[0m     \u001b[39m\"\u001b[39m\u001b[39m        }\u001b[39m\u001b[39m\\n\u001b[39;00m\u001b[39m\"\u001b[39m,\n\u001b[1;32m    795\u001b[0m     \u001b[39m\"\u001b[39m\u001b[39m    }\u001b[39m\u001b[39m\"\u001b[39m\n\u001b[1;32m    796\u001b[0m    ]\n\u001b[1;32m    797\u001b[0m   },\n\u001b[1;32m    798\u001b[0m   {\n\u001b[1;32m    799\u001b[0m    \u001b[39m\"\u001b[39m\u001b[39mcell_type\u001b[39m\u001b[39m\"\u001b[39m: \u001b[39m\"\u001b[39m\u001b[39mcode\u001b[39m\u001b[39m\"\u001b[39m,\n\u001b[1;32m    800\u001b[0m    \u001b[39m\"\u001b[39m\u001b[39mexecution_count\u001b[39m\u001b[39m\"\u001b[39m: \u001b[39m119\u001b[39m,\n\u001b[1;32m    801\u001b[0m    \u001b[39m\"\u001b[39m\u001b[39mmetadata\u001b[39m\u001b[39m\"\u001b[39m: {},\n\u001b[1;32m    802\u001b[0m    \u001b[39m\"\u001b[39m\u001b[39moutputs\u001b[39m\u001b[39m\"\u001b[39m: [],\n\u001b[1;32m    803\u001b[0m    \u001b[39m\"\u001b[39m\u001b[39msource\u001b[39m\u001b[39m\"\u001b[39m: [\n\u001b[1;32m    804\u001b[0m     \u001b[39m\"\u001b[39m\u001b[39mdef model_init(trial):\u001b[39m\u001b[39m\\n\u001b[39;00m\u001b[39m\"\u001b[39m,\n\u001b[1;32m    805\u001b[0m     \u001b[39m\"\u001b[39m\u001b[39m    if trial is None:\u001b[39m\u001b[39m\\n\u001b[39;00m\u001b[39m\"\u001b[39m,\n\u001b[1;32m    806\u001b[0m     \u001b[39m\"\u001b[39m\u001b[39m        return ContractNLI(ContractNLIConfig(nli_weights=nli_weights, span_weight=span_weight))\u001b[39m\u001b[39m\\n\u001b[39;00m\u001b[39m\"\u001b[39m,\n\u001b[1;32m    807\u001b[0m     \u001b[39m\"\u001b[39m\u001b[39m\\n\u001b[39;00m\u001b[39m\"\u001b[39m,\n\u001b[1;32m    808\u001b[0m     \u001b[39m\"\u001b[39m\u001b[39m    return ContractNLI(ContractNLIConfig(nli_weights=nli_weights, span_weight=span_weight, lambda_=trial[\u001b[39m\u001b[39m'\u001b[39m\u001b[39mlambda_\u001b[39m\u001b[39m'\u001b[39m\u001b[39m]))\u001b[39m\u001b[39m\"\u001b[39m\n\u001b[1;32m    809\u001b[0m    ]\n\u001b[1;32m    810\u001b[0m   },\n\u001b[1;32m    811\u001b[0m   {\n\u001b[1;32m    812\u001b[0m    \u001b[39m\"\u001b[39m\u001b[39mcell_type\u001b[39m\u001b[39m\"\u001b[39m: \u001b[39m\"\u001b[39m\u001b[39mcode\u001b[39m\u001b[39m\"\u001b[39m,\n\u001b[1;32m    813\u001b[0m    \u001b[39m\"\u001b[39m\u001b[39mexecution_count\u001b[39m\u001b[39m\"\u001b[39m: \u001b[39m120\u001b[39m,\n\u001b[1;32m    814\u001b[0m    \u001b[39m\"\u001b[39m\u001b[39mmetadata\u001b[39m\u001b[39m\"\u001b[39m: {},\n\u001b[1;32m    815\u001b[0m    \u001b[39m\"\u001b[39m\u001b[39moutputs\u001b[39m\u001b[39m\"\u001b[39m: [\n\u001b[1;32m    816\u001b[0m     {\n\u001b[1;32m    817\u001b[0m      \u001b[39m\"\u001b[39m\u001b[39mname\u001b[39m\u001b[39m\"\u001b[39m: \u001b[39m\"\u001b[39m\u001b[39mstderr\u001b[39m\u001b[39m\"\u001b[39m,\n\u001b[1;32m    818\u001b[0m      \u001b[39m\"\u001b[39m\u001b[39moutput_type\u001b[39m\u001b[39m\"\u001b[39m: \u001b[39m\"\u001b[39m\u001b[39mstream\u001b[39m\u001b[39m\"\u001b[39m,\n\u001b[1;32m    819\u001b[0m      \u001b[39m\"\u001b[39m\u001b[39mtext\u001b[39m\u001b[39m\"\u001b[39m: [\n\u001b[1;32m    820\u001b[0m       \u001b[39m\"\u001b[39m\u001b[39mDEBUG:urllib3.connectionpool:https://huggingface.co:443 \u001b[39m\u001b[39m\\\"\u001b[39;00m\u001b[39mHEAD /bert-base-uncased/resolve/main/config.json HTTP/1.1\u001b[39m\u001b[39m\\\"\u001b[39;00m\u001b[39m 200 0\u001b[39m\u001b[39m\\n\u001b[39;00m\u001b[39m\"\u001b[39m\n\u001b[1;32m    821\u001b[0m      ]\n\u001b[1;32m    822\u001b[0m     }\n\u001b[1;32m    823\u001b[0m    ],\n\u001b[1;32m    824\u001b[0m    \u001b[39m\"\u001b[39m\u001b[39msource\u001b[39m\u001b[39m\"\u001b[39m: [\n\u001b[1;32m    825\u001b[0m     \u001b[39m\"\u001b[39m\u001b[39m# config = ContractNLIConfig()\u001b[39m\u001b[39m\\n\u001b[39;00m\u001b[39m\"\u001b[39m,\n\u001b[1;32m    826\u001b[0m     \u001b[39m\"\u001b[39m\u001b[39m\\n\u001b[39;00m\u001b[39m\"\u001b[39m,\n\u001b[1;32m    827\u001b[0m     \u001b[39m\"\u001b[39m\u001b[39m# model = ContractNLI(config).to(DEVICE)\u001b[39m\u001b[39m\\n\u001b[39;00m\u001b[39m\"\u001b[39m,\n\u001b[1;32m    828\u001b[0m     \u001b[39m\"\u001b[39m\u001b[39mtrainer = ContractNLITrainer(\u001b[39m\u001b[39m\\n\u001b[39;00m\u001b[39m\"\u001b[39m,\n\u001b[1;32m    829\u001b[0m     \u001b[39m\"\u001b[39m\u001b[39m    model=None,                          # the instantiated 🤗 Transformers model to be trained\u001b[39m\u001b[39m\\n\u001b[39;00m\u001b[39m\"\u001b[39m,\n\u001b[1;32m    830\u001b[0m     \u001b[39m\"\u001b[39m\u001b[39m    args=training_args,                  # training arguments, defined above\u001b[39m\u001b[39m\\n\u001b[39;00m\u001b[39m\"\u001b[39m,\n\u001b[1;32m    831\u001b[0m     \u001b[39m\"\u001b[39m\u001b[39m    train_dataset=train_dataset,         # training dataset\u001b[39m\u001b[39m\\n\u001b[39;00m\u001b[39m\"\u001b[39m,\n\u001b[1;32m    832\u001b[0m     \u001b[39m\"\u001b[39m\u001b[39m    eval_dataset=dev_dataset,            # evaluation dataset\u001b[39m\u001b[39m\\n\u001b[39;00m\u001b[39m\"\u001b[39m,\n\u001b[1;32m    833\u001b[0m     \u001b[39m\"\u001b[39m\u001b[39m    data_collator=ContractNLITrainer.collate_fn,\u001b[39m\u001b[39m\\n\u001b[39;00m\u001b[39m\"\u001b[39m,\n\u001b[1;32m    834\u001b[0m     \u001b[39m\"\u001b[39m\u001b[39m    callbacks=[EarlyStoppingCallback(early_stopping_patience=3, early_stopping_threshold=0.001)],\u001b[39m\u001b[39m\\n\u001b[39;00m\u001b[39m\"\u001b[39m,\n\u001b[1;32m    835\u001b[0m     \u001b[39m\"\u001b[39m\u001b[39m    model_init=model_init,\u001b[39m\u001b[39m\\n\u001b[39;00m\u001b[39m\"\u001b[39m,\n\u001b[1;32m    836\u001b[0m     \u001b[39m\"\u001b[39m\u001b[39m)\u001b[39m\u001b[39m\"\u001b[39m\n\u001b[1;32m    837\u001b[0m    ]\n\u001b[1;32m    838\u001b[0m   },\n\u001b[1;32m    839\u001b[0m   {\n\u001b[1;32m    840\u001b[0m    \u001b[39m\"\u001b[39m\u001b[39mcell_type\u001b[39m\u001b[39m\"\u001b[39m: \u001b[39m\"\u001b[39m\u001b[39mcode\u001b[39m\u001b[39m\"\u001b[39m,\n\u001b[1;32m    841\u001b[0m    \u001b[39m\"\u001b[39m\u001b[39mexecution_count\u001b[39m\u001b[39m\"\u001b[39m: null,\n\u001b[1;32m    842\u001b[0m    \u001b[39m\"\u001b[39m\u001b[39mmetadata\u001b[39m\u001b[39m\"\u001b[39m: {},\n\u001b[1;32m    843\u001b[0m    \u001b[39m\"\u001b[39m\u001b[39moutputs\u001b[39m\u001b[39m\"\u001b[39m: [],\n\u001b[1;32m    844\u001b[0m    \u001b[39m\"\u001b[39m\u001b[39msource\u001b[39m\u001b[39m\"\u001b[39m: [\n\u001b[1;32m    845\u001b[0m     \u001b[39m\"\u001b[39m\u001b[39mtrainer.train()\u001b[39m\u001b[39m\"\u001b[39m\n\u001b[1;32m    846\u001b[0m    ]\n\u001b[1;32m    847\u001b[0m   },\n\u001b[1;32m    848\u001b[0m   {\n\u001b[1;32m    849\u001b[0m    \u001b[39m\"\u001b[39m\u001b[39mcell_type\u001b[39m\u001b[39m\"\u001b[39m: \u001b[39m\"\u001b[39m\u001b[39mcode\u001b[39m\u001b[39m\"\u001b[39m,\n\u001b[1;32m    850\u001b[0m    \u001b[39m\"\u001b[39m\u001b[39mexecution_count\u001b[39m\u001b[39m\"\u001b[39m: null,\n\u001b[1;32m    851\u001b[0m    \u001b[39m\"\u001b[39m\u001b[39mmetadata\u001b[39m\u001b[39m\"\u001b[39m: {},\n\u001b[1;32m    852\u001b[0m    \u001b[39m\"\u001b[39m\u001b[39moutputs\u001b[39m\u001b[39m\"\u001b[39m: [],\n\u001b[1;32m    853\u001b[0m    \u001b[39m\"\u001b[39m\u001b[39msource\u001b[39m\u001b[39m\"\u001b[39m: [\n\u001b[1;32m    854\u001b[0m     \u001b[39m\"\u001b[39m\u001b[39m# trainer.hyperparameter_search(\u001b[39m\u001b[39m\\n\u001b[39;00m\u001b[39m\"\u001b[39m,\n\u001b[1;32m    855\u001b[0m     \u001b[39m\"\u001b[39m\u001b[39m#     hp_space=wandb_hp_space,\u001b[39m\u001b[39m\\n\u001b[39;00m\u001b[39m\"\u001b[39m,\n\u001b[1;32m    856\u001b[0m     \u001b[39m\"\u001b[39m\u001b[39m#     backend=\u001b[39m\u001b[39m'\u001b[39m\u001b[39mwandb\u001b[39m\u001b[39m'\u001b[39m\u001b[39m,\u001b[39m\u001b[39m\\n\u001b[39;00m\u001b[39m\"\u001b[39m,\n\u001b[1;32m    857\u001b[0m     \u001b[39m\"\u001b[39m\u001b[39m#     n_trials=5,\u001b[39m\u001b[39m\\n\u001b[39;00m\u001b[39m\"\u001b[39m,\n\u001b[1;32m    858\u001b[0m     \u001b[39m\"\u001b[39m\u001b[39m# )\u001b[39m\u001b[39m\"\u001b[39m\n\u001b[1;32m    859\u001b[0m    ]\n\u001b[1;32m    860\u001b[0m   },\n\u001b[1;32m    861\u001b[0m   {\n\u001b[1;32m    862\u001b[0m    \u001b[39m\"\u001b[39m\u001b[39mcell_type\u001b[39m\u001b[39m\"\u001b[39m: \u001b[39m\"\u001b[39m\u001b[39mcode\u001b[39m\u001b[39m\"\u001b[39m,\n\u001b[1;32m    863\u001b[0m    \u001b[39m\"\u001b[39m\u001b[39mexecution_count\u001b[39m\u001b[39m\"\u001b[39m: null,\n\u001b[1;32m    864\u001b[0m    \u001b[39m\"\u001b[39m\u001b[39mmetadata\u001b[39m\u001b[39m\"\u001b[39m: {},\n\u001b[1;32m    865\u001b[0m    \u001b[39m\"\u001b[39m\u001b[39moutputs\u001b[39m\u001b[39m\"\u001b[39m: [],\n\u001b[1;32m    866\u001b[0m    \u001b[39m\"\u001b[39m\u001b[39msource\u001b[39m\u001b[39m\"\u001b[39m: [\n\u001b[1;32m    867\u001b[0m     \u001b[39m\"\u001b[39m\u001b[39m# model = ContractNLI.from_pretrained(cfg[\u001b[39m\u001b[39m'\u001b[39m\u001b[39mtrained_model_dir\u001b[39m\u001b[39m'\u001b[39m\u001b[39m]).to(DEVICE)\u001b[39m\u001b[39m\"\u001b[39m\n\u001b[1;32m    868\u001b[0m    ]\n\u001b[1;32m    869\u001b[0m   },\n\u001b[1;32m    870\u001b[0m   {\n\u001b[1;32m    871\u001b[0m    \u001b[39m\"\u001b[39m\u001b[39mcell_type\u001b[39m\u001b[39m\"\u001b[39m: \u001b[39m\"\u001b[39m\u001b[39mcode\u001b[39m\u001b[39m\"\u001b[39m,\n\u001b[1;32m    872\u001b[0m    \u001b[39m\"\u001b[39m\u001b[39mexecution_count\u001b[39m\u001b[39m\"\u001b[39m: null,\n\u001b[1;32m    873\u001b[0m    \u001b[39m\"\u001b[39m\u001b[39mmetadata\u001b[39m\u001b[39m\"\u001b[39m: {},\n\u001b[1;32m    874\u001b[0m    \u001b[39m\"\u001b[39m\u001b[39moutputs\u001b[39m\u001b[39m\"\u001b[39m: [\n\u001b[1;32m    875\u001b[0m     {\n\u001b[1;32m    876\u001b[0m      \u001b[39m\"\u001b[39m\u001b[39mname\u001b[39m\u001b[39m\"\u001b[39m: \u001b[39m\"\u001b[39m\u001b[39mstdout\u001b[39m\u001b[39m\"\u001b[39m,\n\u001b[1;32m    877\u001b[0m      \u001b[39m\"\u001b[39m\u001b[39moutput_type\u001b[39m\u001b[39m\"\u001b[39m: \u001b[39m\"\u001b[39m\u001b[39mstream\u001b[39m\u001b[39m\"\u001b[39m,\n\u001b[1;32m    878\u001b[0m      \u001b[39m\"\u001b[39m\u001b[39mtext\u001b[39m\u001b[39m\"\u001b[39m: [\n\u001b[1;32m    879\u001b[0m       \u001b[39m\"\u001b[39m\u001b[39mThe history saving thread hit an unexpected error (OperationalError(\u001b[39m\u001b[39m'\u001b[39m\u001b[39mdisk I/O error\u001b[39m\u001b[39m'\u001b[39m\u001b[39m)).History will not be written to the database.\u001b[39m\u001b[39m\\n\u001b[39;00m\u001b[39m\"\u001b[39m\n\u001b[1;32m    880\u001b[0m      ]\n\u001b[1;32m    881\u001b[0m     }\n\u001b[1;32m    882\u001b[0m    ],\n\u001b[1;32m    883\u001b[0m    \u001b[39m\"\u001b[39m\u001b[39msource\u001b[39m\u001b[39m\"\u001b[39m: [\n\u001b[1;32m    884\u001b[0m     \u001b[39m\"\u001b[39m\u001b[39m# trainer = ContractNLITrainer(\u001b[39m\u001b[39m\\n\u001b[39;00m\u001b[39m\"\u001b[39m,\n\u001b[1;32m    885\u001b[0m     \u001b[39m\"\u001b[39m\u001b[39m#     model=model,                  # the instantiated 🤗 Transformers model to be trained\u001b[39m\u001b[39m\\n\u001b[39;00m\u001b[39m\"\u001b[39m,\n\u001b[1;32m    886\u001b[0m     \u001b[39m\"\u001b[39m\u001b[39m#     args=training_args,                  # training arguments, defined above\u001b[39m\u001b[39m\\n\u001b[39;00m\u001b[39m\"\u001b[39m,\n\u001b[1;32m    887\u001b[0m     \u001b[39m\"\u001b[39m\u001b[39m#     train_dataset=train_dataset,         # training dataset\u001b[39m\u001b[39m\\n\u001b[39;00m\u001b[39m\"\u001b[39m,\n\u001b[1;32m    888\u001b[0m     \u001b[39m\"\u001b[39m\u001b[39m#     eval_dataset=dev_dataset,            # evaluation dataset\u001b[39m\u001b[39m\\n\u001b[39;00m\u001b[39m\"\u001b[39m,\n\u001b[1;32m    889\u001b[0m     \u001b[39m\"\u001b[39m\u001b[39m#     data_collator=ContractNLITrainer.collate_fn,\u001b[39m\u001b[39m\\n\u001b[39;00m\u001b[39m\"\u001b[39m,\n\u001b[1;32m    890\u001b[0m     \u001b[39m\"\u001b[39m\u001b[39m# )\u001b[39m\u001b[39m\"\u001b[39m\n\u001b[1;32m    891\u001b[0m    ]\n\u001b[1;32m    892\u001b[0m   },\n\u001b[1;32m    893\u001b[0m   {\n\u001b[1;32m    894\u001b[0m    \u001b[39m\"\u001b[39m\u001b[39mcell_type\u001b[39m\u001b[39m\"\u001b[39m: \u001b[39m\"\u001b[39m\u001b[39mcode\u001b[39m\u001b[39m\"\u001b[39m,\n\u001b[1;32m    895\u001b[0m    \u001b[39m\"\u001b[39m\u001b[39mexecution_count\u001b[39m\u001b[39m\"\u001b[39m: null,\n\u001b[1;32m    896\u001b[0m    \u001b[39m\"\u001b[39m\u001b[39mmetadata\u001b[39m\u001b[39m\"\u001b[39m: {},\n\u001b[1;32m    897\u001b[0m    \u001b[39m\"\u001b[39m\u001b[39moutputs\u001b[39m\u001b[39m\"\u001b[39m: [],\n\u001b[1;32m    898\u001b[0m    \u001b[39m\"\u001b[39m\u001b[39msource\u001b[39m\u001b[39m\"\u001b[39m: [\n\u001b[1;32m    899\u001b[0m     \u001b[39m\"\u001b[39m\u001b[39m# trainer.train()\u001b[39m\u001b[39m\"\u001b[39m\n\u001b[1;32m    900\u001b[0m    ]\n\u001b[1;32m    901\u001b[0m   }\n\u001b[1;32m    902\u001b[0m  ],\n\u001b[1;32m    903\u001b[0m  \u001b[39m\"\u001b[39m\u001b[39mmetadata\u001b[39m\u001b[39m\"\u001b[39m: {\n\u001b[1;32m    904\u001b[0m   \u001b[39m\"\u001b[39m\u001b[39mkernelspec\u001b[39m\u001b[39m\"\u001b[39m: {\n\u001b[1;32m    905\u001b[0m    \u001b[39m\"\u001b[39m\u001b[39mdisplay_name\u001b[39m\u001b[39m\"\u001b[39m: \u001b[39m\"\u001b[39m\u001b[39mPython 3\u001b[39m\u001b[39m\"\u001b[39m,\n\u001b[1;32m    906\u001b[0m    \u001b[39m\"\u001b[39m\u001b[39mlanguage\u001b[39m\u001b[39m\"\u001b[39m: \u001b[39m\"\u001b[39m\u001b[39mpython\u001b[39m\u001b[39m\"\u001b[39m,\n\u001b[1;32m    907\u001b[0m    \u001b[39m\"\u001b[39m\u001b[39mname\u001b[39m\u001b[39m\"\u001b[39m: \u001b[39m\"\u001b[39m\u001b[39mpython3\u001b[39m\u001b[39m\"\u001b[39m\n\u001b[1;32m    908\u001b[0m   },\n\u001b[1;32m    909\u001b[0m   \u001b[39m\"\u001b[39m\u001b[39mlanguage_info\u001b[39m\u001b[39m\"\u001b[39m: {\n\u001b[1;32m    910\u001b[0m    \u001b[39m\"\u001b[39m\u001b[39mcodemirror_mode\u001b[39m\u001b[39m\"\u001b[39m: {\n\u001b[1;32m    911\u001b[0m     \u001b[39m\"\u001b[39m\u001b[39mname\u001b[39m\u001b[39m\"\u001b[39m: \u001b[39m\"\u001b[39m\u001b[39mipython\u001b[39m\u001b[39m\"\u001b[39m,\n\u001b[1;32m    912\u001b[0m     \u001b[39m\"\u001b[39m\u001b[39mversion\u001b[39m\u001b[39m\"\u001b[39m: \u001b[39m3\u001b[39m\n\u001b[1;32m    913\u001b[0m    },\n\u001b[1;32m    914\u001b[0m    \u001b[39m\"\u001b[39m\u001b[39mfile_extension\u001b[39m\u001b[39m\"\u001b[39m: \u001b[39m\"\u001b[39m\u001b[39m.py\u001b[39m\u001b[39m\"\u001b[39m,\n\u001b[1;32m    915\u001b[0m    \u001b[39m\"\u001b[39m\u001b[39mmimetype\u001b[39m\u001b[39m\"\u001b[39m: \u001b[39m\"\u001b[39m\u001b[39mtext/x-python\u001b[39m\u001b[39m\"\u001b[39m,\n\u001b[1;32m    916\u001b[0m    \u001b[39m\"\u001b[39m\u001b[39mname\u001b[39m\u001b[39m\"\u001b[39m: \u001b[39m\"\u001b[39m\u001b[39mpython\u001b[39m\u001b[39m\"\u001b[39m,\n\u001b[1;32m    917\u001b[0m    \u001b[39m\"\u001b[39m\u001b[39mnbconvert_exporter\u001b[39m\u001b[39m\"\u001b[39m: \u001b[39m\"\u001b[39m\u001b[39mpython\u001b[39m\u001b[39m\"\u001b[39m,\n\u001b[1;32m    918\u001b[0m    \u001b[39m\"\u001b[39m\u001b[39mpygments_lexer\u001b[39m\u001b[39m\"\u001b[39m: \u001b[39m\"\u001b[39m\u001b[39mipython3\u001b[39m\u001b[39m\"\u001b[39m,\n\u001b[1;32m    919\u001b[0m    \u001b[39m\"\u001b[39m\u001b[39mversion\u001b[39m\u001b[39m\"\u001b[39m: \u001b[39m\"\u001b[39m\u001b[39m3.11.5\u001b[39m\u001b[39m\"\u001b[39m\n\u001b[1;32m    920\u001b[0m   },\n\u001b[1;32m    921\u001b[0m   \u001b[39m\"\u001b[39m\u001b[39morig_nbformat\u001b[39m\u001b[39m\"\u001b[39m: \u001b[39m4\u001b[39m\n\u001b[1;32m    922\u001b[0m  },\n\u001b[1;32m    923\u001b[0m  \u001b[39m\"\u001b[39m\u001b[39mnbformat\u001b[39m\u001b[39m\"\u001b[39m: \u001b[39m4\u001b[39m,\n\u001b[1;32m    924\u001b[0m  \u001b[39m\"\u001b[39m\u001b[39mnbformat_minor\u001b[39m\u001b[39m\"\u001b[39m: \u001b[39m2\u001b[39m\n\u001b[1;32m    925\u001b[0m }\n",
      "File \u001b[0;32m~/miniforge-pypy3/envs/nli/lib/python3.11/site-packages/torch/nn/modules/module.py:1501\u001b[0m, in \u001b[0;36mModule._call_impl\u001b[0;34m(self, *args, **kwargs)\u001b[0m\n\u001b[1;32m   1496\u001b[0m \u001b[39m# If we don't have any hooks, we want to skip the rest of the logic in\u001b[39;00m\n\u001b[1;32m   1497\u001b[0m \u001b[39m# this function, and just call forward.\u001b[39;00m\n\u001b[1;32m   1498\u001b[0m \u001b[39mif\u001b[39;00m \u001b[39mnot\u001b[39;00m (\u001b[39mself\u001b[39m\u001b[39m.\u001b[39m_backward_hooks \u001b[39mor\u001b[39;00m \u001b[39mself\u001b[39m\u001b[39m.\u001b[39m_backward_pre_hooks \u001b[39mor\u001b[39;00m \u001b[39mself\u001b[39m\u001b[39m.\u001b[39m_forward_hooks \u001b[39mor\u001b[39;00m \u001b[39mself\u001b[39m\u001b[39m.\u001b[39m_forward_pre_hooks\n\u001b[1;32m   1499\u001b[0m         \u001b[39mor\u001b[39;00m _global_backward_pre_hooks \u001b[39mor\u001b[39;00m _global_backward_hooks\n\u001b[1;32m   1500\u001b[0m         \u001b[39mor\u001b[39;00m _global_forward_hooks \u001b[39mor\u001b[39;00m _global_forward_pre_hooks):\n\u001b[0;32m-> 1501\u001b[0m     \u001b[39mreturn\u001b[39;00m forward_call(\u001b[39m*\u001b[39;49margs, \u001b[39m*\u001b[39;49m\u001b[39m*\u001b[39;49mkwargs)\n\u001b[1;32m   1502\u001b[0m \u001b[39m# Do not call functions when jit is used\u001b[39;00m\n\u001b[1;32m   1503\u001b[0m full_backward_hooks, non_full_backward_hooks \u001b[39m=\u001b[39m [], []\n",
      "File \u001b[0;32m~/miniforge-pypy3/envs/nli/lib/python3.11/site-packages/transformers/models/bert/modeling_bert.py:1022\u001b[0m, in \u001b[0;36mBertModel.forward\u001b[0;34m(self, input_ids, attention_mask, token_type_ids, position_ids, head_mask, inputs_embeds, encoder_hidden_states, encoder_attention_mask, past_key_values, use_cache, output_attentions, output_hidden_states, return_dict)\u001b[0m\n\u001b[1;32m   1013\u001b[0m head_mask \u001b[39m=\u001b[39m \u001b[39mself\u001b[39m\u001b[39m.\u001b[39mget_head_mask(head_mask, \u001b[39mself\u001b[39m\u001b[39m.\u001b[39mconfig\u001b[39m.\u001b[39mnum_hidden_layers)\n\u001b[1;32m   1015\u001b[0m embedding_output \u001b[39m=\u001b[39m \u001b[39mself\u001b[39m\u001b[39m.\u001b[39membeddings(\n\u001b[1;32m   1016\u001b[0m     input_ids\u001b[39m=\u001b[39minput_ids,\n\u001b[1;32m   1017\u001b[0m     position_ids\u001b[39m=\u001b[39mposition_ids,\n\u001b[0;32m   (...)\u001b[0m\n\u001b[1;32m   1020\u001b[0m     past_key_values_length\u001b[39m=\u001b[39mpast_key_values_length,\n\u001b[1;32m   1021\u001b[0m )\n\u001b[0;32m-> 1022\u001b[0m encoder_outputs \u001b[39m=\u001b[39m \u001b[39mself\u001b[39;49m\u001b[39m.\u001b[39;49mencoder(\n\u001b[1;32m   1023\u001b[0m     embedding_output,\n\u001b[1;32m   1024\u001b[0m     attention_mask\u001b[39m=\u001b[39;49mextended_attention_mask,\n\u001b[1;32m   1025\u001b[0m     head_mask\u001b[39m=\u001b[39;49mhead_mask,\n\u001b[1;32m   1026\u001b[0m     encoder_hidden_states\u001b[39m=\u001b[39;49mencoder_hidden_states,\n\u001b[1;32m   1027\u001b[0m     encoder_attention_mask\u001b[39m=\u001b[39;49mencoder_extended_attention_mask,\n\u001b[1;32m   1028\u001b[0m     past_key_values\u001b[39m=\u001b[39;49mpast_key_values,\n\u001b[1;32m   1029\u001b[0m     use_cache\u001b[39m=\u001b[39;49muse_cache,\n\u001b[1;32m   1030\u001b[0m     output_attentions\u001b[39m=\u001b[39;49moutput_attentions,\n\u001b[1;32m   1031\u001b[0m     output_hidden_states\u001b[39m=\u001b[39;49moutput_hidden_states,\n\u001b[1;32m   1032\u001b[0m     return_dict\u001b[39m=\u001b[39;49mreturn_dict,\n\u001b[1;32m   1033\u001b[0m )\n\u001b[1;32m   1034\u001b[0m sequence_output \u001b[39m=\u001b[39m encoder_outputs[\u001b[39m0\u001b[39m]\n\u001b[1;32m   1035\u001b[0m pooled_output \u001b[39m=\u001b[39m \u001b[39mself\u001b[39m\u001b[39m.\u001b[39mpooler(sequence_output) \u001b[39mif\u001b[39;00m \u001b[39mself\u001b[39m\u001b[39m.\u001b[39mpooler \u001b[39mis\u001b[39;00m \u001b[39mnot\u001b[39;00m \u001b[39mNone\u001b[39;00m \u001b[39melse\u001b[39;00m \u001b[39mNone\u001b[39;00m\n",
      "File \u001b[0;32m~/miniforge-pypy3/envs/nli/lib/python3.11/site-packages/torch/nn/modules/module.py:1501\u001b[0m, in \u001b[0;36mModule._call_impl\u001b[0;34m(self, *args, **kwargs)\u001b[0m\n\u001b[1;32m   1496\u001b[0m \u001b[39m# If we don't have any hooks, we want to skip the rest of the logic in\u001b[39;00m\n\u001b[1;32m   1497\u001b[0m \u001b[39m# this function, and just call forward.\u001b[39;00m\n\u001b[1;32m   1498\u001b[0m \u001b[39mif\u001b[39;00m \u001b[39mnot\u001b[39;00m (\u001b[39mself\u001b[39m\u001b[39m.\u001b[39m_backward_hooks \u001b[39mor\u001b[39;00m \u001b[39mself\u001b[39m\u001b[39m.\u001b[39m_backward_pre_hooks \u001b[39mor\u001b[39;00m \u001b[39mself\u001b[39m\u001b[39m.\u001b[39m_forward_hooks \u001b[39mor\u001b[39;00m \u001b[39mself\u001b[39m\u001b[39m.\u001b[39m_forward_pre_hooks\n\u001b[1;32m   1499\u001b[0m         \u001b[39mor\u001b[39;00m _global_backward_pre_hooks \u001b[39mor\u001b[39;00m _global_backward_hooks\n\u001b[1;32m   1500\u001b[0m         \u001b[39mor\u001b[39;00m _global_forward_hooks \u001b[39mor\u001b[39;00m _global_forward_pre_hooks):\n\u001b[0;32m-> 1501\u001b[0m     \u001b[39mreturn\u001b[39;00m forward_call(\u001b[39m*\u001b[39;49margs, \u001b[39m*\u001b[39;49m\u001b[39m*\u001b[39;49mkwargs)\n\u001b[1;32m   1502\u001b[0m \u001b[39m# Do not call functions when jit is used\u001b[39;00m\n\u001b[1;32m   1503\u001b[0m full_backward_hooks, non_full_backward_hooks \u001b[39m=\u001b[39m [], []\n",
      "File \u001b[0;32m~/miniforge-pypy3/envs/nli/lib/python3.11/site-packages/transformers/models/bert/modeling_bert.py:612\u001b[0m, in \u001b[0;36mBertEncoder.forward\u001b[0;34m(self, hidden_states, attention_mask, head_mask, encoder_hidden_states, encoder_attention_mask, past_key_values, use_cache, output_attentions, output_hidden_states, return_dict)\u001b[0m\n\u001b[1;32m    603\u001b[0m     layer_outputs \u001b[39m=\u001b[39m torch\u001b[39m.\u001b[39mutils\u001b[39m.\u001b[39mcheckpoint\u001b[39m.\u001b[39mcheckpoint(\n\u001b[1;32m    604\u001b[0m         create_custom_forward(layer_module),\n\u001b[1;32m    605\u001b[0m         hidden_states,\n\u001b[0;32m   (...)\u001b[0m\n\u001b[1;32m    609\u001b[0m         encoder_attention_mask,\n\u001b[1;32m    610\u001b[0m     )\n\u001b[1;32m    611\u001b[0m \u001b[39melse\u001b[39;00m:\n\u001b[0;32m--> 612\u001b[0m     layer_outputs \u001b[39m=\u001b[39m layer_module(\n\u001b[1;32m    613\u001b[0m         hidden_states,\n\u001b[1;32m    614\u001b[0m         attention_mask,\n\u001b[1;32m    615\u001b[0m         layer_head_mask,\n\u001b[1;32m    616\u001b[0m         encoder_hidden_states,\n\u001b[1;32m    617\u001b[0m         encoder_attention_mask,\n\u001b[1;32m    618\u001b[0m         past_key_value,\n\u001b[1;32m    619\u001b[0m         output_attentions,\n\u001b[1;32m    620\u001b[0m     )\n\u001b[1;32m    622\u001b[0m hidden_states \u001b[39m=\u001b[39m layer_outputs[\u001b[39m0\u001b[39m]\n\u001b[1;32m    623\u001b[0m \u001b[39mif\u001b[39;00m use_cache:\n",
      "File \u001b[0;32m~/miniforge-pypy3/envs/nli/lib/python3.11/site-packages/torch/nn/modules/module.py:1501\u001b[0m, in \u001b[0;36mModule._call_impl\u001b[0;34m(self, *args, **kwargs)\u001b[0m\n\u001b[1;32m   1496\u001b[0m \u001b[39m# If we don't have any hooks, we want to skip the rest of the logic in\u001b[39;00m\n\u001b[1;32m   1497\u001b[0m \u001b[39m# this function, and just call forward.\u001b[39;00m\n\u001b[1;32m   1498\u001b[0m \u001b[39mif\u001b[39;00m \u001b[39mnot\u001b[39;00m (\u001b[39mself\u001b[39m\u001b[39m.\u001b[39m_backward_hooks \u001b[39mor\u001b[39;00m \u001b[39mself\u001b[39m\u001b[39m.\u001b[39m_backward_pre_hooks \u001b[39mor\u001b[39;00m \u001b[39mself\u001b[39m\u001b[39m.\u001b[39m_forward_hooks \u001b[39mor\u001b[39;00m \u001b[39mself\u001b[39m\u001b[39m.\u001b[39m_forward_pre_hooks\n\u001b[1;32m   1499\u001b[0m         \u001b[39mor\u001b[39;00m _global_backward_pre_hooks \u001b[39mor\u001b[39;00m _global_backward_hooks\n\u001b[1;32m   1500\u001b[0m         \u001b[39mor\u001b[39;00m _global_forward_hooks \u001b[39mor\u001b[39;00m _global_forward_pre_hooks):\n\u001b[0;32m-> 1501\u001b[0m     \u001b[39mreturn\u001b[39;00m forward_call(\u001b[39m*\u001b[39;49margs, \u001b[39m*\u001b[39;49m\u001b[39m*\u001b[39;49mkwargs)\n\u001b[1;32m   1502\u001b[0m \u001b[39m# Do not call functions when jit is used\u001b[39;00m\n\u001b[1;32m   1503\u001b[0m full_backward_hooks, non_full_backward_hooks \u001b[39m=\u001b[39m [], []\n",
      "File \u001b[0;32m~/miniforge-pypy3/envs/nli/lib/python3.11/site-packages/transformers/models/bert/modeling_bert.py:497\u001b[0m, in \u001b[0;36mBertLayer.forward\u001b[0;34m(self, hidden_states, attention_mask, head_mask, encoder_hidden_states, encoder_attention_mask, past_key_value, output_attentions)\u001b[0m\n\u001b[1;32m    485\u001b[0m \u001b[39mdef\u001b[39;00m \u001b[39mforward\u001b[39m(\n\u001b[1;32m    486\u001b[0m     \u001b[39mself\u001b[39m,\n\u001b[1;32m    487\u001b[0m     hidden_states: torch\u001b[39m.\u001b[39mTensor,\n\u001b[0;32m   (...)\u001b[0m\n\u001b[1;32m    494\u001b[0m ) \u001b[39m-\u001b[39m\u001b[39m>\u001b[39m Tuple[torch\u001b[39m.\u001b[39mTensor]:\n\u001b[1;32m    495\u001b[0m     \u001b[39m# decoder uni-directional self-attention cached key/values tuple is at positions 1,2\u001b[39;00m\n\u001b[1;32m    496\u001b[0m     self_attn_past_key_value \u001b[39m=\u001b[39m past_key_value[:\u001b[39m2\u001b[39m] \u001b[39mif\u001b[39;00m past_key_value \u001b[39mis\u001b[39;00m \u001b[39mnot\u001b[39;00m \u001b[39mNone\u001b[39;00m \u001b[39melse\u001b[39;00m \u001b[39mNone\u001b[39;00m\n\u001b[0;32m--> 497\u001b[0m     self_attention_outputs \u001b[39m=\u001b[39m \u001b[39mself\u001b[39;49m\u001b[39m.\u001b[39;49mattention(\n\u001b[1;32m    498\u001b[0m         hidden_states,\n\u001b[1;32m    499\u001b[0m         attention_mask,\n\u001b[1;32m    500\u001b[0m         head_mask,\n\u001b[1;32m    501\u001b[0m         output_attentions\u001b[39m=\u001b[39;49moutput_attentions,\n\u001b[1;32m    502\u001b[0m         past_key_value\u001b[39m=\u001b[39;49mself_attn_past_key_value,\n\u001b[1;32m    503\u001b[0m     )\n\u001b[1;32m    504\u001b[0m     attention_output \u001b[39m=\u001b[39m self_attention_outputs[\u001b[39m0\u001b[39m]\n\u001b[1;32m    506\u001b[0m     \u001b[39m# if decoder, the last output is tuple of self-attn cache\u001b[39;00m\n",
      "File \u001b[0;32m~/miniforge-pypy3/envs/nli/lib/python3.11/site-packages/torch/nn/modules/module.py:1501\u001b[0m, in \u001b[0;36mModule._call_impl\u001b[0;34m(self, *args, **kwargs)\u001b[0m\n\u001b[1;32m   1496\u001b[0m \u001b[39m# If we don't have any hooks, we want to skip the rest of the logic in\u001b[39;00m\n\u001b[1;32m   1497\u001b[0m \u001b[39m# this function, and just call forward.\u001b[39;00m\n\u001b[1;32m   1498\u001b[0m \u001b[39mif\u001b[39;00m \u001b[39mnot\u001b[39;00m (\u001b[39mself\u001b[39m\u001b[39m.\u001b[39m_backward_hooks \u001b[39mor\u001b[39;00m \u001b[39mself\u001b[39m\u001b[39m.\u001b[39m_backward_pre_hooks \u001b[39mor\u001b[39;00m \u001b[39mself\u001b[39m\u001b[39m.\u001b[39m_forward_hooks \u001b[39mor\u001b[39;00m \u001b[39mself\u001b[39m\u001b[39m.\u001b[39m_forward_pre_hooks\n\u001b[1;32m   1499\u001b[0m         \u001b[39mor\u001b[39;00m _global_backward_pre_hooks \u001b[39mor\u001b[39;00m _global_backward_hooks\n\u001b[1;32m   1500\u001b[0m         \u001b[39mor\u001b[39;00m _global_forward_hooks \u001b[39mor\u001b[39;00m _global_forward_pre_hooks):\n\u001b[0;32m-> 1501\u001b[0m     \u001b[39mreturn\u001b[39;00m forward_call(\u001b[39m*\u001b[39;49margs, \u001b[39m*\u001b[39;49m\u001b[39m*\u001b[39;49mkwargs)\n\u001b[1;32m   1502\u001b[0m \u001b[39m# Do not call functions when jit is used\u001b[39;00m\n\u001b[1;32m   1503\u001b[0m full_backward_hooks, non_full_backward_hooks \u001b[39m=\u001b[39m [], []\n",
      "File \u001b[0;32m~/miniforge-pypy3/envs/nli/lib/python3.11/site-packages/transformers/models/bert/modeling_bert.py:427\u001b[0m, in \u001b[0;36mBertAttention.forward\u001b[0;34m(self, hidden_states, attention_mask, head_mask, encoder_hidden_states, encoder_attention_mask, past_key_value, output_attentions)\u001b[0m\n\u001b[1;32m    417\u001b[0m \u001b[39mdef\u001b[39;00m \u001b[39mforward\u001b[39m(\n\u001b[1;32m    418\u001b[0m     \u001b[39mself\u001b[39m,\n\u001b[1;32m    419\u001b[0m     hidden_states: torch\u001b[39m.\u001b[39mTensor,\n\u001b[0;32m   (...)\u001b[0m\n\u001b[1;32m    425\u001b[0m     output_attentions: Optional[\u001b[39mbool\u001b[39m] \u001b[39m=\u001b[39m \u001b[39mFalse\u001b[39;00m,\n\u001b[1;32m    426\u001b[0m ) \u001b[39m-\u001b[39m\u001b[39m>\u001b[39m Tuple[torch\u001b[39m.\u001b[39mTensor]:\n\u001b[0;32m--> 427\u001b[0m     self_outputs \u001b[39m=\u001b[39m \u001b[39mself\u001b[39;49m\u001b[39m.\u001b[39;49mself(\n\u001b[1;32m    428\u001b[0m         hidden_states,\n\u001b[1;32m    429\u001b[0m         attention_mask,\n\u001b[1;32m    430\u001b[0m         head_mask,\n\u001b[1;32m    431\u001b[0m         encoder_hidden_states,\n\u001b[1;32m    432\u001b[0m         encoder_attention_mask,\n\u001b[1;32m    433\u001b[0m         past_key_value,\n\u001b[1;32m    434\u001b[0m         output_attentions,\n\u001b[1;32m    435\u001b[0m     )\n\u001b[1;32m    436\u001b[0m     attention_output \u001b[39m=\u001b[39m \u001b[39mself\u001b[39m\u001b[39m.\u001b[39moutput(self_outputs[\u001b[39m0\u001b[39m], hidden_states)\n\u001b[1;32m    437\u001b[0m     outputs \u001b[39m=\u001b[39m (attention_output,) \u001b[39m+\u001b[39m self_outputs[\u001b[39m1\u001b[39m:]  \u001b[39m# add attentions if we output them\u001b[39;00m\n",
      "File \u001b[0;32m~/miniforge-pypy3/envs/nli/lib/python3.11/site-packages/torch/nn/modules/module.py:1501\u001b[0m, in \u001b[0;36mModule._call_impl\u001b[0;34m(self, *args, **kwargs)\u001b[0m\n\u001b[1;32m   1496\u001b[0m \u001b[39m# If we don't have any hooks, we want to skip the rest of the logic in\u001b[39;00m\n\u001b[1;32m   1497\u001b[0m \u001b[39m# this function, and just call forward.\u001b[39;00m\n\u001b[1;32m   1498\u001b[0m \u001b[39mif\u001b[39;00m \u001b[39mnot\u001b[39;00m (\u001b[39mself\u001b[39m\u001b[39m.\u001b[39m_backward_hooks \u001b[39mor\u001b[39;00m \u001b[39mself\u001b[39m\u001b[39m.\u001b[39m_backward_pre_hooks \u001b[39mor\u001b[39;00m \u001b[39mself\u001b[39m\u001b[39m.\u001b[39m_forward_hooks \u001b[39mor\u001b[39;00m \u001b[39mself\u001b[39m\u001b[39m.\u001b[39m_forward_pre_hooks\n\u001b[1;32m   1499\u001b[0m         \u001b[39mor\u001b[39;00m _global_backward_pre_hooks \u001b[39mor\u001b[39;00m _global_backward_hooks\n\u001b[1;32m   1500\u001b[0m         \u001b[39mor\u001b[39;00m _global_forward_hooks \u001b[39mor\u001b[39;00m _global_forward_pre_hooks):\n\u001b[0;32m-> 1501\u001b[0m     \u001b[39mreturn\u001b[39;00m forward_call(\u001b[39m*\u001b[39;49margs, \u001b[39m*\u001b[39;49m\u001b[39m*\u001b[39;49mkwargs)\n\u001b[1;32m   1502\u001b[0m \u001b[39m# Do not call functions when jit is used\u001b[39;00m\n\u001b[1;32m   1503\u001b[0m full_backward_hooks, non_full_backward_hooks \u001b[39m=\u001b[39m [], []\n",
      "File \u001b[0;32m~/miniforge-pypy3/envs/nli/lib/python3.11/site-packages/transformers/models/bert/modeling_bert.py:355\u001b[0m, in \u001b[0;36mBertSelfAttention.forward\u001b[0;34m(self, hidden_states, attention_mask, head_mask, encoder_hidden_states, encoder_attention_mask, past_key_value, output_attentions)\u001b[0m\n\u001b[1;32m    352\u001b[0m     attention_scores \u001b[39m=\u001b[39m attention_scores \u001b[39m+\u001b[39m attention_mask\n\u001b[1;32m    354\u001b[0m \u001b[39m# Normalize the attention scores to probabilities.\u001b[39;00m\n\u001b[0;32m--> 355\u001b[0m attention_probs \u001b[39m=\u001b[39m nn\u001b[39m.\u001b[39;49mfunctional\u001b[39m.\u001b[39;49msoftmax(attention_scores, dim\u001b[39m=\u001b[39;49m\u001b[39m-\u001b[39;49m\u001b[39m1\u001b[39;49m)\n\u001b[1;32m    357\u001b[0m \u001b[39m# This is actually dropping out entire tokens to attend to, which might\u001b[39;00m\n\u001b[1;32m    358\u001b[0m \u001b[39m# seem a bit unusual, but is taken from the original Transformer paper.\u001b[39;00m\n\u001b[1;32m    359\u001b[0m attention_probs \u001b[39m=\u001b[39m \u001b[39mself\u001b[39m\u001b[39m.\u001b[39mdropout(attention_probs)\n",
      "File \u001b[0;32m~/miniforge-pypy3/envs/nli/lib/python3.11/site-packages/torch/nn/functional.py:1843\u001b[0m, in \u001b[0;36msoftmax\u001b[0;34m(input, dim, _stacklevel, dtype)\u001b[0m\n\u001b[1;32m   1841\u001b[0m     dim \u001b[39m=\u001b[39m _get_softmax_dim(\u001b[39m\"\u001b[39m\u001b[39msoftmax\u001b[39m\u001b[39m\"\u001b[39m, \u001b[39minput\u001b[39m\u001b[39m.\u001b[39mdim(), _stacklevel)\n\u001b[1;32m   1842\u001b[0m \u001b[39mif\u001b[39;00m dtype \u001b[39mis\u001b[39;00m \u001b[39mNone\u001b[39;00m:\n\u001b[0;32m-> 1843\u001b[0m     ret \u001b[39m=\u001b[39m \u001b[39minput\u001b[39;49m\u001b[39m.\u001b[39;49msoftmax(dim)\n\u001b[1;32m   1844\u001b[0m \u001b[39melse\u001b[39;00m:\n\u001b[1;32m   1845\u001b[0m     ret \u001b[39m=\u001b[39m \u001b[39minput\u001b[39m\u001b[39m.\u001b[39msoftmax(dim, dtype\u001b[39m=\u001b[39mdtype)\n",
      "\u001b[0;31mKeyboardInterrupt\u001b[0m: "
     ]
    }
   ],
   "source": [
    "ic.disable()\n",
    "# ic.enable()\n",
    "results = trainer.evaluate()\n",
    "results"
   ]
  },
  {
   "cell_type": "code",
   "execution_count": 40,
   "metadata": {},
   "outputs": [
    {
     "name": "stderr",
     "output_type": "stream",
     "text": [
      "ic| first_minus_one_index: tensor([2, 3, 4])\n"
     ]
    },
    {
     "data": {
      "text/plain": [
       "tensor([2, 3, 4])"
      ]
     },
     "execution_count": 40,
     "metadata": {},
     "output_type": "execute_result"
    }
   ],
   "source": [
    "# span_index_row = torch.tensor([2, 5, -1, -1, -1])\n",
    "# first_minus_one_index = torch.where(span_index_row == -1)[0]\n",
    "# ic(first_minus_one_index)"
   ]
  },
  {
   "cell_type": "code",
   "execution_count": null,
   "metadata": {},
   "outputs": [],
   "source": [
    "# from transformers import Trainer\n",
    "# from sklearn.metrics import accuracy_score\n",
    "# from sklearn.metrics import average_precision_score\n",
    "# from tqdm import tqdm\n",
    "# import numpy as np\n",
    "\n",
    "# class ContractNLITrainer(Trainer):\n",
    "#     def _init_(self, *args, data_collator=None, **kwargs):\n",
    "#         super()._init_(*args, data_collator=data_collator, **kwargs)\n",
    "\n",
    "#     def compute_loss(self, model, inputs, return_outputs=False):\n",
    "#         span_label = inputs.pop('span_labels')\n",
    "#         nli_label = inputs.pop('nli_label')\n",
    "#         inputs.pop('data_for_metrics')\n",
    "\n",
    "#         outputs = model(**inputs)\n",
    "#         span_logits, nli_logits = outputs[0], outputs[1]\n",
    "\n",
    "#         true_span_labels = []\n",
    "#         pred_span_labels = []\n",
    "\n",
    "#         start_index = 0\n",
    "#         end_index = 0\n",
    "\n",
    "#         for i, span_index_row in enumerate(inputs['span_indices']):\n",
    "#             # find first zero index\n",
    "#             first_zero_index = torch.where(span_index_row == 0)[0]\n",
    "\n",
    "#             if len(first_zero_index) == 0:\n",
    "#                 first_zero_index = len(span_index_row)\n",
    "#             else:\n",
    "#                 first_zero_index = first_zero_index[0].item()\n",
    "#             end_index += first_zero_index\n",
    "\n",
    "#             if nli_label[i] != get_labels()['Ignore']:\n",
    "#                 if nli_label[i] != get_labels()['NotMentioned']:\n",
    "#                     true_span_labels.extend(span_label[start_index:end_index].tolist())\n",
    "#                     pred_span_labels.extend(span_logits[start_index:end_index].tolist())\n",
    "\n",
    "#             start_index = end_index\n",
    "\n",
    "#         true_span_labels = torch.tensor(true_span_labels, dtype=torch.float32, device=DEVICE)\n",
    "#         pred_span_labels = torch.tensor(pred_span_labels, dtype=torch.float32, device=DEVICE)\n",
    "\n",
    "#         true_span_labels = true_span_labels.view(-1)\n",
    "#         pred_span_labels = pred_span_labels.view(-1)\n",
    "\n",
    "#         if len(true_span_labels) == 0 or len(pred_span_labels) != len(true_span_labels):\n",
    "#             span_loss = torch.tensor(0, dtype=torch.float32, device=DEVICE)\n",
    "#         else:\n",
    "#             span_loss = self.model.span_criterion(pred_span_labels, true_span_labels)\n",
    "\n",
    "#         nli_loss = self.model.nli_criterion(nli_logits, nli_label)\n",
    "\n",
    "#         if torch.isnan(nli_loss):\n",
    "#             nli_loss = torch.tensor(0, dtype=torch.float32, device=DEVICE)\n",
    "\n",
    "#         if torch.isnan(span_loss):\n",
    "#             span_loss = torch.tensor(0, dtype=torch.float32, device=DEVICE)\n",
    "\n",
    "#         loss = span_loss + self.model.lambda_ * nli_loss\n",
    "\n",
    "#         if loss.item() == 0:\n",
    "#             loss = torch.tensor(0, dtype=torch.float32, device=DEVICE, requires_grad=True)\n",
    "\n",
    "#         return (loss, outputs) if return_outputs else loss\n",
    "\n",
    "#     @staticmethod\n",
    "#     def collate_fn(features):\n",
    "#         span_indices_list = [feature['span_indices'] for feature in features]\n",
    "#         max_len = max([len(span_indices) for span_indices in span_indices_list])\n",
    "#         span_indices_list = [torch.cat([span_indices, torch.zeros(max_len - len(span_indices), dtype=torch.long)]) for span_indices in span_indices_list]\n",
    "\n",
    "#         span_ids_list = [feature['data_for_metrics']['span_ids'] for feature in features]\n",
    "#         max_len = max([len(span_ids) for span_ids in span_ids_list])\n",
    "#         # span_ids_tensors = [torch.tensor(span_ids) for span_ids in span_ids_list]\n",
    "\n",
    "#         # Padding\n",
    "#         # span_ids_list_padded = torch.nn.utils.rnn.pad_sequence(span_ids_tensors, batch_first=True, padding_value=-1)\n",
    "        \n",
    "#         span_ids_list = [torch.cat([span_ids, torch.full((max_len - len(span_ids),), -1)]) for span_ids in span_ids_list]\n",
    "        \n",
    "#         # span_ids_list = [torch.cat([span_ids, pad_tensor]) for span_ids in span_ids_list]\n",
    "#         # ic(span_ids_list)\n",
    "#         # span_ids_list = [torch.cat([span_ids, torch.zeros(max_len - len(span_ids), dtype=torch.long)]) for span_ids in span_ids_list]\n",
    "\n",
    "#         input_ids = torch.stack([feature['input_ids'] for feature in features])\n",
    "#         attention_mask = torch.stack([feature['attention_mask'] for feature in features])\n",
    "#         token_type_ids = torch.stack([feature['token_type_ids'] for feature in features])\n",
    "#         span_indices = torch.stack(span_indices_list)\n",
    "#         nli_label = torch.stack([feature['nli_label'] for feature in features])\n",
    "#         span_label = torch.cat([feature['span_labels'] for feature in features], dim=0)\n",
    "#         data_for_metrics = {\n",
    "#             'doc_id': torch.stack([feature['data_for_metrics']['doc_id'] for feature in features]),\n",
    "#             'hypothesis_id': torch.stack([feature['data_for_metrics']['hypothesis_id'] for feature in features]),\n",
    "#             'span_ids': torch.stack(span_ids_list),\n",
    "#         }\n",
    "\n",
    "#         return {\n",
    "#             'input_ids': input_ids,\n",
    "#             'attention_mask': attention_mask,\n",
    "#             'token_type_ids': token_type_ids,\n",
    "#             'span_indices': span_indices,\n",
    "#             'nli_label': nli_label,\n",
    "#             'span_labels': span_label,\n",
    "#             'data_for_metrics': data_for_metrics,\n",
    "#         }\n",
    "\n",
    "#     def evaluate(self, eval_dataset=None, ignore_keys=None):\n",
    "#         ic(eval_dataset)\n",
    "#         self.model.eval()\n",
    "#         self.dataloader = ic(self.get_eval_dataloader(eval_dataset))\n",
    "        \n",
    "#         # true_span_labels = []\n",
    "#         # pred_span_labels = []\n",
    "        \n",
    "#         true_nli_labels = []\n",
    "#         pred_nli_labels = []\n",
    "\n",
    "#         probs_per_span = {}\n",
    "#         true_labels_per_span = {}\n",
    "\n",
    "#         for inputs in tqdm(self.dataloader):\n",
    "#             inputs = self._prepare_inputs(inputs)\n",
    "#             ic(inputs['input_ids'].shape)\n",
    "#             eval_span_labels = inputs.pop('span_labels')\n",
    "#             ic(eval_span_labels)\n",
    "#             eval_nli_labels = inputs.pop('nli_label')\n",
    "#             data_for_metrics = inputs.pop('data_for_metrics')\n",
    "#             ic(data_for_metrics)\n",
    "\n",
    "#             with torch.no_grad():\n",
    "#                 outputs = self.model(**inputs)\n",
    "#                 span_logits, nli_logits = outputs[0], outputs[1]\n",
    "#                 # span_preds = ic(torch.sigmoid(span_logits)) >= 0.499\n",
    "#                 # ic(span_logits)\n",
    "                \n",
    "#                 # for i in range(len(data_for_metrics['doc_id'])):\n",
    "#                 #     # ic(point)\n",
    "#                 #     for j in range(len(data_for_metrics['span_ids'][i])):\n",
    "#                 #         key = str(data_for_metrics['doc_id'][i])+ '-' + str(data_for_metrics['hypothesis_id'][i])+ '-' + str(data_for_metrics['span_ids'][i][j])\n",
    "#                 #         true_labels_per_span[key] = eval_span_labels[i]\n",
    "\n",
    "#                 #         if key in probs_per_span:\n",
    "#                 #             probs_per_span[key].append(torch.sigmoid(span_logits[i]))\n",
    "#                 #         else:\n",
    "#                 #             probs_per_span[key] = [torch.sigmoid(span_logits[i])]\n",
    "\n",
    "#                 # span_preds = torch.tensor(span_preds.squeeze(1), dtype=torch.long)\n",
    "#                 nli_preds = torch.argmax(torch.softmax(nli_logits, dim=1), dim=1)\n",
    "\n",
    "\n",
    "#                 start_index = 0\n",
    "#                 end_index = 0\n",
    "\n",
    "#                 for i, span_index_row in enumerate(inputs['span_indices']):\n",
    "#                     # find first zero index\n",
    "#                     # ic(i)\n",
    "#                     # ic(span_index_row)\n",
    "#                     first_zero_index = torch.where(span_index_row == 0)[0]\n",
    "\n",
    "#                     if len(first_zero_index) == 0:\n",
    "#                         first_zero_index = len(span_index_row)\n",
    "#                     else:\n",
    "#                         first_zero_index = first_zero_index[0].item()\n",
    "#                     end_index += first_zero_index\n",
    "\n",
    "#                     if start_index == end_index:\n",
    "#                         continue\n",
    "#                     # ic(start_index, end_index)\n",
    "#                     if eval_nli_labels[i] != get_labels()['NotMentioned']:\n",
    "#                         for j in range(start_index, end_index):\n",
    "#                             ic(j)\n",
    "#                             ic(data_for_metrics['span_ids'][i])\n",
    "#                             key = str(data_for_metrics['doc_id'][i])+ '-' + str(data_for_metrics['hypothesis_id'][i])+ '-' + str(data_for_metrics['span_ids'][i][j-start_index])\n",
    "#                             true_labels_per_span[key] = eval_span_labels[j]\n",
    "\n",
    "#                             if key in probs_per_span:\n",
    "#                                 probs_per_span[key].append(torch.sigmoid(span_logits[j]))\n",
    "#                                 # probs_per_span[key].append(span_logits[j])\n",
    "#                             else:\n",
    "#                                 probs_per_span[key] = [torch.sigmoid(span_logits[j])]\n",
    "#                                 # probs_per_span[key] = [span_logits[j]]\n",
    "#                         # true_span_labels.extend(eval_span_labels[start_index:end_index].tolist())\n",
    "#                         # pred_span_labels.extend(span_preds[start_index:end_index].tolist())\n",
    "\n",
    "#                     true_nli_labels.append(eval_nli_labels[i].item())\n",
    "#                     pred_nli_labels.append(nli_preds[i].item())\n",
    "\n",
    "#                     start_index = end_index\n",
    "\n",
    "\n",
    "#                 # true_span_labels.extend(eval_span_labels.tolist())\n",
    "#                 # pred_span_labels.extend(span_preds.tolist())\n",
    "                \n",
    "#                 # true_nli_labels.extend(eval_nli_labels.tolist())\n",
    "#                 # pred_nli_labels.extend(nli_preds.tolist())\n",
    "            \n",
    "#             # zip and print the true_span_labels and pred_span_labels together\n",
    "#             # ic(list(zip(true_span_labels, pred_span_labels)))\n",
    "#             # ic(list(zip(true_nli_labels, pred_nli_labels)))\n",
    "\n",
    "#         pred_span_labels = []\n",
    "#         true_span_labels = []\n",
    "\n",
    "#         for key, probs in probs_per_span.items():\n",
    "#             probs = torch.stack(probs).mean(dim=0)\n",
    "#             # probs = torch.sigmoid(torch.stack(probs).mean(dim=0))\n",
    "#             pred_span_labels.append(int(probs >= 0.50))\n",
    "#             true_span_labels.append(true_labels_per_span[key])\n",
    "\n",
    "#         pred_span_labels = torch.tensor(pred_span_labels, dtype=torch.long)\n",
    "#         true_span_labels = torch.tensor(true_span_labels, dtype=torch.long)\n",
    "\n",
    "#         ic(pred_span_labels)\n",
    "#         ic(true_span_labels)\n",
    "\n",
    "#         eval_nli_acc = accuracy_score(true_nli_labels, pred_nli_labels)\n",
    "        \n",
    "#         ic.enable()\n",
    "\n",
    "#         ic(len(true_span_labels), len(pred_span_labels))\n",
    "\n",
    "#         # print any span label if pred_span_label is 1\n",
    "#         ic(sum(pred_span_labels), sum(true_span_labels))\n",
    "\n",
    "#         # mAP = calculate_micro_average_precision(torch.tensor(true_span_labels), torch.tensor(pred_span_labels))    \n",
    "#         # calculate micro average precision (mAP)\n",
    "        \n",
    "#         mAP = average_precision_score(torch.tensor(true_span_labels), torch.tensor(pred_span_labels), average='micro')    \n",
    "\n",
    "#         # mAP = average_precision_score(torch.tensor(true_span_labels), torch.tensor(pred_span_labels))\n",
    "#         precision_at_80_recall = get_micro_average_precision_at_recall(torch.tensor(true_span_labels), torch.tensor(pred_span_labels), 0.8)\n",
    "#         f1_score_for_entailment = calculate_f1_score_for_class(torch.tensor(true_nli_labels), torch.tensor(pred_nli_labels), get_labels()['Entailment'])\n",
    "#         f1_score_for_contradiction = calculate_f1_score_for_class(torch.tensor(true_nli_labels), torch.tensor(pred_nli_labels), get_labels()['Contradiction'])\n",
    "        \n",
    "#         return {\n",
    "#             'mAP' : mAP,\n",
    "#             'precision_at_80_recall' : precision_at_80_recall,\n",
    "#             'nli_acc': eval_nli_acc,\n",
    "#             'f1_score_for_entailment': f1_score_for_entailment,\n",
    "#             'f1_score_for_contradiction': f1_score_for_contradiction\n",
    "#         }"
   ]
  }
 ],
 "metadata": {
  "kernelspec": {
   "display_name": "Python 3",
   "language": "python",
   "name": "python3"
  },
  "language_info": {
   "codemirror_mode": {
    "name": "ipython",
    "version": 3
   },
   "file_extension": ".py",
   "mimetype": "text/x-python",
   "name": "python",
   "nbconvert_exporter": "python",
   "pygments_lexer": "ipython3",
   "version": "3.11.5"
  },
  "orig_nbformat": 4
 },
 "nbformat": 4,
 "nbformat_minor": 2
}
