{
 "cells": [
  {
   "cell_type": "code",
   "execution_count": 1,
   "metadata": {},
   "outputs": [],
   "source": [
    "from transformers import AutoTokenizer, AutoModelForMaskedLM\n",
    "import logging as log\n",
    "log.basicConfig(level=log.DEBUG)"
   ]
  },
  {
   "cell_type": "code",
   "execution_count": 2,
   "metadata": {},
   "outputs": [],
   "source": [
    "import sys\n",
    "sys.path.append('../')\n",
    "from baselines.utils import *\n",
    "import os\n",
    "\n",
    "os.environ['CUDA_LAUNCH_BLOCKING'] = '1'"
   ]
  },
  {
   "cell_type": "code",
   "execution_count": 3,
   "metadata": {},
   "outputs": [
    {
     "data": {
      "text/plain": [
       "device(type='cuda')"
      ]
     },
     "execution_count": 3,
     "metadata": {},
     "output_type": "execute_result"
    }
   ],
   "source": [
    "import torch\n",
    "\n",
    "DEVICE = torch.device('cuda') if torch.cuda.is_available() else torch.device('cpu')\n",
    "DEVICE"
   ]
  },
  {
   "cell_type": "code",
   "execution_count": 4,
   "metadata": {},
   "outputs": [
    {
     "data": {
      "text/plain": [
       "{'raw_data_dir': '../dataset/',\n",
       " 'train_path': 'train.json',\n",
       " 'test_path': 'test.json',\n",
       " 'dev_path': 'dev.json',\n",
       " 'model_name': 'bert-base-uncased',\n",
       " 'max_length': 512,\n",
       " 'models_save_dir': '/scratch/shu7bh/contract_nli/models',\n",
       " 'dataset_dir': '/scratch/shu7bh/contract_nli/dataset',\n",
       " 'batch_size': 32}"
      ]
     },
     "execution_count": 4,
     "metadata": {},
     "output_type": "execute_result"
    }
   ],
   "source": [
    "cfg['model_name'] = 'bert-base-uncased'\n",
    "cfg['batch_size'] = 32\n",
    "cfg"
   ]
  },
  {
   "cell_type": "code",
   "execution_count": 5,
   "metadata": {},
   "outputs": [],
   "source": [
    "# create dir if not exists\n",
    "from pathlib import Path\n",
    "Path(cfg[\"models_save_dir\"]).mkdir(parents=True, exist_ok=True)\n",
    "Path(cfg[\"dataset_dir\"]).mkdir(parents=True, exist_ok=True)"
   ]
  },
  {
   "cell_type": "code",
   "execution_count": 6,
   "metadata": {},
   "outputs": [],
   "source": [
    "# tokenizer = AutoTokenizer.from_pretrained(cfg['model_name'])\n",
    "# bert = AutoModelForMaskedLM.from_pretrained(cfg['model_name'])\n",
    "\n",
    "# tokenizer.save_pretrained(cfg['models_save_dir'])\n",
    "# bert.save_pretrained(cfg['models_save_dir'])"
   ]
  },
  {
   "cell_type": "code",
   "execution_count": 7,
   "metadata": {},
   "outputs": [
    {
     "name": "stderr",
     "output_type": "stream",
     "text": [
      "INFO:torch.distributed.nn.jit.instantiator:Created a temporary directory at /tmp/tmpmn5zwib1\n",
      "INFO:torch.distributed.nn.jit.instantiator:Writing /tmp/tmpmn5zwib1/_remote_module_non_scriptable.py\n"
     ]
    }
   ],
   "source": [
    "tokenizer = AutoTokenizer.from_pretrained(cfg['models_save_dir'])\n",
    "bert = AutoModelForMaskedLM.from_pretrained(cfg['models_save_dir'])"
   ]
  },
  {
   "cell_type": "code",
   "execution_count": 8,
   "metadata": {},
   "outputs": [],
   "source": [
    "from icecream import ic"
   ]
  },
  {
   "cell_type": "code",
   "execution_count": 9,
   "metadata": {},
   "outputs": [],
   "source": [
    "from torch.utils.data import Dataset\n",
    "import torch\n",
    "\n",
    "class NLIDataset(Dataset):\n",
    "    def __init__(self, documents, tokenizer, hypothesis):\n",
    "        spans = []\n",
    "        self.label_dict = get_labels()\n",
    "\n",
    "        for i, doc in enumerate(documents):\n",
    "            for j, span in enumerate(doc['spans']):\n",
    "                spans.append({\n",
    "                    'doc_id': i,\n",
    "                    'span_id': j,\n",
    "                    'text': doc['text'][span[0]:span[1]]\n",
    "                })\n",
    "\n",
    "        data_points = []\n",
    "        self.span_label = []\n",
    "        self.nli_label = []\n",
    "\n",
    "        ic()\n",
    "\n",
    "        for key, val in hypothesis.items():\n",
    "            for span in spans:\n",
    "                self.span_label.append(int(span['span_id'] in documents[span['doc_id']]['annotation_sets'][0]['annotations'][key]['spans']))\n",
    "\n",
    "                data_points.append({ 'hypotheis': val, 'premise': span['text'] })\n",
    "\n",
    "                self.nli_label.append(self.label_dict[documents[span['doc_id']]['annotation_sets'][0]['annotations'][key]['choice']])\n",
    "\n",
    "                if self.nli_label[-1] != self.label_dict['NotMentioned'] and self.span_label[-1] == 0:\n",
    "                    self.nli_label[-1] = self.label_dict['Ignore']\n",
    "\n",
    "        del spans\n",
    "        ic()\n",
    "\n",
    "\n",
    "        #input_ids = [CLS] [HYPOTHESES] [SEP] [PREMISE] [SEP] [PAD] [PAD] ...\n",
    "        self.tokenized_data = tokenizer(\n",
    "            [data_point['hypotheis'] for data_point in data_points],\n",
    "            [data_point['premise'] for data_point in data_points],\n",
    "            padding='max_length',\n",
    "            truncation=True,\n",
    "            return_tensors='pt',\n",
    "        )\n",
    "\n",
    "        ic()\n",
    "\n",
    "        self.sep_indices = torch.where(self.tokenized_data['input_ids'] == tokenizer.sep_token_id)[1]\n",
    "\n",
    "        self.sep_indices = self.sep_indices[::2]\n",
    "\n",
    "        ic()\n",
    "\n",
    "    def __len__(self):\n",
    "        return len(self.tokenized_data['input_ids'])\n",
    "\n",
    "    def __getitem__(self, idx):\n",
    "        return {\n",
    "            'input_ids': self.tokenized_data['input_ids'][idx],\n",
    "            'attention_mask': self.tokenized_data['attention_mask'][idx],\n",
    "            'token_type_ids': self.tokenized_data['token_type_ids'][idx],\n",
    "            'span_label': torch.tensor(self.span_label[idx], dtype=torch.long),\n",
    "            'nli_label': torch.tensor(self.nli_label[idx], dtype=torch.long),\n",
    "            'sep_indices': self.sep_indices[idx]\n",
    "        }\n",
    "            # self.tokenized_data['input_ids'][idx], \\\n",
    "            # self.tokenized_data['attention_mask'][idx], \\\n",
    "            # self.tokenized_data['token_type_ids'][idx], \\\n",
    "            # torch.tensor(self.span_label[idx], dtype=torch.long), \\\n",
    "            # torch.tensor(self.nli_label[idx], dtype=torch.long), \\\n",
    "            # self.sep_indices[idx]"
   ]
  },
  {
   "cell_type": "code",
   "execution_count": 10,
   "metadata": {},
   "outputs": [],
   "source": [
    "# train_data = load_data(os.path.join(cfg['raw_data_dir'], cfg['train_path']))\n",
    "# dev_data = load_data(os.path.join(cfg['raw_data_dir'], cfg['dev_path']))\n",
    "# test_data = load_data(os.path.join(cfg['raw_data_dir'], cfg['test_path']))\n",
    "\n",
    "# hypothesis = get_hypothesis(train_data)\n",
    "\n",
    "# train_data = train_data['documents']\n",
    "# dev_data = dev_data['documents']\n",
    "# test_data = test_data['documents']\n",
    "\n",
    "# train_data = train_data[:10]\n",
    "# dev_data = dev_data[:10]\n",
    "# test_data = test_data[:10]\n",
    "\n",
    "# ic(len(train_data), len(dev_data), len(test_data))\n",
    "# train_dataset = NLIDataset(train_data, tokenizer, hypothesis)\n",
    "# dev_dataset = NLIDataset(dev_data, tokenizer, hypothesis)\n",
    "# test_dataset = NLIDataset(test_data, tokenizer, hypothesis)\n",
    "\n",
    "# del train_data\n",
    "# del dev_data\n",
    "# del test_data\n",
    "# del hypothesis\n",
    "# # save the datasets\n",
    "# torch.save(train_dataset, os.path.join(cfg['dataset_dir'], 'train_dataset.pt'))\n",
    "# torch.save(dev_dataset, os.path.join(cfg['dataset_dir'], 'dev_dataset.pt'))\n",
    "# torch.save(test_dataset, os.path.join(cfg['dataset_dir'], 'test_dataset.pt'))"
   ]
  },
  {
   "cell_type": "code",
   "execution_count": 11,
   "metadata": {},
   "outputs": [],
   "source": [
    "# load the datasets\n",
    "train_dataset = torch.load(os.path.join(cfg['dataset_dir'], 'train_dataset.pt'))\n",
    "dev_dataset = torch.load(os.path.join(cfg['dataset_dir'], 'dev_dataset.pt'))\n",
    "# test_dataset = torch.load(os.path.join(cfg['dataset_dir'], 'test_dataset.pt'))"
   ]
  },
  {
   "cell_type": "code",
   "execution_count": 12,
   "metadata": {},
   "outputs": [],
   "source": [
    "# load the dataloaders\n",
    "from torch.utils.data import DataLoader\n",
    "\n",
    "train_dataloader = DataLoader(train_dataset, batch_size=cfg['batch_size'], shuffle=True)\n",
    "dev_dataloader = DataLoader(dev_dataset, batch_size=cfg['batch_size'], shuffle=True)"
   ]
  },
  {
   "cell_type": "code",
   "execution_count": 13,
   "metadata": {},
   "outputs": [],
   "source": [
    "from tqdm import tqdm\n",
    "import numpy as np"
   ]
  },
  {
   "cell_type": "code",
   "execution_count": 30,
   "metadata": {},
   "outputs": [],
   "source": [
    "from torch import nn\n",
    "class ContractNLI(nn.Module):\n",
    "    def __init__(self, bert, num_labels, ignore_index):\n",
    "        super().__init__()\n",
    "        self.bert = bert\n",
    "        self.bert.eval()\n",
    "        for param in self.bert.parameters():\n",
    "            param.requires_grad = False\n",
    "\n",
    "        self.embedding_dim = self.bert.config.hidden_size\n",
    "        self.num_labels = num_labels\n",
    "        self.labmda = 1\n",
    "        self.nli_criterion = nn.CrossEntropyLoss(ignore_index=ignore_index)\n",
    "        self.span_criterion = nn.BCELoss()\n",
    "\n",
    "        self.span_classifier = nn.Sequential(\n",
    "            nn.Linear(self.embedding_dim, self.embedding_dim // 2),\n",
    "            nn.ReLU(),\n",
    "            nn.Linear(self.embedding_dim // 2, 1)\n",
    "        )\n",
    "\n",
    "        self.nli_classifier = nn.Sequential(\n",
    "            nn.Linear(self.embedding_dim, self.embedding_dim // 2),\n",
    "            nn.ReLU(),\n",
    "            nn.Linear(self.embedding_dim // 2, self.num_labels)\n",
    "        )\n",
    "\n",
    "    def forward(self, input_ids, attention_mask, token_type_ids, sep_indices):\n",
    "        outputs = self.bert(input_ids, attention_mask=attention_mask, token_type_ids=token_type_ids, output_hidden_states=True).hidden_states[-1]\n",
    "\n",
    "        span_logits = self.span_classifier(torch.gather(outputs, 1, sep_indices.unsqueeze(1).expand(-1, outputs.shape[-1]).unsqueeze(1)).squeeze(1))\n",
    "\n",
    "        nli_logits = self.nli_classifier(outputs[:, 0, :])\n",
    "\n",
    "        return span_logits, nli_logits\n",
    "\n",
    "    def fit(self, train_loader, dev_loader, epochs, lr, lambda_):\n",
    "        self.lambda_ = lambda_\n",
    "        self.optimizer = torch.optim.Adam(self.parameters(), lr=lr)\n",
    "        \n",
    "        for epoch in range(epochs):\n",
    "            print(f'Epoch: {epoch + 1}/{epochs}')\n",
    "            train_loss = self.__train(train_loader)\n",
    "            print(f'Train Loss: {train_loss:.4f}')\n",
    "            dev_loss = self.__validate(dev_loader)\n",
    "            print(f'Dev Loss: {dev_loss:.4f}')\n",
    "\n",
    "    def __train(self, train_loader):\n",
    "        self.train()\n",
    "        total_loss = []\n",
    "\n",
    "        pbar = tqdm(train_loader)\n",
    "\n",
    "        for batch in pbar:\n",
    "            loss = self.__call(batch)\n",
    "            total_loss.append(loss.item())\n",
    "\n",
    "            self.optimizer.zero_grad()\n",
    "            loss.backward()\n",
    "            self.optimizer.step()\n",
    "\n",
    "            pbar.set_description(f'Loss: {loss.item():.4f}, Average Loss: {np.mean(total_loss):.4f}')\n",
    "\n",
    "        return np.mean(total_loss)\n",
    "    \n",
    "    def __validate(self, dev_loader):\n",
    "        self.eval()\n",
    "        total_loss = []\n",
    "\n",
    "        with torch.no_grad():\n",
    "            pbar = tqdm(dev_loader)\n",
    "\n",
    "            for batch in pbar:\n",
    "                loss = self.__call(batch)\n",
    "                total_loss.append(loss.item())\n",
    "\n",
    "                pbar.set_description(f'Loss: {loss.item():.4f}, Average Loss: {np.mean(total_loss):.4f}')\n",
    "\n",
    "        return np.mean(total_loss)\n",
    "        \n",
    "    def __call(self, batch):\n",
    "        input_ids, attention_mask, token_type_ids, span_label, nli_label, sep_index = tuple(val.to(DEVICE) for val in batch.values())\n",
    "\n",
    "        span_logits, nli_logits = self(input_ids, attention_mask, token_type_ids, sep_index)\n",
    "\n",
    "        # ic(span_logits.shape, nli_logits.shape, span_label.shape, nli_label.shape)\n",
    "\n",
    "        span_loss = self.span_criterion(span_logits, span_label.view(-1, 1).float())\n",
    "        nli_loss = self.nli_criterion(nli_logits, nli_label)\n",
    "\n",
    "        loss = span_loss + self.lambda_ * nli_loss\n",
    "\n",
    "        return loss"
   ]
  },
  {
   "cell_type": "code",
   "execution_count": 31,
   "metadata": {},
   "outputs": [],
   "source": [
    "# from transformers import Trainer\n",
    "\n",
    "# class ContractNLITrainer(Trainer):\n",
    "#     def __init__(self, *args, **kwargs):\n",
    "#         super().__init__(*args, **kwargs)\n",
    "\n",
    "#     def compute_loss(self, model, inputs, return_outputs=False):\n",
    "#         nli_label = inputs.pop('nli_label')\n",
    "#         span_label = inputs.pop('span_label')\n",
    "\n",
    "#         outputs = model(**inputs)\n",
    "#         span_logits, nli_logits = outputs[0], outputs[1]\n",
    "\n",
    "#         span_loss = self.model.span_criterion(span_logits.view(-1), span_label.float())\n",
    "#         nli_loss = self.model.nli_criterion(nli_logits, nli_label)\n",
    "\n",
    "#         loss = span_loss + self.model.labmda * nli_loss\n",
    "\n",
    "#         return (loss, outputs) if return_outputs else loss"
   ]
  },
  {
   "cell_type": "code",
   "execution_count": 32,
   "metadata": {},
   "outputs": [],
   "source": [
    "# import wandb\n",
    "\n",
    "# wandb.init(project=\"contract-nli\", entity=\"contract-nli-db\")"
   ]
  },
  {
   "cell_type": "code",
   "execution_count": 33,
   "metadata": {},
   "outputs": [],
   "source": [
    "# give input to BERT\n",
    "# bert.eval()\n",
    "# for param in bert.parameters():\n",
    "#     param.requires_grad = False\n",
    "# bert = bert.to(DEVICE)\n",
    "# bert_output"
   ]
  },
  {
   "cell_type": "code",
   "execution_count": 34,
   "metadata": {},
   "outputs": [],
   "source": [
    "model = ContractNLI(bert, len(get_labels()), ignore_index=get_labels()['Ignore']).to(DEVICE)"
   ]
  },
  {
   "cell_type": "code",
   "execution_count": 35,
   "metadata": {},
   "outputs": [],
   "source": [
    "from torchinfo import summary"
   ]
  },
  {
   "cell_type": "code",
   "execution_count": 36,
   "metadata": {},
   "outputs": [
    {
     "data": {
      "text/plain": [
       "=====================================================================================\n",
       "Layer (type:depth-idx)                                       Param #\n",
       "=====================================================================================\n",
       "ContractNLI                                                  --\n",
       "├─BertForMaskedLM: 1-1                                       --\n",
       "│    └─BertModel: 2-1                                        --\n",
       "│    │    └─BertEmbeddings: 3-1                              (23,837,184)\n",
       "│    │    └─BertEncoder: 3-2                                 (85,054,464)\n",
       "│    └─BertOnlyMLMHead: 2-2                                  --\n",
       "│    │    └─BertLMPredictionHead: 3-3                        (24,063,546)\n",
       "├─CrossEntropyLoss: 1-2                                      --\n",
       "├─BCELoss: 1-3                                               --\n",
       "├─Sequential: 1-4                                            --\n",
       "│    └─Linear: 2-3                                           295,296\n",
       "│    └─ReLU: 2-4                                             --\n",
       "│    └─Linear: 2-5                                           385\n",
       "│    └─Sigmoid: 2-6                                          --\n",
       "├─Sequential: 1-5                                            --\n",
       "│    └─Linear: 2-7                                           295,296\n",
       "│    └─ReLU: 2-8                                             --\n",
       "│    └─Linear: 2-9                                           1,540\n",
       "=====================================================================================\n",
       "Total params: 133,547,711\n",
       "Trainable params: 592,517\n",
       "Non-trainable params: 132,955,194\n",
       "====================================================================================="
      ]
     },
     "execution_count": 36,
     "metadata": {},
     "output_type": "execute_result"
    }
   ],
   "source": [
    "summary(model)"
   ]
  },
  {
   "cell_type": "code",
   "execution_count": 38,
   "metadata": {},
   "outputs": [],
   "source": [
    "model.fit(train_dataloader, dev_dataloader, epochs=10, lr=1e-3, lambda_=1)"
   ]
  },
  {
   "cell_type": "code",
   "execution_count": null,
   "metadata": {},
   "outputs": [],
   "source": []
  },
  {
   "cell_type": "code",
   "execution_count": null,
   "metadata": {},
   "outputs": [
    {
     "data": {
      "text/plain": [
       "6178"
      ]
     },
     "execution_count": 36,
     "metadata": {},
     "output_type": "execute_result"
    }
   ],
   "source": [
    "import torch\n",
    "torch.cuda.empty_cache()\n",
    "\n",
    "import gc\n",
    "gc.collect()"
   ]
  },
  {
   "cell_type": "code",
   "execution_count": null,
   "metadata": {},
   "outputs": [],
   "source": []
  }
 ],
 "metadata": {
  "kernelspec": {
   "display_name": "Python 3",
   "language": "python",
   "name": "python3"
  },
  "language_info": {
   "codemirror_mode": {
    "name": "ipython",
    "version": 3
   },
   "file_extension": ".py",
   "mimetype": "text/x-python",
   "name": "python",
   "nbconvert_exporter": "python",
   "pygments_lexer": "ipython3",
   "version": "3.11.5"
  },
  "orig_nbformat": 4
 },
 "nbformat": 4,
 "nbformat_minor": 2
}
