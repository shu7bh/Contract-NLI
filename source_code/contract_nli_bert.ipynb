{
 "cells": [
  {
   "cell_type": "code",
   "execution_count": 1,
   "metadata": {},
   "outputs": [],
   "source": [
    "from transformers import AutoTokenizer, AutoModelForMaskedLM\n",
    "import logging as log\n",
    "log.basicConfig(level=log.DEBUG)"
   ]
  },
  {
   "cell_type": "code",
   "execution_count": 2,
   "metadata": {},
   "outputs": [],
   "source": [
    "import sys\n",
    "sys.path.append('../')\n",
    "from baselines.utils import *\n",
    "import os\n",
    "\n",
    "os.environ['CUDA_LAUNCH_BLOCKING'] = '1'"
   ]
  },
  {
   "cell_type": "code",
   "execution_count": 3,
   "metadata": {},
   "outputs": [
    {
     "data": {
      "text/plain": [
       "device(type='cuda')"
      ]
     },
     "execution_count": 3,
     "metadata": {},
     "output_type": "execute_result"
    }
   ],
   "source": [
    "import torch\n",
    "\n",
    "DEVICE = torch.device('cuda') if torch.cuda.is_available() else torch.device('cpu')\n",
    "DEVICE"
   ]
  },
  {
   "cell_type": "code",
   "execution_count": 4,
   "metadata": {},
   "outputs": [
    {
     "data": {
      "text/plain": [
       "{'raw_data_dir': '../dataset/',\n",
       " 'train_path': 'train.json',\n",
       " 'test_path': 'test.json',\n",
       " 'dev_path': 'dev.json',\n",
       " 'model_name': 'bert-base-uncased',\n",
       " 'max_length': 512,\n",
       " 'models_save_dir': '/scratch/shu7bh/contract_nli/models',\n",
       " 'dataset_dir': '/scratch/shu7bh/contract_nli/dataset',\n",
       " 'batch_size': 32}"
      ]
     },
     "execution_count": 4,
     "metadata": {},
     "output_type": "execute_result"
    }
   ],
   "source": [
    "cfg['model_name'] = 'bert-base-uncased'\n",
    "cfg['batch_size'] = 32\n",
    "cfg"
   ]
  },
  {
   "cell_type": "code",
   "execution_count": 5,
   "metadata": {},
   "outputs": [],
   "source": [
    "# create dir if not exists\n",
    "from pathlib import Path\n",
    "Path(cfg[\"models_save_dir\"]).mkdir(parents=True, exist_ok=True)\n",
    "Path(cfg[\"dataset_dir\"]).mkdir(parents=True, exist_ok=True)"
   ]
  },
  {
   "cell_type": "code",
   "execution_count": 6,
   "metadata": {},
   "outputs": [
    {
     "name": "stderr",
     "output_type": "stream",
     "text": [
      "DEBUG:urllib3.connectionpool:Starting new HTTPS connection (1): huggingface.co:443\n",
      "DEBUG:urllib3.connectionpool:https://huggingface.co:443 \"HEAD /bert-base-uncased/resolve/main/tokenizer_config.json HTTP/1.1\" 200 0\n",
      "DEBUG:urllib3.connectionpool:https://huggingface.co:443 \"HEAD /bert-base-uncased/resolve/main/config.json HTTP/1.1\" 200 0\n",
      "INFO:torch.distributed.nn.jit.instantiator:Created a temporary directory at /tmp/tmp1jq6eu2s\n",
      "INFO:torch.distributed.nn.jit.instantiator:Writing /tmp/tmp1jq6eu2s/_remote_module_non_scriptable.py\n",
      "Some weights of the model checkpoint at bert-base-uncased were not used when initializing BertForMaskedLM: ['cls.seq_relationship.weight', 'bert.pooler.dense.bias', 'cls.seq_relationship.bias', 'bert.pooler.dense.weight']\n",
      "- This IS expected if you are initializing BertForMaskedLM from the checkpoint of a model trained on another task or with another architecture (e.g. initializing a BertForSequenceClassification model from a BertForPreTraining model).\n",
      "- This IS NOT expected if you are initializing BertForMaskedLM from the checkpoint of a model that you expect to be exactly identical (initializing a BertForSequenceClassification model from a BertForSequenceClassification model).\n",
      "DEBUG:urllib3.connectionpool:https://huggingface.co:443 \"HEAD /bert-base-uncased/resolve/main/generation_config.json HTTP/1.1\" 404 0\n"
     ]
    }
   ],
   "source": [
    "# tokenizer = AutoTokenizer.from_pretrained(cfg['model_name'])\n",
    "# bert = AutoModelForMaskedLM.from_pretrained(cfg['model_name'])\n",
    "\n",
    "# tokenizer.save_pretrained(cfg['models_save_dir'])\n",
    "# bert.save_pretrained(cfg['models_save_dir'])"
   ]
  },
  {
   "cell_type": "code",
   "execution_count": 7,
   "metadata": {},
   "outputs": [],
   "source": [
    "tokenizer = AutoTokenizer.from_pretrained(cfg['models_save_dir'])\n",
    "bert = AutoModelForMaskedLM.from_pretrained(cfg['models_save_dir'])"
   ]
  },
  {
   "cell_type": "code",
   "execution_count": 8,
   "metadata": {},
   "outputs": [],
   "source": [
    "from icecream import ic"
   ]
  },
  {
   "cell_type": "code",
   "execution_count": 9,
   "metadata": {},
   "outputs": [],
   "source": [
    "from torch.utils.data import Dataset\n",
    "import torch\n",
    "\n",
    "class NLIDataset(Dataset):\n",
    "    def __init__(self, documents, tokenizer, hypothesis):\n",
    "        spans = []\n",
    "        self.label_dict = get_labels()\n",
    "\n",
    "        for i, doc in enumerate(documents):\n",
    "            for j, span in enumerate(doc['spans']):\n",
    "                spans.append({\n",
    "                    'doc_id': i,\n",
    "                    'span_id': j,\n",
    "                    'text': doc['text'][span[0]:span[1]]\n",
    "                })\n",
    "\n",
    "        data_points = []\n",
    "        self.span_label = []\n",
    "        self.nli_label = []\n",
    "\n",
    "        ic()\n",
    "\n",
    "        for key, val in hypothesis.items():\n",
    "            for span in spans:\n",
    "                self.span_label.append(int(span['span_id'] in documents[span['doc_id']]['annotation_sets'][0]['annotations'][key]['spans']))\n",
    "\n",
    "                data_points.append({ 'hypotheis': val, 'premise': span['text'] })\n",
    "\n",
    "                self.nli_label.append(self.label_dict[documents[span['doc_id']]['annotation_sets'][0]['annotations'][key]['choice']])\n",
    "\n",
    "                if self.nli_label[-1] != self.label_dict['NotMentioned'] and self.span_label[-1] == 0:\n",
    "                    self.nli_label[-1] = self.label_dict['Ignore']\n",
    "\n",
    "        del spans\n",
    "        ic()\n",
    "\n",
    "\n",
    "        #input_ids = [CLS] [HYPOTHESES] [SEP] [PREMISE] [SEP] [PAD] [PAD] ...\n",
    "        self.tokenized_data = tokenizer(\n",
    "            [data_point['hypotheis'] for data_point in data_points],\n",
    "            [data_point['premise'] for data_point in data_points],\n",
    "            padding='max_length',\n",
    "            truncation=True,\n",
    "            return_tensors='pt',\n",
    "        )\n",
    "\n",
    "        ic()\n",
    "\n",
    "        self.sep_indices = torch.where(self.tokenized_data['input_ids'] == tokenizer.sep_token_id)[1]\n",
    "\n",
    "        self.sep_indices = self.sep_indices[::2]\n",
    "\n",
    "        ic()\n",
    "\n",
    "    def __len__(self):\n",
    "        return len(self.tokenized_data['input_ids'])\n",
    "\n",
    "    def __getitem__(self, idx):\n",
    "        return {\n",
    "            'input_ids': self.tokenized_data['input_ids'][idx],\n",
    "            'attention_mask': self.tokenized_data['attention_mask'][idx],\n",
    "            'token_type_ids': self.tokenized_data['token_type_ids'][idx],\n",
    "            'span_label': torch.tensor(self.span_label[idx], dtype=torch.long),\n",
    "            'nli_label': torch.tensor(self.nli_label[idx], dtype=torch.long),\n",
    "            'sep_indices': self.sep_indices[idx]\n",
    "        }\n",
    "            # self.tokenized_data['input_ids'][idx], \\\n",
    "            # self.tokenized_data['attention_mask'][idx], \\\n",
    "            # self.tokenized_data['token_type_ids'][idx], \\\n",
    "            # torch.tensor(self.span_label[idx], dtype=torch.long), \\\n",
    "            # torch.tensor(self.nli_label[idx], dtype=torch.long), \\\n",
    "            # self.sep_indices[idx]"
   ]
  },
  {
   "cell_type": "code",
   "execution_count": 10,
   "metadata": {},
   "outputs": [
    {
     "name": "stderr",
     "output_type": "stream",
     "text": [
      "ic| len(train_data): 100, len(dev_data): 61, len(test_data): 100\n",
      "ic| 4139282032.py:21 in __init__() at 17:22:09.244\n",
      "ic| 4139282032.py:35 in __init__() at 17:22:09.369\n",
      "ic| 4139282032.py:47 in __init__() at 17:23:04.452\n",
      "ic| 4139282032.py:53 in __init__() at 17:23:04.592\n",
      "ic| 4139282032.py:21 in __init__() at 17:23:04.633\n",
      "ic| 4139282032.py:35 in __init__() at 17:23:04.735\n",
      "ic| 4139282032.py:47 in __init__() at 17:23:39.266\n",
      "ic| 4139282032.py:53 in __init__() at 17:23:39.309\n",
      "ic| 4139282032.py:21 in __init__() at 17:23:39.342\n",
      "ic| 4139282032.py:35 in __init__() at 17:23:39.481\n",
      "ic| 4139282032.py:47 in __init__() at 17:24:32.645\n",
      "ic| 4139282032.py:53 in __init__() at 17:24:32.786\n"
     ]
    }
   ],
   "source": [
    "# train_data = load_data(os.path.join(cfg['raw_data_dir'], cfg['train_path']))\n",
    "# dev_data = load_data(os.path.join(cfg['raw_data_dir'], cfg['dev_path']))\n",
    "# test_data = load_data(os.path.join(cfg['raw_data_dir'], cfg['test_path']))\n",
    "\n",
    "# hypothesis = get_hypothesis(train_data)\n",
    "\n",
    "# train_data = train_data['documents']\n",
    "# dev_data = dev_data['documents']\n",
    "# test_data = test_data['documents']\n",
    "\n",
    "# train_data = train_data[:100]\n",
    "# dev_data = dev_data[:100]\n",
    "# test_data = test_data[:100]\n",
    "\n",
    "# ic(len(train_data), len(dev_data), len(test_data))\n",
    "# train_dataset = NLIDataset(train_data, tokenizer, hypothesis)\n",
    "# dev_dataset = NLIDataset(dev_data, tokenizer, hypothesis)\n",
    "# test_dataset = NLIDataset(test_data, tokenizer, hypothesis)\n",
    "\n",
    "# del train_data\n",
    "# del dev_data\n",
    "# del test_data\n",
    "# del hypothesis\n",
    "# # save the datasets\n",
    "# torch.save(train_dataset, os.path.join(cfg['dataset_dir'], 'train_dataset.pt'))\n",
    "# torch.save(dev_dataset, os.path.join(cfg['dataset_dir'], 'dev_dataset.pt'))\n",
    "# torch.save(test_dataset, os.path.join(cfg['dataset_dir'], 'test_dataset.pt'))"
   ]
  },
  {
   "cell_type": "code",
   "execution_count": 11,
   "metadata": {},
   "outputs": [],
   "source": [
    "# load the datasets\n",
    "train_dataset = torch.load(os.path.join(cfg['dataset_dir'], 'train_dataset.pt'))\n",
    "dev_dataset = torch.load(os.path.join(cfg['dataset_dir'], 'dev_dataset.pt'))\n",
    "# test_dataset = torch.load(os.path.join(cfg['dataset_dir'], 'test_dataset.pt'))"
   ]
  },
  {
   "cell_type": "code",
   "execution_count": 11,
   "metadata": {},
   "outputs": [],
   "source": [
    "# load the dataloaders\n",
    "from torch.utils.data import DataLoader\n",
    "\n",
    "train_dataloader = DataLoader(train_dataset, batch_size=cfg['batch_size'], shuffle=True)\n",
    "dev_dataloader = DataLoader(dev_dataset, batch_size=cfg['batch_size'], shuffle=True)"
   ]
  },
  {
   "cell_type": "code",
   "execution_count": 12,
   "metadata": {},
   "outputs": [],
   "source": [
    "from tqdm import tqdm\n",
    "import numpy as np"
   ]
  },
  {
   "cell_type": "code",
   "execution_count": 13,
   "metadata": {},
   "outputs": [],
   "source": [
    "from torch import nn\n",
    "class ContractNLI(nn.Module):\n",
    "    def __init__(self, bert, num_labels, ignore_index):\n",
    "        super().__init__()\n",
    "        self.bert = bert\n",
    "        self.bert.eval()\n",
    "        for param in self.bert.parameters():\n",
    "            param.requires_grad = False\n",
    "\n",
    "        self.embedding_dim = self.bert.config.hidden_size\n",
    "        self.num_labels = num_labels\n",
    "        self.labmda = 1\n",
    "        self.nli_criterion = nn.CrossEntropyLoss(ignore_index=ignore_index)\n",
    "        self.span_criterion = nn.BCELoss()\n",
    "\n",
    "        self.span_classifier = nn.Sequential(\n",
    "            nn.Linear(self.embedding_dim, self.embedding_dim // 2),\n",
    "            nn.ReLU(),\n",
    "            nn.Linear(self.embedding_dim // 2, 1),\n",
    "            nn.Sigmoid()\n",
    "        )\n",
    "\n",
    "        self.nli_classifier = nn.Sequential(\n",
    "            nn.Linear(self.embedding_dim, self.embedding_dim // 2),\n",
    "            nn.ReLU(),\n",
    "            nn.Linear(self.embedding_dim // 2, self.num_labels)\n",
    "        )\n",
    "\n",
    "    def forward(self, input_ids, attention_mask, token_type_ids, sep_indices):\n",
    "        outputs = self.bert(input_ids, attention_mask=attention_mask, token_type_ids=token_type_ids, output_hidden_states=True)[-1]\n",
    "\n",
    "        span_logits = self.span_classifier(torch.gather(outputs, 1, sep_indices.unsqueeze(1).expand(-1, outputs.shape[-1]).unsqueeze(1)).squeeze(1))\n",
    "\n",
    "        nli_logits = self.nli_classifier(outputs[:, 0, :])\n",
    "\n",
    "        return span_logits, nli_logits\n",
    "\n",
    "    def fit(self, train_loader, dev_loader, epochs, lr, ignore_index, lambda_):\n",
    "        self.lambda_ = lambda_\n",
    "        self.optimizer = torch.optim.Adam(self.parameters(), lr=lr)\n",
    "        self.nli_criterion = nn.CrossEntropyLoss(ignore_index=ignore_index)\n",
    "        self.span_criterion = nn.CrossEntropyLoss()\n",
    "        \n",
    "        for epoch in range(epochs):\n",
    "            print(f'Epoch: {epoch + 1}/{epochs}')\n",
    "            train_loss = self.__train(train_loader)\n",
    "            print(f'Train Loss: {train_loss:.4f}')\n",
    "            dev_loss = self.__validate(dev_loader)\n",
    "            print(f'Dev Loss: {dev_loss:.4f}')\n",
    "\n",
    "    def __train(self, train_loader):\n",
    "        self.train()\n",
    "        total_loss = []\n",
    "\n",
    "        pbar = tqdm(train_loader)\n",
    "\n",
    "        for batch in pbar:\n",
    "            loss = self.__call(batch)\n",
    "            total_loss.append(loss.item())\n",
    "\n",
    "            self.optimizer.zero_grad()\n",
    "            loss.backward()\n",
    "            self.optimizer.step()\n",
    "\n",
    "            pbar.set_description(f'Loss: {loss.item():.4f}, Average Loss: {np.mean(total_loss):.4f}')\n",
    "\n",
    "        return np.mean(total_loss)\n",
    "    \n",
    "    def __validate(self, dev_loader):\n",
    "        self.eval()\n",
    "        total_loss = []\n",
    "\n",
    "        with torch.no_grad():\n",
    "            pbar = tqdm(dev_loader)\n",
    "\n",
    "            for batch in pbar:\n",
    "                loss = self.__call(batch)\n",
    "                total_loss.append(loss.item())\n",
    "\n",
    "                pbar.set_description(f'Loss: {loss.item():.4f}, Average Loss: {np.mean(total_loss):.4f}')\n",
    "\n",
    "        return np.mean(total_loss)\n",
    "        \n",
    "    def __call(self, batch):\n",
    "        input_ids, attention_mask, token_type_ids, span_label, nli_label, sep_index = tuple(val.to(DEVICE) for val in batch.values())\n",
    "\n",
    "        span_logits, nli_logits = self(input_ids, attention_mask, token_type_ids, sep_index)\n",
    "\n",
    "        ic(span_logits.shape, nli_logits.shape, span_label.shape, nli_label.shape)\n",
    "\n",
    "        span_loss = self.span_criterion(span_logits, span_label)\n",
    "        nli_loss = self.nli_criterion(nli_logits, nli_label)\n",
    "\n",
    "        loss = span_loss + self.lambda_ * nli_loss\n",
    "\n",
    "        return loss"
   ]
  },
  {
   "cell_type": "code",
   "execution_count": 14,
   "metadata": {},
   "outputs": [],
   "source": [
    "# from transformers import Trainer\n",
    "\n",
    "# class ContractNLITrainer(Trainer):\n",
    "#     def __init__(self, *args, **kwargs):\n",
    "#         super().__init__(*args, **kwargs)\n",
    "\n",
    "#     def compute_loss(self, model, inputs, return_outputs=False):\n",
    "#         nli_label = inputs.pop('nli_label')\n",
    "#         span_label = inputs.pop('span_label')\n",
    "\n",
    "#         outputs = model(**inputs)\n",
    "#         span_logits, nli_logits = outputs[0], outputs[1]\n",
    "\n",
    "#         span_loss = self.model.span_criterion(span_logits.view(-1), span_label.float())\n",
    "#         nli_loss = self.model.nli_criterion(nli_logits, nli_label)\n",
    "\n",
    "#         loss = span_loss + self.model.labmda * nli_loss\n",
    "\n",
    "#         return (loss, outputs) if return_outputs else loss"
   ]
  },
  {
   "cell_type": "code",
   "execution_count": 15,
   "metadata": {},
   "outputs": [],
   "source": [
    "# import wandb\n",
    "\n",
    "# wandb.init(project=\"contract-nli\", entity=\"contract-nli-db\")"
   ]
  },
  {
   "cell_type": "code",
   "execution_count": 16,
   "metadata": {},
   "outputs": [
    {
     "ename": "RuntimeError",
     "evalue": "CUDA error: out of memory\nCompile with `TORCH_USE_CUDA_DSA` to enable device-side assertions.\n",
     "output_type": "error",
     "traceback": [
      "\u001b[0;31m---------------------------------------------------------------------------\u001b[0m",
      "\u001b[0;31mRuntimeError\u001b[0m                              Traceback (most recent call last)",
      "\u001b[1;32m/home2/shu7bh/Courses/ANLP/Project/Contract-NLI/source_code/contract_nli_bert.ipynb Cell 17\u001b[0m line \u001b[0;36m1\n\u001b[0;32m----> <a href='vscode-notebook-cell://ssh-remote%2Bgnode074/home2/shu7bh/Courses/ANLP/Project/Contract-NLI/source_code/contract_nli_bert.ipynb#X23sdnNjb2RlLXJlbW90ZQ%3D%3D?line=0'>1</a>\u001b[0m model \u001b[39m=\u001b[39m ContractNLI(bert, \u001b[39mlen\u001b[39;49m(get_labels()), ignore_index\u001b[39m=\u001b[39;49mget_labels()[\u001b[39m'\u001b[39;49m\u001b[39mIgnore\u001b[39;49m\u001b[39m'\u001b[39;49m])\u001b[39m.\u001b[39;49mto(DEVICE)\n",
      "File \u001b[0;32m~/miniforge3/envs/nli/lib/python3.11/site-packages/torch/nn/modules/module.py:1145\u001b[0m, in \u001b[0;36mModule.to\u001b[0;34m(self, *args, **kwargs)\u001b[0m\n\u001b[1;32m   1141\u001b[0m         \u001b[39mreturn\u001b[39;00m t\u001b[39m.\u001b[39mto(device, dtype \u001b[39mif\u001b[39;00m t\u001b[39m.\u001b[39mis_floating_point() \u001b[39mor\u001b[39;00m t\u001b[39m.\u001b[39mis_complex() \u001b[39melse\u001b[39;00m \u001b[39mNone\u001b[39;00m,\n\u001b[1;32m   1142\u001b[0m                     non_blocking, memory_format\u001b[39m=\u001b[39mconvert_to_format)\n\u001b[1;32m   1143\u001b[0m     \u001b[39mreturn\u001b[39;00m t\u001b[39m.\u001b[39mto(device, dtype \u001b[39mif\u001b[39;00m t\u001b[39m.\u001b[39mis_floating_point() \u001b[39mor\u001b[39;00m t\u001b[39m.\u001b[39mis_complex() \u001b[39melse\u001b[39;00m \u001b[39mNone\u001b[39;00m, non_blocking)\n\u001b[0;32m-> 1145\u001b[0m \u001b[39mreturn\u001b[39;00m \u001b[39mself\u001b[39;49m\u001b[39m.\u001b[39;49m_apply(convert)\n",
      "File \u001b[0;32m~/miniforge3/envs/nli/lib/python3.11/site-packages/torch/nn/modules/module.py:797\u001b[0m, in \u001b[0;36mModule._apply\u001b[0;34m(self, fn)\u001b[0m\n\u001b[1;32m    795\u001b[0m \u001b[39mdef\u001b[39;00m \u001b[39m_apply\u001b[39m(\u001b[39mself\u001b[39m, fn):\n\u001b[1;32m    796\u001b[0m     \u001b[39mfor\u001b[39;00m module \u001b[39min\u001b[39;00m \u001b[39mself\u001b[39m\u001b[39m.\u001b[39mchildren():\n\u001b[0;32m--> 797\u001b[0m         module\u001b[39m.\u001b[39;49m_apply(fn)\n\u001b[1;32m    799\u001b[0m     \u001b[39mdef\u001b[39;00m \u001b[39mcompute_should_use_set_data\u001b[39m(tensor, tensor_applied):\n\u001b[1;32m    800\u001b[0m         \u001b[39mif\u001b[39;00m torch\u001b[39m.\u001b[39m_has_compatible_shallow_copy_type(tensor, tensor_applied):\n\u001b[1;32m    801\u001b[0m             \u001b[39m# If the new tensor has compatible tensor type as the existing tensor,\u001b[39;00m\n\u001b[1;32m    802\u001b[0m             \u001b[39m# the current behavior is to change the tensor in-place using `.data =`,\u001b[39;00m\n\u001b[0;32m   (...)\u001b[0m\n\u001b[1;32m    807\u001b[0m             \u001b[39m# global flag to let the user control whether they want the future\u001b[39;00m\n\u001b[1;32m    808\u001b[0m             \u001b[39m# behavior of overwriting the existing tensor or not.\u001b[39;00m\n",
      "File \u001b[0;32m~/miniforge3/envs/nli/lib/python3.11/site-packages/torch/nn/modules/module.py:797\u001b[0m, in \u001b[0;36mModule._apply\u001b[0;34m(self, fn)\u001b[0m\n\u001b[1;32m    795\u001b[0m \u001b[39mdef\u001b[39;00m \u001b[39m_apply\u001b[39m(\u001b[39mself\u001b[39m, fn):\n\u001b[1;32m    796\u001b[0m     \u001b[39mfor\u001b[39;00m module \u001b[39min\u001b[39;00m \u001b[39mself\u001b[39m\u001b[39m.\u001b[39mchildren():\n\u001b[0;32m--> 797\u001b[0m         module\u001b[39m.\u001b[39;49m_apply(fn)\n\u001b[1;32m    799\u001b[0m     \u001b[39mdef\u001b[39;00m \u001b[39mcompute_should_use_set_data\u001b[39m(tensor, tensor_applied):\n\u001b[1;32m    800\u001b[0m         \u001b[39mif\u001b[39;00m torch\u001b[39m.\u001b[39m_has_compatible_shallow_copy_type(tensor, tensor_applied):\n\u001b[1;32m    801\u001b[0m             \u001b[39m# If the new tensor has compatible tensor type as the existing tensor,\u001b[39;00m\n\u001b[1;32m    802\u001b[0m             \u001b[39m# the current behavior is to change the tensor in-place using `.data =`,\u001b[39;00m\n\u001b[0;32m   (...)\u001b[0m\n\u001b[1;32m    807\u001b[0m             \u001b[39m# global flag to let the user control whether they want the future\u001b[39;00m\n\u001b[1;32m    808\u001b[0m             \u001b[39m# behavior of overwriting the existing tensor or not.\u001b[39;00m\n",
      "    \u001b[0;31m[... skipping similar frames: Module._apply at line 797 (1 times)]\u001b[0m\n",
      "File \u001b[0;32m~/miniforge3/envs/nli/lib/python3.11/site-packages/torch/nn/modules/module.py:797\u001b[0m, in \u001b[0;36mModule._apply\u001b[0;34m(self, fn)\u001b[0m\n\u001b[1;32m    795\u001b[0m \u001b[39mdef\u001b[39;00m \u001b[39m_apply\u001b[39m(\u001b[39mself\u001b[39m, fn):\n\u001b[1;32m    796\u001b[0m     \u001b[39mfor\u001b[39;00m module \u001b[39min\u001b[39;00m \u001b[39mself\u001b[39m\u001b[39m.\u001b[39mchildren():\n\u001b[0;32m--> 797\u001b[0m         module\u001b[39m.\u001b[39;49m_apply(fn)\n\u001b[1;32m    799\u001b[0m     \u001b[39mdef\u001b[39;00m \u001b[39mcompute_should_use_set_data\u001b[39m(tensor, tensor_applied):\n\u001b[1;32m    800\u001b[0m         \u001b[39mif\u001b[39;00m torch\u001b[39m.\u001b[39m_has_compatible_shallow_copy_type(tensor, tensor_applied):\n\u001b[1;32m    801\u001b[0m             \u001b[39m# If the new tensor has compatible tensor type as the existing tensor,\u001b[39;00m\n\u001b[1;32m    802\u001b[0m             \u001b[39m# the current behavior is to change the tensor in-place using `.data =`,\u001b[39;00m\n\u001b[0;32m   (...)\u001b[0m\n\u001b[1;32m    807\u001b[0m             \u001b[39m# global flag to let the user control whether they want the future\u001b[39;00m\n\u001b[1;32m    808\u001b[0m             \u001b[39m# behavior of overwriting the existing tensor or not.\u001b[39;00m\n",
      "File \u001b[0;32m~/miniforge3/envs/nli/lib/python3.11/site-packages/torch/nn/modules/module.py:820\u001b[0m, in \u001b[0;36mModule._apply\u001b[0;34m(self, fn)\u001b[0m\n\u001b[1;32m    816\u001b[0m \u001b[39m# Tensors stored in modules are graph leaves, and we don't want to\u001b[39;00m\n\u001b[1;32m    817\u001b[0m \u001b[39m# track autograd history of `param_applied`, so we have to use\u001b[39;00m\n\u001b[1;32m    818\u001b[0m \u001b[39m# `with torch.no_grad():`\u001b[39;00m\n\u001b[1;32m    819\u001b[0m \u001b[39mwith\u001b[39;00m torch\u001b[39m.\u001b[39mno_grad():\n\u001b[0;32m--> 820\u001b[0m     param_applied \u001b[39m=\u001b[39m fn(param)\n\u001b[1;32m    821\u001b[0m should_use_set_data \u001b[39m=\u001b[39m compute_should_use_set_data(param, param_applied)\n\u001b[1;32m    822\u001b[0m \u001b[39mif\u001b[39;00m should_use_set_data:\n",
      "File \u001b[0;32m~/miniforge3/envs/nli/lib/python3.11/site-packages/torch/nn/modules/module.py:1143\u001b[0m, in \u001b[0;36mModule.to.<locals>.convert\u001b[0;34m(t)\u001b[0m\n\u001b[1;32m   1140\u001b[0m \u001b[39mif\u001b[39;00m convert_to_format \u001b[39mis\u001b[39;00m \u001b[39mnot\u001b[39;00m \u001b[39mNone\u001b[39;00m \u001b[39mand\u001b[39;00m t\u001b[39m.\u001b[39mdim() \u001b[39min\u001b[39;00m (\u001b[39m4\u001b[39m, \u001b[39m5\u001b[39m):\n\u001b[1;32m   1141\u001b[0m     \u001b[39mreturn\u001b[39;00m t\u001b[39m.\u001b[39mto(device, dtype \u001b[39mif\u001b[39;00m t\u001b[39m.\u001b[39mis_floating_point() \u001b[39mor\u001b[39;00m t\u001b[39m.\u001b[39mis_complex() \u001b[39melse\u001b[39;00m \u001b[39mNone\u001b[39;00m,\n\u001b[1;32m   1142\u001b[0m                 non_blocking, memory_format\u001b[39m=\u001b[39mconvert_to_format)\n\u001b[0;32m-> 1143\u001b[0m \u001b[39mreturn\u001b[39;00m t\u001b[39m.\u001b[39;49mto(device, dtype \u001b[39mif\u001b[39;49;00m t\u001b[39m.\u001b[39;49mis_floating_point() \u001b[39mor\u001b[39;49;00m t\u001b[39m.\u001b[39;49mis_complex() \u001b[39melse\u001b[39;49;00m \u001b[39mNone\u001b[39;49;00m, non_blocking)\n",
      "\u001b[0;31mRuntimeError\u001b[0m: CUDA error: out of memory\nCompile with `TORCH_USE_CUDA_DSA` to enable device-side assertions.\n"
     ]
    }
   ],
   "source": [
    "model = ContractNLI(bert, len(get_labels()), ignore_index=get_labels()['Ignore']).to(DEVICE)"
   ]
  },
  {
   "cell_type": "code",
   "execution_count": null,
   "metadata": {},
   "outputs": [],
   "source": [
    "from torchinfo import summary"
   ]
  },
  {
   "cell_type": "code",
   "execution_count": null,
   "metadata": {},
   "outputs": [
    {
     "data": {
      "text/plain": [
       "=====================================================================================\n",
       "Layer (type:depth-idx)                                       Param #\n",
       "=====================================================================================\n",
       "ContractNLI                                                  --\n",
       "├─DistilBertForMaskedLM: 1-1                                 --\n",
       "│    └─GELUActivation: 2-1                                   --\n",
       "│    └─DistilBertModel: 2-2                                  --\n",
       "│    │    └─Embeddings: 3-1                                  (23,835,648)\n",
       "│    │    └─Transformer: 3-2                                 (42,527,232)\n",
       "│    └─Linear: 2-3                                           (590,592)\n",
       "│    └─LayerNorm: 2-4                                        (1,536)\n",
       "│    └─Linear: 2-5                                           (23,471,418)\n",
       "│    └─CrossEntropyLoss: 2-6                                 --\n",
       "├─CrossEntropyLoss: 1-2                                      --\n",
       "├─BCELoss: 1-3                                               --\n",
       "├─Sequential: 1-4                                            --\n",
       "│    └─Linear: 2-7                                           295,296\n",
       "│    └─ReLU: 2-8                                             --\n",
       "│    └─Linear: 2-9                                           385\n",
       "│    └─Sigmoid: 2-10                                         --\n",
       "├─Sequential: 1-5                                            --\n",
       "│    └─Linear: 2-11                                          295,296\n",
       "│    └─ReLU: 2-12                                            --\n",
       "│    └─Linear: 2-13                                          1,540\n",
       "=====================================================================================\n",
       "Total params: 91,018,943\n",
       "Trainable params: 592,517\n",
       "Non-trainable params: 90,426,426\n",
       "====================================================================================="
      ]
     },
     "execution_count": 29,
     "metadata": {},
     "output_type": "execute_result"
    }
   ],
   "source": [
    "summary(model)"
   ]
  },
  {
   "cell_type": "code",
   "execution_count": null,
   "metadata": {},
   "outputs": [],
   "source": [
    "model.fit(train_dataloader, dev_dataloader, epochs=10, lr=1e-3, ignore_index=get_labels()['Ignore'], lambda_=1)"
   ]
  },
  {
   "cell_type": "code",
   "execution_count": null,
   "metadata": {},
   "outputs": [],
   "source": []
  },
  {
   "cell_type": "code",
   "execution_count": null,
   "metadata": {},
   "outputs": [],
   "source": []
  }
 ],
 "metadata": {
  "kernelspec": {
   "display_name": "Python 3",
   "language": "python",
   "name": "python3"
  },
  "language_info": {
   "codemirror_mode": {
    "name": "ipython",
    "version": 3
   },
   "file_extension": ".py",
   "mimetype": "text/x-python",
   "name": "python",
   "nbconvert_exporter": "python",
   "pygments_lexer": "ipython3",
   "version": "3.11.5"
  },
  "orig_nbformat": 4
 },
 "nbformat": 4,
 "nbformat_minor": 2
}
