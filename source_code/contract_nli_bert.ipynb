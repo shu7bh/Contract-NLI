{
 "cells": [
  {
   "cell_type": "code",
   "execution_count": 14,
   "metadata": {},
   "outputs": [
    {
     "name": "stderr",
     "output_type": "stream",
     "text": [
      "DEBUG:urllib3.connectionpool:Resetting dropped connection: huggingface.co\n",
      "DEBUG:urllib3.connectionpool:https://huggingface.co:443 \"HEAD /bert-base-uncased/resolve/main/tokenizer_config.json HTTP/1.1\" 200 0\n",
      "DEBUG:urllib3.connectionpool:https://huggingface.co:443 \"HEAD /bert-base-uncased/resolve/main/config.json HTTP/1.1\" 200 0\n",
      "Some weights of the model checkpoint at bert-base-uncased were not used when initializing BertForMaskedLM: ['cls.seq_relationship.bias', 'bert.pooler.dense.weight', 'cls.seq_relationship.weight', 'bert.pooler.dense.bias']\n",
      "- This IS expected if you are initializing BertForMaskedLM from the checkpoint of a model trained on another task or with another architecture (e.g. initializing a BertForSequenceClassification model from a BertForPreTraining model).\n",
      "- This IS NOT expected if you are initializing BertForMaskedLM from the checkpoint of a model that you expect to be exactly identical (initializing a BertForSequenceClassification model from a BertForSequenceClassification model).\n",
      "DEBUG:urllib3.connectionpool:https://huggingface.co:443 \"HEAD /bert-base-uncased/resolve/main/generation_config.json HTTP/1.1\" 404 0\n"
     ]
    }
   ],
   "source": [
    "from transformers import AutoTokenizer, AutoModelForMaskedLM\n",
    "import logging as log\n",
    "\n",
    "log.basicConfig(level=log.DEBUG)\n",
    "\n",
    "tokenizer = AutoTokenizer.from_pretrained(\"bert-base-uncased\")\n",
    "bert = AutoModelForMaskedLM.from_pretrained(\"bert-base-uncased\")"
   ]
  },
  {
   "cell_type": "code",
   "execution_count": 2,
   "metadata": {},
   "outputs": [],
   "source": [
    "import sys\n",
    "sys.path.append('../')\n",
    "from baselines.utils import *\n",
    "import os"
   ]
  },
  {
   "cell_type": "code",
   "execution_count": 3,
   "metadata": {},
   "outputs": [],
   "source": [
    "train_data = load_data(os.path.join(cfg['DIR'], cfg['train_path']))\n",
    "dev_data = load_data(os.path.join(cfg['DIR'], cfg['dev_path']))\n",
    "test_data = load_data(os.path.join(cfg['DIR'], cfg['test_path']))"
   ]
  },
  {
   "cell_type": "code",
   "execution_count": 4,
   "metadata": {},
   "outputs": [],
   "source": [
    "hypothesis = get_hypothesis(train_data)"
   ]
  },
  {
   "cell_type": "code",
   "execution_count": 5,
   "metadata": {},
   "outputs": [],
   "source": [
    "from icecream import ic"
   ]
  },
  {
   "cell_type": "code",
   "execution_count": 89,
   "metadata": {},
   "outputs": [],
   "source": [
    "from torch.utils.data import Dataset\n",
    "import torch\n",
    "\n",
    "class NLIDataset(Dataset):\n",
    "    def __init__(self, data, tokenizer, hypothesis, max_len = 475):\n",
    "        self.data = data\n",
    "        self.tokenizer = tokenizer\n",
    "        self.hypothesis = hypothesis\n",
    "        self.max_len = max_len\n",
    "        self.spans = []\n",
    "        self.label_dict = get_labels()\n",
    "\n",
    "        for i, doc in enumerate(self.data['documents']):\n",
    "            for j, span in enumerate(doc['spans']):\n",
    "                self.spans.append({\n",
    "                    'doc_id': i,\n",
    "                    'span_id': j,\n",
    "                    'text': doc['text'][span[0]:span[1]]\n",
    "                })\n",
    "\n",
    "        self.data_points = []\n",
    "        self.span_label = []\n",
    "        self.nli_label = []\n",
    "\n",
    "        for key, val in self.hypothesis.items():\n",
    "            for span in self.spans:\n",
    "                self.span_label.append(int(span['span_id'] in self.data['documents'][span['doc_id']]['annotation_sets'][0]['annotations'][key]['spans']))\n",
    "                self.data_points.append({\n",
    "                    'hypotheis': val,\n",
    "                    'premise': span['text']\n",
    "                })\n",
    "\n",
    "                self.nli_label.append(self.label_dict[self.data['documents'][span['doc_id']]['annotation_sets'][0]['annotations'][key]['choice']])\n",
    "\n",
    "                if self.nli_label[-1] != self.label_dict['NotMentioned'] and self.span_label[-1] == 0:\n",
    "                    self.nli_label[-1] = self.label_dict['Ignore']\n",
    "\n",
    "\n",
    "        self.tokenized_data = self.tokenizer(\n",
    "            [data_point['hypotheis'] for data_point in self.data_points],\n",
    "            [data_point['premise'] for data_point in self.data_points],\n",
    "            padding='max_length',\n",
    "            truncation=True,\n",
    "            return_tensors='pt',\n",
    "        )\n",
    "\n",
    "        self.sep_indices = torch.where(self.tokenized_data['input_ids'] == self.tokenizer.sep_token_id)[1]\n",
    "\n",
    "        self.sep_indices = self.sep_indices[::2]\n",
    "\n",
    "    def __len__(self):\n",
    "        return len(self.data_points)\n",
    "\n",
    "    def __getitem__(self, idx):\n",
    "        return \\\n",
    "            self.tokenized_data['input_ids'][idx], \\\n",
    "            self.tokenized_data['attention_mask'][idx], \\\n",
    "            self.tokenized_data['token_type_ids'][idx], \\\n",
    "            torch.tensor(self.span_label[idx], dtype=torch.long), \\\n",
    "            torch.tensor(self.nli_label[idx], dtype=torch.long), \\\n",
    "            self.sep_indices[idx]"
   ]
  },
  {
   "cell_type": "code",
   "execution_count": 90,
   "metadata": {},
   "outputs": [],
   "source": [
    "# text = \"I love Adelaide!\"\n",
    "# # add_special_tokens=True is set by default\n",
    "# text_enc = tokenizer.encode(text, text, padding='max_length', return_tensors='pt')\n",
    "\n",
    "# log.debug(text_enc.shape)\n",
    "\n",
    "# for tok in text_enc:\n",
    "#     print(tok, tokenizer.decode(tok))"
   ]
  },
  {
   "cell_type": "code",
   "execution_count": 91,
   "metadata": {},
   "outputs": [],
   "source": [
    "train_dataset = NLIDataset(train_data, tokenizer, hypothesis)\n",
    "dev_dataset = NLIDataset(dev_data, tokenizer, hypothesis)\n",
    "test_dataset = NLIDataset(test_data, tokenizer, hypothesis)"
   ]
  },
  {
   "cell_type": "code",
   "execution_count": null,
   "metadata": {},
   "outputs": [],
   "source": [
    "from torch.utils.data import DataLoader\n",
    "\n",
    "train_loader = DataLoader(train_dataset, batch_size=32, shuffle=True)\n",
    "dev_loader = DataLoader(dev_dataset, batch_size=32, shuffle=True)\n",
    "test_loader = DataLoader(test_dataset, batch_size=32, shuffle=True)"
   ]
  },
  {
   "cell_type": "code",
   "execution_count": null,
   "metadata": {},
   "outputs": [
    {
     "name": "stderr",
     "output_type": "stream",
     "text": [
      "ic| DEVICE: device(type='cuda')\n"
     ]
    },
    {
     "data": {
      "text/plain": [
       "device(type='cuda')"
      ]
     },
     "execution_count": 78,
     "metadata": {},
     "output_type": "execute_result"
    }
   ],
   "source": [
    "DEVICE = torch.device('cuda') if torch.cuda.is_available() else torch.device('cpu')\n",
    "ic(DEVICE)"
   ]
  },
  {
   "cell_type": "code",
   "execution_count": null,
   "metadata": {},
   "outputs": [],
   "source": [
    "from tqdm import tqdm\n",
    "import numpy as np"
   ]
  },
  {
   "cell_type": "code",
   "execution_count": null,
   "metadata": {},
   "outputs": [],
   "source": [
    "from torch import nn\n",
    "import torch.nn.functional as F\n",
    "\n",
    "class ContractNLI(nn.Module):\n",
    "    def __init__(self, bert, num_labels=4):\n",
    "        super().__init__()\n",
    "        self.bert = bert\n",
    "        self.embedding_dim = self.bert.config.hidden_size\n",
    "        for param in self.bert.parameters():\n",
    "            param.requires_grad = False\n",
    "        self.num_labels = num_labels\n",
    "\n",
    "        self.span_classifier = nn.Linear(self.embedding_dim, 2)\n",
    "        self.nli_classifier = nn.Linear(self.embedding_dim, self.num_labels)\n",
    "\n",
    "    def forward(self, input_ids, attention_mask, token_type_ids, sep_index):\n",
    "        outputs = self.bert(input_ids, attention_mask=attention_mask, token_type_ids=token_type_ids, output_hidden_states=True)\n",
    "\n",
    "        ic(len(outputs))\n",
    "\n",
    "        sequence_output = outputs.hidden_states[-1]\n",
    "        ic(sequence_output.shape)\n",
    "\n",
    "        ic(sep_index.shape)\n",
    "        ic(sep_index)\n",
    "        ic(sequence_output[:, sep_index, :].shape)\n",
    "\n",
    "        span_logits = self.span_classifier(torch.gather(sequence_output, 1, sep_index.unsqueeze(1).expand(-1, sequence_output.shape[-1]).unsqueeze(1)).squeeze(1))\n",
    "        ic(span_logits.shape)\n",
    "\n",
    "        nli_logits = self.nli_classifier(sequence_output[:, 0, :])\n",
    "        ic(nli_logits.shape)\n",
    "\n",
    "        return span_logits, nli_logits\n",
    "\n",
    "    def fit(self, train_loader, dev_loader, epochs, lr, ignore_index):\n",
    "        ic.disable()\n",
    "        self.optimizer = torch.optim.Adam(self.parameters(), lr=lr)\n",
    "        self.nli_criterion = nn.CrossEntropyLoss(ignore_index=ignore_index)\n",
    "        self.span_criterion = nn.CrossEntropyLoss()\n",
    "        \n",
    "        for epoch in range(epochs):\n",
    "            print(f'Epoch: {epoch + 1}/{epochs}')\n",
    "            train_loss = self.__train(train_loader)\n",
    "            print(f'Train Loss: {train_loss:.4f}')\n",
    "            dev_loss = self.__validate(dev_loader)\n",
    "            print(f'Dev Loss: {dev_loss:.4f}')\n",
    "\n",
    "        ic.enable()\n",
    "\n",
    "    def __train(self, train_loader):\n",
    "        self.train()\n",
    "        total_loss = []\n",
    "\n",
    "        pbar = tqdm(train_loader)\n",
    "\n",
    "        for batch in pbar:\n",
    "            loss = self.__call(batch)\n",
    "            total_loss.append(loss.item())\n",
    "\n",
    "            self.optimizer.zero_grad()\n",
    "            loss.backward()\n",
    "            self.optimizer.step()\n",
    "\n",
    "            pbar.set_description(f'Loss: {loss.item():.4f}, Average Loss: {np.mean(total_loss):.4f}')\n",
    "\n",
    "        return np.mean(total_loss)\n",
    "    \n",
    "    def __validate(self, dev_loader):\n",
    "        self.eval()\n",
    "        total_loss = []\n",
    "\n",
    "        with torch.no_grad():\n",
    "            pbar = tqdm(dev_loader)\n",
    "\n",
    "            for batch in pbar:\n",
    "                loss = self.__call(batch)\n",
    "                total_loss.append(loss.item())\n",
    "\n",
    "                pbar.set_description(f'Loss: {loss.item():.4f}, Average Loss: {np.mean(total_loss):.4f}')\n",
    "\n",
    "        return np.mean(total_loss)\n",
    "        \n",
    "    def __call(self, batch):\n",
    "        input_ids, attention_mask, token_type_ids, span_label, nli_label, sep_index = tuple(t.to(DEVICE) for t in batch)\n",
    "        ic(input_ids.shape)\n",
    "        ic(attention_mask.shape)\n",
    "        ic(token_type_ids.shape)\n",
    "\n",
    "        span_logits, nli_logits = self(input_ids, attention_mask, token_type_ids, sep_index)\n",
    "\n",
    "        span_loss = self.span_criterion(span_logits, span_label)\n",
    "        nli_loss = self.nli_criterion(nli_logits, nli_label)\n",
    "\n",
    "        loss = span_loss + nli_loss\n",
    "\n",
    "        return loss\n"
   ]
  },
  {
   "cell_type": "code",
   "execution_count": 85,
   "metadata": {},
   "outputs": [],
   "source": [
    "model = ContractNLI(bert, num_labels=4).to(DEVICE)"
   ]
  },
  {
   "cell_type": "code",
   "execution_count": 86,
   "metadata": {},
   "outputs": [
    {
     "name": "stdout",
     "output_type": "stream",
     "text": [
      "Epoch: 1/5\n"
     ]
    },
    {
     "name": "stderr",
     "output_type": "stream",
     "text": [
      "  0%|          | 0/1 [00:00<?, ?it/s]ic| input_ids.shape: torch.Size([2, 512])\n",
      "ic| attention_mask.shape: torch.Size([2, 512])\n",
      "ic| token_type_ids.shape: torch.Size([2, 512])\n",
      "  0%|          | 0/1 [00:00<?, ?it/s]\n"
     ]
    },
    {
     "ename": "AttributeError",
     "evalue": "'NoneType' object has no attribute 'item'",
     "output_type": "error",
     "traceback": [
      "\u001b[0;31m---------------------------------------------------------------------------\u001b[0m",
      "\u001b[0;31mAttributeError\u001b[0m                            Traceback (most recent call last)",
      "\u001b[1;32m/home2/shu7bh/Courses/ANLP/Project/Contract-NLI/source_code/span_nli_bert.ipynb Cell 14\u001b[0m line \u001b[0;36m1\n\u001b[0;32m----> <a href='vscode-notebook-cell://ssh-remote%2Bgnode074/home2/shu7bh/Courses/ANLP/Project/Contract-NLI/source_code/span_nli_bert.ipynb#X22sdnNjb2RlLXJlbW90ZQ%3D%3D?line=0'>1</a>\u001b[0m model\u001b[39m.\u001b[39;49mfit(train_loader, dev_loader, epochs\u001b[39m=\u001b[39;49m\u001b[39m5\u001b[39;49m, lr\u001b[39m=\u001b[39;49m\u001b[39m1e-3\u001b[39;49m, ignore_index\u001b[39m=\u001b[39;49mget_labels()[\u001b[39m'\u001b[39;49m\u001b[39mIgnore\u001b[39;49m\u001b[39m'\u001b[39;49m])\n",
      "\u001b[1;32m/home2/shu7bh/Courses/ANLP/Project/Contract-NLI/source_code/span_nli_bert.ipynb Cell 14\u001b[0m line \u001b[0;36m4\n\u001b[1;32m     <a href='vscode-notebook-cell://ssh-remote%2Bgnode074/home2/shu7bh/Courses/ANLP/Project/Contract-NLI/source_code/span_nli_bert.ipynb#X22sdnNjb2RlLXJlbW90ZQ%3D%3D?line=41'>42</a>\u001b[0m \u001b[39mfor\u001b[39;00m epoch \u001b[39min\u001b[39;00m \u001b[39mrange\u001b[39m(epochs):\n\u001b[1;32m     <a href='vscode-notebook-cell://ssh-remote%2Bgnode074/home2/shu7bh/Courses/ANLP/Project/Contract-NLI/source_code/span_nli_bert.ipynb#X22sdnNjb2RlLXJlbW90ZQ%3D%3D?line=42'>43</a>\u001b[0m     \u001b[39mprint\u001b[39m(\u001b[39mf\u001b[39m\u001b[39m'\u001b[39m\u001b[39mEpoch: \u001b[39m\u001b[39m{\u001b[39;00mepoch\u001b[39m \u001b[39m\u001b[39m+\u001b[39m\u001b[39m \u001b[39m\u001b[39m1\u001b[39m\u001b[39m}\u001b[39;00m\u001b[39m/\u001b[39m\u001b[39m{\u001b[39;00mepochs\u001b[39m}\u001b[39;00m\u001b[39m'\u001b[39m)\n\u001b[0;32m---> <a href='vscode-notebook-cell://ssh-remote%2Bgnode074/home2/shu7bh/Courses/ANLP/Project/Contract-NLI/source_code/span_nli_bert.ipynb#X22sdnNjb2RlLXJlbW90ZQ%3D%3D?line=43'>44</a>\u001b[0m     train_loss \u001b[39m=\u001b[39m \u001b[39mself\u001b[39;49m\u001b[39m.\u001b[39;49m__train(train_loader)\n\u001b[1;32m     <a href='vscode-notebook-cell://ssh-remote%2Bgnode074/home2/shu7bh/Courses/ANLP/Project/Contract-NLI/source_code/span_nli_bert.ipynb#X22sdnNjb2RlLXJlbW90ZQ%3D%3D?line=44'>45</a>\u001b[0m     \u001b[39mprint\u001b[39m(\u001b[39mf\u001b[39m\u001b[39m'\u001b[39m\u001b[39mTrain Loss: \u001b[39m\u001b[39m{\u001b[39;00mtrain_loss\u001b[39m:\u001b[39;00m\u001b[39m.4f\u001b[39m\u001b[39m}\u001b[39;00m\u001b[39m'\u001b[39m)\n\u001b[1;32m     <a href='vscode-notebook-cell://ssh-remote%2Bgnode074/home2/shu7bh/Courses/ANLP/Project/Contract-NLI/source_code/span_nli_bert.ipynb#X22sdnNjb2RlLXJlbW90ZQ%3D%3D?line=45'>46</a>\u001b[0m     dev_loss \u001b[39m=\u001b[39m \u001b[39mself\u001b[39m\u001b[39m.\u001b[39m__validate(dev_loader)\n",
      "\u001b[1;32m/home2/shu7bh/Courses/ANLP/Project/Contract-NLI/source_code/span_nli_bert.ipynb Cell 14\u001b[0m line \u001b[0;36m5\n\u001b[1;32m     <a href='vscode-notebook-cell://ssh-remote%2Bgnode074/home2/shu7bh/Courses/ANLP/Project/Contract-NLI/source_code/span_nli_bert.ipynb#X22sdnNjb2RlLXJlbW90ZQ%3D%3D?line=56'>57</a>\u001b[0m \u001b[39mfor\u001b[39;00m batch \u001b[39min\u001b[39;00m pbar:\n\u001b[1;32m     <a href='vscode-notebook-cell://ssh-remote%2Bgnode074/home2/shu7bh/Courses/ANLP/Project/Contract-NLI/source_code/span_nli_bert.ipynb#X22sdnNjb2RlLXJlbW90ZQ%3D%3D?line=57'>58</a>\u001b[0m     loss \u001b[39m=\u001b[39m \u001b[39mself\u001b[39m\u001b[39m.\u001b[39m__call(batch)\n\u001b[0;32m---> <a href='vscode-notebook-cell://ssh-remote%2Bgnode074/home2/shu7bh/Courses/ANLP/Project/Contract-NLI/source_code/span_nli_bert.ipynb#X22sdnNjb2RlLXJlbW90ZQ%3D%3D?line=58'>59</a>\u001b[0m     total_loss\u001b[39m.\u001b[39mappend(loss\u001b[39m.\u001b[39;49mitem())\n\u001b[1;32m     <a href='vscode-notebook-cell://ssh-remote%2Bgnode074/home2/shu7bh/Courses/ANLP/Project/Contract-NLI/source_code/span_nli_bert.ipynb#X22sdnNjb2RlLXJlbW90ZQ%3D%3D?line=60'>61</a>\u001b[0m     \u001b[39mself\u001b[39m\u001b[39m.\u001b[39moptimizer\u001b[39m.\u001b[39mzero_grad()\n\u001b[1;32m     <a href='vscode-notebook-cell://ssh-remote%2Bgnode074/home2/shu7bh/Courses/ANLP/Project/Contract-NLI/source_code/span_nli_bert.ipynb#X22sdnNjb2RlLXJlbW90ZQ%3D%3D?line=61'>62</a>\u001b[0m     loss\u001b[39m.\u001b[39mbackward()\n",
      "\u001b[0;31mAttributeError\u001b[0m: 'NoneType' object has no attribute 'item'"
     ]
    }
   ],
   "source": [
    "model.fit(train_loader, dev_loader, epochs=5, lr=1e-3, ignore_index=get_labels()['Ignore'])"
   ]
  },
  {
   "cell_type": "code",
   "execution_count": null,
   "metadata": {},
   "outputs": [],
   "source": []
  },
  {
   "cell_type": "code",
   "execution_count": null,
   "metadata": {},
   "outputs": [],
   "source": []
  }
 ],
 "metadata": {
  "kernelspec": {
   "display_name": "Python 3",
   "language": "python",
   "name": "python3"
  },
  "language_info": {
   "codemirror_mode": {
    "name": "ipython",
    "version": 3
   },
   "file_extension": ".py",
   "mimetype": "text/x-python",
   "name": "python",
   "nbconvert_exporter": "python",
   "pygments_lexer": "ipython3",
   "version": "3.11.5"
  },
  "orig_nbformat": 4
 },
 "nbformat": 4,
 "nbformat_minor": 2
}
