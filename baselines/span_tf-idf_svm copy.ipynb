{
 "cells": [
  {
   "cell_type": "code",
   "execution_count": 1,
   "metadata": {},
   "outputs": [],
   "source": [
    "import pandas as pd\n",
    "import torch\n",
    "import json\n",
    "from sklearn.feature_extraction.text import TfidfVectorizer\n",
    "import nltk"
   ]
  },
  {
   "cell_type": "code",
   "execution_count": 2,
   "metadata": {},
   "outputs": [
    {
     "name": "stdout",
     "output_type": "stream",
     "text": [
      "['i', 'am', 'a', 'boy', '.', 'i', 'live', 'in', 'hyderabad', '.']\n"
     ]
    }
   ],
   "source": [
    "test_string = \"I am a boy. I live in Hyderabad.\"\n",
    "test_string = test_string.lower()\n",
    "\n",
    "# Tokenize the string\n",
    "tokens = nltk.word_tokenize(test_string)\n",
    "print(tokens)"
   ]
  },
  {
   "cell_type": "code",
   "execution_count": 3,
   "metadata": {},
   "outputs": [],
   "source": [
    "start_token_idx = 1\n",
    "end_token_idx = 2\n",
    "\n",
    "def get_span(text, start_token_idx, end_token_idx):\n",
    "    tokenzied = nlp(text)\n",
    "    start_token = tokenzied.sentences[0].tokens[start_token_idx]\n",
    "    end_token = tokenzied.sentences[0].tokens[end_token_idx]\n",
    "    return start_token.start_char, end_token.end_char"
   ]
  },
  {
   "cell_type": "code",
   "execution_count": 1,
   "metadata": {},
   "outputs": [],
   "source": [
    "cfg = {\n",
    "    'DIR': '../dataset/',\n",
    "    'train_path': 'train.json',\n",
    "    'test_path': 'test.json',\n",
    "    'dev_path': 'dev.json',\n",
    "}"
   ]
  },
  {
   "cell_type": "code",
   "execution_count": null,
   "metadata": {},
   "outputs": [],
   "source": [
    "import os\n",
    "\n",
    "def load_data(path: str) -> json:\n",
    "    with open(os.path.join(cfg['DIR'], path), 'r') as f:\n",
    "        data = json.load(f)\n",
    "    return data"
   ]
  },
  {
   "cell_type": "code",
   "execution_count": null,
   "metadata": {},
   "outputs": [],
   "source": [
    "import re\n",
    "\n",
    "def clean_str(str: str) -> str:\n",
    "    # remove '\\n' character\n",
    "    str = str.replace('\\n', ' ')\n",
    "    # remove '\\t' character\n",
    "    str = re.sub(r'\\\\t', ' ', str)\n",
    "    # remove '\\r' character\n",
    "    str = re.sub(r'\\\\r', ' ', str)\n",
    "    # remove more than 2 consecutive occcurance of a character\n",
    "    str = re.sub(r'(.)\\1{2,}', r'\\1', str)\n",
    "    return str.strip().lower()"
   ]
  },
  {
   "cell_type": "code",
   "execution_count": null,
   "metadata": {},
   "outputs": [],
   "source": [
    "def clean_data(data: dict) -> None:\n",
    "    for i in range(len(data['documents'])):\n",
    "        data['documents'][i]['text'] = clean_str(data['documents'][i]['text'])"
   ]
  },
  {
   "cell_type": "code",
   "execution_count": null,
   "metadata": {},
   "outputs": [],
   "source": [
    "from sklearn.feature_extraction.text import TfidfVectorizer\n",
    "def get_XY(data: dict, tfidf: TfidfVectorizer, hypothesis: dict, labels: dict) -> (list, list):\n",
    "    \n",
    "    X = []\n",
    "    Y = []\n",
    "    for i in range(len(data[\"documents\"])):\n",
    "        doc_text = data[\"documents\"][i][\"text\"]\n",
    "        tokenized_doc = nltk.word_tokenize(doc_text)\n",
    "\n",
    "        for key, val in hypothesis.items():\n",
    "\n",
    "            hypothesis_vector = tfidf.transform([val]).toarray().tolist()[0]\n",
    "\n",
    "            for span in data[\"documents\"][i][\"annotation_sets\"][0][\"annotations\"][key][\"spans\"]:\n",
    "                start_idx = span[0]\n",
    "                end_idx = span[1]\n",
    "\n",
    "                # get the span text\n",
    "                span_text = tokenized_doc[start_idx:end_idx]\n",
    "                span_text = \" \".join(span_text)\n",
    "\n",
    "                # get the span vector\n",
    "                premise_vector = tfidf.transform([span_text]).toarray().tolist()[0]\n",
    "\n",
    "                # concatenate premise and hypothesis\n",
    "                X += [premise_vector + hypothesis_vector]\n",
    "                Y += [labels[data[\"documents\"][i][\"annotation_sets\"][0][\"annotations\"][key][\"choice\"]]]\n",
    "                \n",
    "    return X, Y\n",
    "        "
   ]
  }
 ],
 "metadata": {
  "kernelspec": {
   "display_name": "main",
   "language": "python",
   "name": "python3"
  },
  "language_info": {
   "codemirror_mode": {
    "name": "ipython",
    "version": 3
   },
   "file_extension": ".py",
   "mimetype": "text/x-python",
   "name": "python",
   "nbconvert_exporter": "python",
   "pygments_lexer": "ipython3",
   "version": "3.11.4"
  },
  "orig_nbformat": 4
 },
 "nbformat": 4,
 "nbformat_minor": 2
}
