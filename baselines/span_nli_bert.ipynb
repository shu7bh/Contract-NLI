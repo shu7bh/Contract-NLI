{
 "cells": [
  {
   "cell_type": "code",
   "execution_count": 1,
   "metadata": {},
   "outputs": [],
   "source": [
    "import numpy as np\n",
    "from utils import cfg, load_data, get_labels, get_hypothesis, tokenize, clean_str"
   ]
  },
  {
   "cell_type": "code",
   "execution_count": 2,
   "metadata": {},
   "outputs": [],
   "source": [
    "def Dynamic_Context_Segmentation(B, T, n, l):\n",
    "    contexts = []\n",
    "    start = 0\n",
    "\n",
    "    while len(B) > 0:\n",
    "        for bi in list(B):\n",
    "            if bi - start <= l:\n",
    "                B.remove(bi - 1)\n",
    "                end = bi - 1\n",
    "        contexts.append(T[start : (start + l)])\n",
    "        start = end - n\n",
    "\n",
    "    return contexts"
   ]
  },
  {
   "cell_type": "code",
   "execution_count": 4,
   "metadata": {},
   "outputs": [],
   "source": [
    "train = load_data(cfg['train_path'])"
   ]
  },
  {
   "cell_type": "code",
   "execution_count": 7,
   "metadata": {},
   "outputs": [],
   "source": [
    "doc_spans = []\n",
    "for doc in train[\"documents\"]:\n",
    "    cur_doc_spans = []\n",
    "    for span in doc[\"spans\"]:\n",
    "        cur_doc_spans.append(span)\n",
    "    doc_spans.append(cur_doc_spans)"
   ]
  },
  {
   "cell_type": "code",
   "execution_count": null,
   "metadata": {},
   "outputs": [],
   "source": [
    "contexts = Dynamic_Context_Segmentation(doc_spans[0], train[\"documents\"][0][\"text\"], 2, 512)"
   ]
  },
  {
   "cell_type": "code",
   "execution_count": null,
   "metadata": {},
   "outputs": [],
   "source": []
  }
 ],
 "metadata": {
  "kernelspec": {
   "display_name": "nli",
   "language": "python",
   "name": "python3"
  },
  "language_info": {
   "codemirror_mode": {
    "name": "ipython",
    "version": 3
   },
   "file_extension": ".py",
   "mimetype": "text/x-python",
   "name": "python",
   "nbconvert_exporter": "python",
   "pygments_lexer": "ipython3",
   "version": "3.11.5"
  },
  "orig_nbformat": 4
 },
 "nbformat": 4,
 "nbformat_minor": 2
}
