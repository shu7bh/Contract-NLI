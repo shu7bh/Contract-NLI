{
 "cells": [
  {
   "cell_type": "code",
   "execution_count": 15,
   "metadata": {},
   "outputs": [],
   "source": [
    "from sklearn.feature_extraction.text import TfidfVectorizer\n",
    "import numpy as np\n",
    "from utils import cfg, load_data, get_labels, get_hypothesis, tokenize, clean_str"
   ]
  },
  {
   "cell_type": "code",
   "execution_count": 16,
   "metadata": {},
   "outputs": [],
   "source": [
    "class RandomModel():\n",
    "    def __init__(self) -> None:\n",
    "        pass \n",
    "\n",
    "    def predict(self, X):\n",
    "        return np.random.randint(2, size=len(X))"
   ]
  },
  {
   "cell_type": "code",
   "execution_count": 17,
   "metadata": {},
   "outputs": [],
   "source": [
    "def clean_data(data: dict) -> None:\n",
    "    for i in range(len(data['documents'])):\n",
    "        data['documents'][i]['text'] = clean_str(data['documents'][i]['text'])"
   ]
  },
  {
   "cell_type": "code",
   "execution_count": 18,
   "metadata": {},
   "outputs": [],
   "source": [
    "from sklearn.feature_extraction.text import TfidfVectorizer\n",
    "from sklearn.metrics.pairwise import cosine_similarity\n",
    "from tqdm import tqdm\n",
    "\n",
    "def get_Ypred_Ytrue(data: dict, hypothesis: dict) -> (list, list):\n",
    "\n",
    "    Y_pred = []\n",
    "    Y_true = []\n",
    "\n",
    "    model = RandomModel()\n",
    "\n",
    "    for i in tqdm(range(len(data[\"documents\"]))):\n",
    "        doc_text = data[\"documents\"][i][\"text\"]\n",
    "\n",
    "        Y_pred_curdoc = []\n",
    "        Y_true_curdoc = []\n",
    "\n",
    "        for key, val in hypothesis.items():\n",
    "            \n",
    "            choice = data[\"documents\"][i][\"annotation_sets\"][0][\"annotations\"][key][\"choice\"]\n",
    "            if choice == \"NotMentioned\":\n",
    "                continue\n",
    "\n",
    "            spans_for_hypothesis = data[\"documents\"][i][\"annotation_sets\"][0][\"annotations\"][key][\"spans\"]\n",
    "\n",
    "            for j, span in enumerate(data[\"documents\"][i][\"spans\"]):\n",
    "\n",
    "                if j in spans_for_hypothesis:\n",
    "                    Y_true_curdoc.append(1)\n",
    "                else:\n",
    "                    Y_true_curdoc.append(0)\n",
    "        \n",
    "        Y_pred.append(model.predict(Y_true_curdoc))\n",
    "        Y_true.append(Y_true_curdoc)\n",
    "\n",
    "    return Y_pred, Y_true\n"
   ]
  },
  {
   "cell_type": "code",
   "execution_count": 19,
   "metadata": {},
   "outputs": [],
   "source": [
    "train = load_data(cfg['train_path'])\n",
    "clean_data(train)\n",
    "hypothesis = get_hypothesis(train)\n",
    "labels = get_labels()"
   ]
  },
  {
   "cell_type": "code",
   "execution_count": 20,
   "metadata": {},
   "outputs": [],
   "source": [
    "from sklearn.metrics import precision_recall_curve\n",
    "from sklearn.metrics import accuracy_score\n",
    "\n",
    "def precision_at_80_recall(ypred, ytrue):\n",
    "    precision, recall, thresholds = precision_recall_curve(ytrue, ypred)\n",
    "    idx = (abs(recall - 0.8)).argmin()\n",
    "    return precision[idx]"
   ]
  },
  {
   "cell_type": "code",
   "execution_count": 21,
   "metadata": {},
   "outputs": [],
   "source": [
    "test = load_data(cfg['test_path'])"
   ]
  },
  {
   "cell_type": "code",
   "execution_count": 22,
   "metadata": {},
   "outputs": [
    {
     "name": "stderr",
     "output_type": "stream",
     "text": [
      "100%|██████████| 123/123 [00:00<00:00, 7927.40it/s]\n"
     ]
    }
   ],
   "source": [
    "Y_pred_test, Y_true_test = get_Ypred_Ytrue(test, hypothesis)"
   ]
  },
  {
   "cell_type": "code",
   "execution_count": 23,
   "metadata": {},
   "outputs": [],
   "source": [
    "from sklearn.metrics import average_precision_score\n",
    "def mean_average_precision(Y_pred, Y_true):\n",
    "    average_prec_scores = []\n",
    "    for i in range(len(Y_true)):\n",
    "        average_prec_scores.append(average_precision_score(Y_true[i], Y_pred[i], average='micro'))\n",
    "    return np.mean(average_prec_scores)"
   ]
  },
  {
   "cell_type": "code",
   "execution_count": 24,
   "metadata": {},
   "outputs": [],
   "source": [
    "all_y_pred_test = np.concatenate(Y_pred_test)\n",
    "all_y_true_test = np.concatenate(Y_true_test)"
   ]
  },
  {
   "cell_type": "code",
   "execution_count": 26,
   "metadata": {},
   "outputs": [
    {
     "name": "stdout",
     "output_type": "stream",
     "text": [
      "Precision @ 80% recall:  0.03193364517039439\n",
      "Mean Average Precision:  0.03106622258154932\n"
     ]
    }
   ],
   "source": [
    "prec_arr = []\n",
    "for i in range(len(Y_true_test)):\n",
    "    prec_arr.append(precision_at_80_recall(Y_pred_test[i], Y_true_test[i]))\n",
    "\n",
    "print(\"Precision @ 80% recall: \", np.mean(np.array(prec_arr)))\n",
    "print(\"Mean Average Precision: \", mean_average_precision(Y_pred_test, Y_true_test))"
   ]
  },
  {
   "cell_type": "code",
   "execution_count": null,
   "metadata": {},
   "outputs": [],
   "source": []
  }
 ],
 "metadata": {
  "kernelspec": {
   "display_name": "nli",
   "language": "python",
   "name": "python3"
  },
  "language_info": {
   "codemirror_mode": {
    "name": "ipython",
    "version": 3
   },
   "file_extension": ".py",
   "mimetype": "text/x-python",
   "name": "python",
   "nbconvert_exporter": "python",
   "pygments_lexer": "ipython3",
   "version": "3.11.5"
  },
  "orig_nbformat": 4
 },
 "nbformat": 4,
 "nbformat_minor": 2
}
