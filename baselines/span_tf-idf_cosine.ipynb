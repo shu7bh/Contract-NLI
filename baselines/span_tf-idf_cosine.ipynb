{
  "cells": [
    {
      "cell_type": "code",
      "execution_count": null,
      "metadata": {
        "id": "N0ZxbaciClpS"
      },
      "outputs": [],
      "source": [
        "from sklearn.feature_extraction.text import TfidfVectorizer\n",
        "import numpy as np\n",
        "from utils import cfg, load_data, get_labels, get_hypothesis, tokenize, clean_str"
      ]
    },
    {
      "cell_type": "code",
      "execution_count": 2,
      "metadata": {
        "colab": {
          "base_uri": "https://localhost:8080/"
        },
        "id": "t1k99rZXCx3q",
        "outputId": "5099db78-6e7c-4d22-e453-b694a489ea5a"
      },
      "outputs": [
        {
          "name": "stdout",
          "output_type": "stream",
          "text": [
            "Mounted at /content/drive\n"
          ]
        }
      ],
      "source": [
        "# from google.colab import drive\n",
        "# drive.mount('/content/drive')"
      ]
    },
    {
      "cell_type": "code",
      "execution_count": 7,
      "metadata": {
        "id": "iwx5tW11Clpa"
      },
      "outputs": [],
      "source": [
        "def clean_data(data: dict) -> None:\n",
        "    for i in range(len(data['documents'])):\n",
        "        data['documents'][i]['text'] = clean_str(data['documents'][i]['text'])"
      ]
    },
    {
      "cell_type": "code",
      "execution_count": 13,
      "metadata": {
        "id": "p1-_9JJZClpn"
      },
      "outputs": [],
      "source": [
        "from sklearn.feature_extraction.text import TfidfVectorizer\n",
        "from sklearn.metrics.pairwise import cosine_similarity\n",
        "from tqdm import tqdm\n",
        "\n",
        "def get_Ypred_Ytrue(data: dict, tfidf: TfidfVectorizer, hypothesis: dict) -> (list, list):\n",
        "\n",
        "    Y_pred = []\n",
        "    Y_true = []\n",
        "\n",
        "    hypothesis_vecs = {}\n",
        "    for key, val in hypothesis.items():\n",
        "        hypothesis_vecs[key] = tfidf.transform([val])\n",
        "\n",
        "    for i in tqdm(range(len(data[\"documents\"]))):\n",
        "        doc_text = data[\"documents\"][i][\"text\"]\n",
        "\n",
        "        Y_pred_curdoc = []\n",
        "        Y_true_curdoc = []\n",
        "\n",
        "        for key, val in hypothesis.items():\n",
        "            \n",
        "            choice = data[\"documents\"][i][\"annotation_sets\"][0][\"annotations\"][key][\"choice\"]\n",
        "            if choice == \"NotMentioned\":\n",
        "                continue\n",
        "\n",
        "            spans_for_hypothesis = data[\"documents\"][i][\"annotation_sets\"][0][\"annotations\"][key][\"spans\"]\n",
        "\n",
        "            for j, span in enumerate(data[\"documents\"][i][\"spans\"]):\n",
        "                start_idx = span[0]\n",
        "                end_idx = span[1]\n",
        "\n",
        "                span_text = doc_text[start_idx:end_idx]\n",
        "                span_vector = tfidf.transform([span_text])\n",
        "\n",
        "                cosine_sim = cosine_similarity(span_vector, hypothesis_vecs[key])[0][0]\n",
        "                Y_pred_curdoc.append(cosine_sim)\n",
        "\n",
        "                if j in spans_for_hypothesis:\n",
        "                    Y_true_curdoc.append(1)\n",
        "                else:\n",
        "                    Y_true_curdoc.append(0)\n",
        "        \n",
        "        Y_pred.append(Y_pred_curdoc)\n",
        "        Y_true.append(Y_true_curdoc)\n",
        "\n",
        "    return Y_pred, Y_true\n"
      ]
    },
    {
      "cell_type": "code",
      "execution_count": 36,
      "metadata": {
        "id": "eUP-7n7rClpp"
      },
      "outputs": [],
      "source": [
        "train = load_data(cfg['train_path'])\n",
        "clean_data(train)\n",
        "hypothesis = get_hypothesis(train)\n",
        "labels = get_labels()"
      ]
    },
    {
      "cell_type": "code",
      "execution_count": 37,
      "metadata": {
        "colab": {
          "base_uri": "https://localhost:8080/",
          "height": 74
        },
        "id": "bvmwL1lNClpp",
        "outputId": "44453aa7-10d8-44ec-9570-4eaf51409c0c"
      },
      "outputs": [
        {
          "data": {
            "text/html": [
              "<style>#sk-container-id-2 {color: black;background-color: white;}#sk-container-id-2 pre{padding: 0;}#sk-container-id-2 div.sk-toggleable {background-color: white;}#sk-container-id-2 label.sk-toggleable__label {cursor: pointer;display: block;width: 100%;margin-bottom: 0;padding: 0.3em;box-sizing: border-box;text-align: center;}#sk-container-id-2 label.sk-toggleable__label-arrow:before {content: \"▸\";float: left;margin-right: 0.25em;color: #696969;}#sk-container-id-2 label.sk-toggleable__label-arrow:hover:before {color: black;}#sk-container-id-2 div.sk-estimator:hover label.sk-toggleable__label-arrow:before {color: black;}#sk-container-id-2 div.sk-toggleable__content {max-height: 0;max-width: 0;overflow: hidden;text-align: left;background-color: #f0f8ff;}#sk-container-id-2 div.sk-toggleable__content pre {margin: 0.2em;color: black;border-radius: 0.25em;background-color: #f0f8ff;}#sk-container-id-2 input.sk-toggleable__control:checked~div.sk-toggleable__content {max-height: 200px;max-width: 100%;overflow: auto;}#sk-container-id-2 input.sk-toggleable__control:checked~label.sk-toggleable__label-arrow:before {content: \"▾\";}#sk-container-id-2 div.sk-estimator input.sk-toggleable__control:checked~label.sk-toggleable__label {background-color: #d4ebff;}#sk-container-id-2 div.sk-label input.sk-toggleable__control:checked~label.sk-toggleable__label {background-color: #d4ebff;}#sk-container-id-2 input.sk-hidden--visually {border: 0;clip: rect(1px 1px 1px 1px);clip: rect(1px, 1px, 1px, 1px);height: 1px;margin: -1px;overflow: hidden;padding: 0;position: absolute;width: 1px;}#sk-container-id-2 div.sk-estimator {font-family: monospace;background-color: #f0f8ff;border: 1px dotted black;border-radius: 0.25em;box-sizing: border-box;margin-bottom: 0.5em;}#sk-container-id-2 div.sk-estimator:hover {background-color: #d4ebff;}#sk-container-id-2 div.sk-parallel-item::after {content: \"\";width: 100%;border-bottom: 1px solid gray;flex-grow: 1;}#sk-container-id-2 div.sk-label:hover label.sk-toggleable__label {background-color: #d4ebff;}#sk-container-id-2 div.sk-serial::before {content: \"\";position: absolute;border-left: 1px solid gray;box-sizing: border-box;top: 0;bottom: 0;left: 50%;z-index: 0;}#sk-container-id-2 div.sk-serial {display: flex;flex-direction: column;align-items: center;background-color: white;padding-right: 0.2em;padding-left: 0.2em;position: relative;}#sk-container-id-2 div.sk-item {position: relative;z-index: 1;}#sk-container-id-2 div.sk-parallel {display: flex;align-items: stretch;justify-content: center;background-color: white;position: relative;}#sk-container-id-2 div.sk-item::before, #sk-container-id-2 div.sk-parallel-item::before {content: \"\";position: absolute;border-left: 1px solid gray;box-sizing: border-box;top: 0;bottom: 0;left: 50%;z-index: -1;}#sk-container-id-2 div.sk-parallel-item {display: flex;flex-direction: column;z-index: 1;position: relative;background-color: white;}#sk-container-id-2 div.sk-parallel-item:first-child::after {align-self: flex-end;width: 50%;}#sk-container-id-2 div.sk-parallel-item:last-child::after {align-self: flex-start;width: 50%;}#sk-container-id-2 div.sk-parallel-item:only-child::after {width: 0;}#sk-container-id-2 div.sk-dashed-wrapped {border: 1px dashed gray;margin: 0 0.4em 0.5em 0.4em;box-sizing: border-box;padding-bottom: 0.4em;background-color: white;}#sk-container-id-2 div.sk-label label {font-family: monospace;font-weight: bold;display: inline-block;line-height: 1.2em;}#sk-container-id-2 div.sk-label-container {text-align: center;}#sk-container-id-2 div.sk-container {/* jupyter's `normalize.less` sets `[hidden] { display: none; }` but bootstrap.min.css set `[hidden] { display: none !important; }` so we also need the `!important` here to be able to override the default hidden behavior on the sphinx rendered scikit-learn.org. See: https://github.com/scikit-learn/scikit-learn/issues/21755 */display: inline-block !important;position: relative;}#sk-container-id-2 div.sk-text-repr-fallback {display: none;}</style><div id=\"sk-container-id-2\" class=\"sk-top-container\"><div class=\"sk-text-repr-fallback\"><pre>TfidfVectorizer()</pre><b>In a Jupyter environment, please rerun this cell to show the HTML representation or trust the notebook. <br />On GitHub, the HTML representation is unable to render, please try loading this page with nbviewer.org.</b></div><div class=\"sk-container\" hidden><div class=\"sk-item\"><div class=\"sk-estimator sk-toggleable\"><input class=\"sk-toggleable__control sk-hidden--visually\" id=\"sk-estimator-id-2\" type=\"checkbox\" checked><label for=\"sk-estimator-id-2\" class=\"sk-toggleable__label sk-toggleable__label-arrow\">TfidfVectorizer</label><div class=\"sk-toggleable__content\"><pre>TfidfVectorizer()</pre></div></div></div></div></div>"
            ],
            "text/plain": [
              "TfidfVectorizer()"
            ]
          },
          "execution_count": 37,
          "metadata": {},
          "output_type": "execute_result"
        }
      ],
      "source": [
        "all_text = []\n",
        "\n",
        "for i in range(len(train[\"documents\"])):\n",
        "    all_text.append(train[\"documents\"][i][\"text\"])\n",
        "\n",
        "tfidf = TfidfVectorizer()\n",
        "tfidf.fit(all_text)"
      ]
    },
    {
      "cell_type": "code",
      "execution_count": 19,
      "metadata": {
        "id": "v39WiNVwClpq"
      },
      "outputs": [],
      "source": [
        "from sklearn.metrics import precision_recall_curve\n",
        "from sklearn.metrics import accuracy_score\n",
        "\n",
        "def precision_at_80_recall(ypred, ytrue):\n",
        "    precision, recall, thresholds = precision_recall_curve(ytrue, ypred)\n",
        "    idx = (abs(recall - 0.8)).argmin()\n",
        "    return precision[idx]"
      ]
    },
    {
      "cell_type": "code",
      "execution_count": 22,
      "metadata": {
        "id": "TzRrXFtKClps"
      },
      "outputs": [],
      "source": [
        "test = load_data(cfg['test_path'])"
      ]
    },
    {
      "cell_type": "code",
      "execution_count": 38,
      "metadata": {
        "colab": {
          "base_uri": "https://localhost:8080/"
        },
        "id": "z0kD2swBDyga",
        "outputId": "8954abd4-0886-4603-f1c3-01dd69ad8582"
      },
      "outputs": [
        {
          "name": "stderr",
          "output_type": "stream",
          "text": [
            "100%|██████████| 123/123 [02:00<00:00,  1.02it/s]\n"
          ]
        }
      ],
      "source": [
        "Y_pred_test, Y_true_test = get_Ypred_Ytrue(test, tfidf, hypothesis, labels, threshold=0.4)"
      ]
    },
    {
      "cell_type": "code",
      "execution_count": 43,
      "metadata": {
        "id": "K2lU3zQUFaXC"
      },
      "outputs": [],
      "source": [
        "from sklearn.metrics import average_precision_score\n",
        "def mean_average_precision(Y_pred, Y_true):\n",
        "    average_prec_scores = []\n",
        "    for i in range(len(Y_true)):\n",
        "        average_prec_scores.append(average_precision_score(Y_true[i], Y_pred[i], average='micro'))\n",
        "    return np.mean(average_prec_scores)"
      ]
    },
    {
      "cell_type": "code",
      "execution_count": 24,
      "metadata": {
        "id": "ke32xNANEK7H"
      },
      "outputs": [],
      "source": [
        "all_y_pred_test = np.concatenate(Y_pred_test)\n",
        "all_y_true_test = np.concatenate(Y_true_test)"
      ]
    },
    {
      "cell_type": "code",
      "execution_count": null,
      "metadata": {
        "id": "kAFYUXVXClp4"
      },
      "outputs": [],
      "source": [
        "prec_arr = []\n",
        "for i in range(len(Y_true_test)):\n",
        "    prec_arr.append(precision_at_80_recall(Y_pred_test[i], Y_true_test[i]))\n",
        "\n",
        "print(\"Precision @ 80\\% recall: \", np.mean(np.array(prec_arr)))\n",
        "print(\"Mean Average Precision: \", mean_average_precision(Y_pred_test, Y_true_test))"
      ]
    }
  ],
  "metadata": {
    "accelerator": "TPU",
    "colab": {
      "provenance": []
    },
    "kernelspec": {
      "display_name": "Python 3",
      "name": "python3"
    },
    "language_info": {
      "codemirror_mode": {
        "name": "ipython",
        "version": 3
      },
      "file_extension": ".py",
      "mimetype": "text/x-python",
      "name": "python",
      "nbconvert_exporter": "python",
      "pygments_lexer": "ipython3",
      "version": "3.11.5"
    },
    "orig_nbformat": 4
  },
  "nbformat": 4,
  "nbformat_minor": 0
}
